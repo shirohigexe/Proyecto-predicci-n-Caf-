{
 "cells": [
  {
   "cell_type": "code",
   "id": "initial_id",
   "metadata": {
    "collapsed": true,
    "ExecuteTime": {
     "end_time": "2025-07-12T22:09:28.369813Z",
     "start_time": "2025-07-12T22:09:28.360612Z"
    }
   },
   "source": [
    "import pandas as pd\n",
    "import numpy as np\n",
    "from sklearn.model_selection import train_test_split\n",
    "from sklearn.preprocessing import StandardScaler, LabelEncoder\n",
    "from sklearn.compose import ColumnTransformer\n",
    "from sklearn.linear_model import LinearRegression\n",
    "from sklearn.ensemble import RandomForestRegressor\n",
    "from sklearn.metrics import mean_squared_error, r2_score\n"
   ],
   "outputs": [],
   "execution_count": 338
  },
  {
   "metadata": {},
   "cell_type": "markdown",
   "source": "# **ANALISIS EXPLORATORIO**",
   "id": "5ba82998f213c62a"
  },
  {
   "metadata": {},
   "cell_type": "markdown",
   "source": "Cargamos e inspeccionamos los datos",
   "id": "2223101ece748984"
  },
  {
   "metadata": {
    "ExecuteTime": {
     "end_time": "2025-07-12T22:09:31.497994Z",
     "start_time": "2025-07-12T22:09:29.927557Z"
    }
   },
   "cell_type": "code",
   "source": [
    "Ctrl_trillado = pd.read_excel('CC FT 17   Formato de Control de Calidad Café de Trillado (1).xlsx', header = 5)\n",
    "Formato_tostion = pd.read_excel('CC FT 18  Formato de  Tostión (1).xlsx', header = 5)\n",
    "Formato_Despachos = pd.read_excel('CC FT 21   Formato de Control de Despachos (1).xlsx', header = 5)"
   ],
   "id": "4d6c55522bafd389",
   "outputs": [],
   "execution_count": 339
  },
  {
   "metadata": {
    "ExecuteTime": {
     "end_time": "2025-07-12T22:09:32.826648Z",
     "start_time": "2025-07-12T22:09:32.792842Z"
    }
   },
   "cell_type": "code",
   "source": [
    "print('info de tablas:')\n",
    "print(Ctrl_trillado.info(),Formato_tostion.info(),Formato_Despachos.info())"
   ],
   "id": "5b6e1464e7e908fd",
   "outputs": [
    {
     "name": "stdout",
     "output_type": "stream",
     "text": [
      "info de tablas:\n",
      "<class 'pandas.core.frame.DataFrame'>\n",
      "RangeIndex: 95 entries, 0 to 94\n",
      "Data columns (total 14 columns):\n",
      " #   Column                             Non-Null Count  Dtype  \n",
      "---  ------                             --------------  -----  \n",
      " 0   FECHA                              80 non-null     object \n",
      " 1   LOTE                               76 non-null     object \n",
      " 2   DENOMINACIÓN/     MARCA            76 non-null     object \n",
      " 3   CANTIDAD                           76 non-null     float64\n",
      " 4   %H                                 77 non-null     object \n",
      " 5   Unnamed: 5                         78 non-null     object \n",
      " 6   MALLAS                             77 non-null     object \n",
      " 7   Unnamed: 7                         77 non-null     object \n",
      " 8   VERIFICACIÓN FISICA CAFÉ TOSTADO   77 non-null     object \n",
      " 9   NOTAS DE CATACIÓN                  76 non-null     object \n",
      " 10  PUNTAJE                            76 non-null     object \n",
      " 11  Unnamed: 11                        77 non-null     object \n",
      " 12  LIBERACIÓN DE LOTE                 77 non-null     object \n",
      " 13  RESPONSABLE                        76 non-null     object \n",
      "dtypes: float64(1), object(13)\n",
      "memory usage: 10.5+ KB\n",
      "<class 'pandas.core.frame.DataFrame'>\n",
      "RangeIndex: 499 entries, 0 to 498\n",
      "Data columns (total 14 columns):\n",
      " #   Column                   Non-Null Count  Dtype  \n",
      "---  ------                   --------------  -----  \n",
      " 0   Fecha                    499 non-null    object \n",
      " 1   Lote                     499 non-null    object \n",
      " 2   Origen                   499 non-null    object \n",
      " 3   Variedad                 499 non-null    object \n",
      " 4   Proceso                  499 non-null    object \n",
      " 5   Beneficio                499 non-null    object \n",
      " 6   Peso en Verde            499 non-null    float64\n",
      " 7   Merma                    499 non-null    float64\n",
      " 8   Peso en Tostado          499 non-null    float64\n",
      " 9   Perfil                   499 non-null    object \n",
      " 10  Temp. De inicio y final  499 non-null    object \n",
      " 11  Tiempo de tueste         499 non-null    object \n",
      " 12  Observaciones            0 non-null      float64\n",
      " 13  Tostador                 499 non-null    object \n",
      "dtypes: float64(4), object(10)\n",
      "memory usage: 54.7+ KB\n",
      "<class 'pandas.core.frame.DataFrame'>\n",
      "RangeIndex: 1584 entries, 0 to 1583\n",
      "Data columns (total 12 columns):\n",
      " #   Column                 Non-Null Count  Dtype  \n",
      "---  ------                 --------------  -----  \n",
      " 0   # PEDIDO               1491 non-null   object \n",
      " 1   FECHA DE TUESTE        1583 non-null   object \n",
      " 2   FECHA DE EMPAQUE       1583 non-null   object \n",
      " 3   TIPO DE CAFÉ           1583 non-null   object \n",
      " 4   PRESENTACIÓN           1583 non-null   object \n",
      " 5   Unnamed: 5             0 non-null      float64\n",
      " 6   CANTIDAD               1583 non-null   float64\n",
      " 7   Unnamed: 7             0 non-null      float64\n",
      " 8   Unnamed: 8             0 non-null      float64\n",
      " 9   CLIENTE                1583 non-null   object \n",
      " 10  RESPONSABLE DESPACHO   1583 non-null   object \n",
      " 11  VERIFICA               1583 non-null   object \n",
      "dtypes: float64(4), object(8)\n",
      "memory usage: 148.6+ KB\n",
      "None None None\n"
     ]
    }
   ],
   "execution_count": 341
  },
  {
   "metadata": {
    "ExecuteTime": {
     "end_time": "2025-07-12T22:09:34.531472Z",
     "start_time": "2025-07-12T22:09:34.495258Z"
    }
   },
   "cell_type": "code",
   "source": [
    "print(Ctrl_trillado.head())\n",
    "print(Formato_tostion.head())\n",
    "print(Formato_Despachos.head())"
   ],
   "id": "fef8af416b3e66dd",
   "outputs": [
    {
     "name": "stdout",
     "output_type": "stream",
     "text": [
      "      FECHA     LOTE   DENOMINACIÓN/     MARCA  CANTIDAD    %H Unnamed: 5  \\\n",
      "0       NaN        NaN                     NaN       NaN   NaN        NaN   \n",
      "1       NaN        NaN                     NaN       NaN     %       C/NC   \n",
      "2  19-07-22  01-190722            Madre Laura      765.0  10.9         C    \n",
      "3   19-7-22  09-190722           Tabi Natural      204.0  10.2          C   \n",
      "4  19-07-22  10-190722              Don Mario      165.0  10.7          C   \n",
      "\n",
      "  MALLAS Unnamed: 7 VERIFICACIÓN FISICA CAFÉ TOSTADO   \\\n",
      "0    NaN        NaN                               NaN   \n",
      "1      #       C/NC                              C/NC   \n",
      "2     14         C                                  C   \n",
      "3     14          C                                 C   \n",
      "4     14          C                                 C   \n",
      "\n",
      "                                   NOTAS DE CATACIÓN PUNTAJE Unnamed: 11  \\\n",
      "0                                                NaN     NaN         NaN   \n",
      "1                                                NaN      N°        C/NC   \n",
      "2  Chocolate negro, toque frutal, cuerpo medio, a...      84          C    \n",
      "3  Frutas maduras, nibs de cacao, acidez brillant...      85           C   \n",
      "4  Panela, durazno, miel, acidez brillante citric...    84.5           C   \n",
      "\n",
      "  LIBERACIÓN DE LOTE RESPONSABLE   \n",
      "0                NaN          NaN  \n",
      "1              SI/NO          NaN  \n",
      "2                Si           LFQ  \n",
      "3                Si          LFQ   \n",
      "4                Si          LFQ   \n",
      "     Fecha       Lote            Origen  Variedad      Proceso Beneficio   \\\n",
      "0  22-07-22  01-190722           Jerico  Dos mil   Tradicional    Lavado    \n",
      "1  25-07-22  01-190722           Jerico  Dos mil   Tradicional    Lavado    \n",
      "2  25-07-22  01-190722           Jerico  Dos mil   Tradicional    Lavado    \n",
      "3  28-07-22  01-190722           Jerico  Dos mil   Tradicional    Lavado    \n",
      "4  28-07-22  09-190722  Ciudad Bolivar      Tabi      Natural    Natural    \n",
      "\n",
      "   Peso en Verde     Merma   Peso en Tostado     Perfil   \\\n",
      "0           9.00  15.000000              7.65  Filtrado    \n",
      "1           3.00  16.666667              2.50  Espressso   \n",
      "2           9.00  16.444444              7.52  Filtrado    \n",
      "3          11.70  16.324786              9.79  Filtrado    \n",
      "4           0.45  24.444444              0.34  Filtrado    \n",
      "\n",
      "  Temp. De inicio y final Tiempo de tueste  Observaciones  Tostador  \n",
      "0               175°/191°         08:01:00             NaN      LFQ  \n",
      "1               175°/195°         08:42:00             NaN      LFQ  \n",
      "2               175°/190°         07:58:00             NaN      LFQ  \n",
      "3               175°/191°         08:02:00             NaN      LFQ  \n",
      "4               150°/186°         08:10:00             NaN      LFQ  \n",
      "  # PEDIDO  FECHA DE TUESTE  FECHA DE EMPAQUE  TIPO DE CAFÉ    PRESENTACIÓN   \\\n",
      "0       NaN              NaN               NaN             NaN           NaN   \n",
      "1       564          22-7-22           25-7-22    Madre Laura         500 Gr   \n",
      "2       564          22-7-22           25-7-22    Madre Laura       1000 Gr    \n",
      "3       566          22-7-22           25-7-22    Madre Laura       2500 Gr    \n",
      "4       567          22-7-22           26-7-22    Madre Laura        2500 Gr   \n",
      "\n",
      "   Unnamed: 5  CANTIDAD   Unnamed: 7  Unnamed: 8          CLIENTE   \\\n",
      "0         NaN        NaN         NaN         NaN               NaN   \n",
      "1         NaN        3.0         NaN         NaN  Natalia Londoño    \n",
      "2         NaN        1.0         NaN         NaN  Natalia Londoño    \n",
      "3         NaN        2.0         NaN         NaN      Mateo Duque    \n",
      "4         NaN        1.0         NaN         NaN              Akio   \n",
      "\n",
      "  RESPONSABLE DESPACHO  VERIFICA   \n",
      "0                   NaN       NaN  \n",
      "1                  LFQ        MS   \n",
      "2                  LFQ        MS   \n",
      "3                  LFQ        MS   \n",
      "4                  LFQ        MS   \n"
     ]
    }
   ],
   "execution_count": 342
  },
  {
   "metadata": {
    "ExecuteTime": {
     "end_time": "2025-07-12T22:09:36.035538Z",
     "start_time": "2025-07-12T22:09:36.024479Z"
    }
   },
   "cell_type": "code",
   "source": [
    "print('columnas de las tablas: ')\n",
    "print(Ctrl_trillado.columns)\n",
    "print(Formato_tostion.columns)\n",
    "print(Formato_Despachos.columns)"
   ],
   "id": "263d460cf1edd67d",
   "outputs": [
    {
     "name": "stdout",
     "output_type": "stream",
     "text": [
      "columnas de las tablas: \n",
      "Index(['FECHA', 'LOTE  ', 'DENOMINACIÓN/     MARCA', 'CANTIDAD', '%H',\n",
      "       'Unnamed: 5', 'MALLAS', 'Unnamed: 7',\n",
      "       'VERIFICACIÓN FISICA CAFÉ TOSTADO ', 'NOTAS DE CATACIÓN', 'PUNTAJE',\n",
      "       'Unnamed: 11', 'LIBERACIÓN DE LOTE', 'RESPONSABLE '],\n",
      "      dtype='object')\n",
      "Index(['Fecha ', 'Lote ', 'Origen', 'Variedad', 'Proceso', 'Beneficio ',\n",
      "       'Peso en Verde', 'Merma ', 'Peso en Tostado ', 'Perfil ',\n",
      "       'Temp. De inicio y final', 'Tiempo de tueste', 'Observaciones ',\n",
      "       'Tostador'],\n",
      "      dtype='object')\n",
      "Index(['# PEDIDO ', 'FECHA DE TUESTE ', 'FECHA DE EMPAQUE ', 'TIPO DE CAFÉ   ',\n",
      "       'PRESENTACIÓN ', 'Unnamed: 5', 'CANTIDAD ', 'Unnamed: 7', 'Unnamed: 8',\n",
      "       'CLIENTE ', 'RESPONSABLE DESPACHO ', 'VERIFICA '],\n",
      "      dtype='object')\n"
     ]
    }
   ],
   "execution_count": 343
  },
  {
   "metadata": {},
   "cell_type": "markdown",
   "source": "Identificacion y limpieza de columnas importantes",
   "id": "c619227551887851"
  },
  {
   "metadata": {
    "ExecuteTime": {
     "end_time": "2025-07-12T22:09:37.599461Z",
     "start_time": "2025-07-12T22:09:37.581790Z"
    }
   },
   "cell_type": "code",
   "source": [
    "Calidad = Ctrl_trillado[['CANTIDAD','%H','MALLAS']].dropna()\n",
    "Tostion = Formato_tostion[['Merma ','Variedad', 'Origen','Temp. De inicio y final','Tiempo de tueste','Proceso','Beneficio ']].dropna()\n",
    "Despachos =Formato_Despachos[['CANTIDAD ']].dropna()\n",
    "Tostion['Perdida de Peso'] = Formato_tostion['Peso en Verde'] - Formato_tostion['Peso en Tostado ']"
   ],
   "id": "cb2aef3541c961ba",
   "outputs": [],
   "execution_count": 344
  },
  {
   "metadata": {
    "ExecuteTime": {
     "end_time": "2025-07-12T22:42:15.085166Z",
     "start_time": "2025-07-12T22:42:15.063931Z"
    }
   },
   "cell_type": "code",
   "source": [
    "print(Calidad.info())\n",
    "print(Tostion.info())\n",
    "print(Despachos.info())"
   ],
   "id": "91f95cd9a68fb37b",
   "outputs": [
    {
     "name": "stdout",
     "output_type": "stream",
     "text": [
      "<class 'pandas.core.frame.DataFrame'>\n",
      "Index: 76 entries, 2 to 77\n",
      "Data columns (total 3 columns):\n",
      " #   Column    Non-Null Count  Dtype  \n",
      "---  ------    --------------  -----  \n",
      " 0   CANTIDAD  76 non-null     float64\n",
      " 1   %H        76 non-null     float64\n",
      " 2   MALLAS    76 non-null     int64  \n",
      "dtypes: float64(2), int64(1)\n",
      "memory usage: 2.4 KB\n",
      "None\n",
      "<class 'pandas.core.frame.DataFrame'>\n",
      "RangeIndex: 499 entries, 0 to 498\n",
      "Data columns (total 8 columns):\n",
      " #   Column                   Non-Null Count  Dtype  \n",
      "---  ------                   --------------  -----  \n",
      " 0   Merma                    499 non-null    float64\n",
      " 1   Variedad                 499 non-null    int64  \n",
      " 2   Origen                   499 non-null    int64  \n",
      " 3   Temp. De inicio y final  499 non-null    int64  \n",
      " 4   Tiempo de tueste         499 non-null    int64  \n",
      " 5   Proceso                  499 non-null    int64  \n",
      " 6   Beneficio                499 non-null    int64  \n",
      " 7   Perdida de Peso          499 non-null    float64\n",
      "dtypes: float64(2), int64(6)\n",
      "memory usage: 31.3 KB\n",
      "None\n",
      "<class 'pandas.core.frame.DataFrame'>\n",
      "Index: 1583 entries, 1 to 1583\n",
      "Data columns (total 1 columns):\n",
      " #   Column     Non-Null Count  Dtype  \n",
      "---  ------     --------------  -----  \n",
      " 0   CANTIDAD   1583 non-null   float64\n",
      "dtypes: float64(1)\n",
      "memory usage: 24.7 KB\n",
      "None\n"
     ]
    }
   ],
   "execution_count": 393
  },
  {
   "metadata": {
    "ExecuteTime": {
     "end_time": "2025-07-12T22:09:40.924342Z",
     "start_time": "2025-07-12T22:09:40.902281Z"
    }
   },
   "cell_type": "code",
   "source": [
    "print(Calidad.head())\n",
    "print(Tostion.head())\n",
    "print(Despachos.head())"
   ],
   "id": "9fa6e09a84de18d",
   "outputs": [
    {
     "name": "stdout",
     "output_type": "stream",
     "text": [
      "   CANTIDAD    %H MALLAS\n",
      "2    765.00  10.9     14\n",
      "3    204.00  10.2     14\n",
      "4    165.00  10.7     14\n",
      "5      0.45  10.5     14\n",
      "6    105.00  10.7     14\n",
      "      Merma   Variedad           Origen Temp. De inicio y final  \\\n",
      "0  15.000000  Dos mil            Jerico               175°/191°   \n",
      "1  16.666667  Dos mil            Jerico               175°/195°   \n",
      "2  16.444444  Dos mil            Jerico               175°/190°   \n",
      "3  16.324786  Dos mil            Jerico               175°/191°   \n",
      "4  24.444444     Tabi   Ciudad Bolivar                150°/186°   \n",
      "\n",
      "  Tiempo de tueste      Proceso Beneficio   Perdida de Peso  \n",
      "0         08:01:00  Tradicional    Lavado              1.35  \n",
      "1         08:42:00  Tradicional    Lavado              0.50  \n",
      "2         07:58:00  Tradicional    Lavado              1.48  \n",
      "3         08:02:00  Tradicional    Lavado              1.91  \n",
      "4         08:10:00     Natural    Natural              0.11  \n",
      "   CANTIDAD \n",
      "1        3.0\n",
      "2        1.0\n",
      "3        2.0\n",
      "4        1.0\n",
      "5        3.0\n"
     ]
    }
   ],
   "execution_count": 346
  },
  {
   "metadata": {
    "ExecuteTime": {
     "end_time": "2025-07-12T22:09:42.458243Z",
     "start_time": "2025-07-12T22:09:42.444057Z"
    }
   },
   "cell_type": "code",
   "source": [
    "le = LabelEncoder()\n",
    "Tostion['Variedad'] = le.fit_transform(Tostion['Variedad'])\n",
    "Tostion['Origen'] = le.fit_transform(Tostion['Origen'])\n",
    "Tostion['Temp. De inicio y final'] = le.fit_transform(Tostion['Temp. De inicio y final'])\n",
    "Tostion['Tiempo de tueste'] = le.fit_transform(Tostion['Tiempo de tueste'])\n",
    "Tostion['Proceso'] = le.fit_transform(Tostion['Proceso'])\n",
    "Tostion['Beneficio '] = le.fit_transform(Tostion['Beneficio '])"
   ],
   "id": "db5b7fa68ca30850",
   "outputs": [],
   "execution_count": 347
  },
  {
   "metadata": {},
   "cell_type": "markdown",
   "source": "Homogenizacion de los datos (float64)",
   "id": "11d1fe84bfbef446"
  },
  {
   "metadata": {
    "ExecuteTime": {
     "end_time": "2025-07-12T22:09:44.021570Z",
     "start_time": "2025-07-12T22:09:44.006386Z"
    }
   },
   "cell_type": "code",
   "source": [
    "Calidad = Calidad.apply(lambda col: pd.to_numeric(col, errors='coerce') if col.dtypes == 'object' else col)\n",
    "Tostion = Tostion.apply(lambda col: pd.to_numeric(col, errors='coerce') if col.dtypes == 'object' else col)\n",
    "Despachos = Despachos.apply(lambda col: pd.to_numeric(col, errors='coerce') if col.dtypes == 'object' else col)"
   ],
   "id": "d1c2f4078817876d",
   "outputs": [],
   "execution_count": 348
  },
  {
   "metadata": {
    "ExecuteTime": {
     "end_time": "2025-07-12T22:10:26.612432Z",
     "start_time": "2025-07-12T22:10:26.574845Z"
    }
   },
   "cell_type": "code",
   "source": [
    "print(Calidad.info())\n",
    "print(Tostion.info())\n",
    "print(Despachos.info())"
   ],
   "id": "1ad8b618d54c5b39",
   "outputs": [
    {
     "name": "stdout",
     "output_type": "stream",
     "text": [
      "<class 'pandas.core.frame.DataFrame'>\n",
      "Index: 76 entries, 2 to 77\n",
      "Data columns (total 3 columns):\n",
      " #   Column    Non-Null Count  Dtype  \n",
      "---  ------    --------------  -----  \n",
      " 0   CANTIDAD  76 non-null     float64\n",
      " 1   %H        76 non-null     float64\n",
      " 2   MALLAS    76 non-null     int64  \n",
      "dtypes: float64(2), int64(1)\n",
      "memory usage: 2.4 KB\n",
      "None\n",
      "<class 'pandas.core.frame.DataFrame'>\n",
      "RangeIndex: 499 entries, 0 to 498\n",
      "Data columns (total 8 columns):\n",
      " #   Column                   Non-Null Count  Dtype  \n",
      "---  ------                   --------------  -----  \n",
      " 0   Merma                    499 non-null    float64\n",
      " 1   Variedad                 499 non-null    int64  \n",
      " 2   Origen                   499 non-null    int64  \n",
      " 3   Temp. De inicio y final  499 non-null    int64  \n",
      " 4   Tiempo de tueste         499 non-null    int64  \n",
      " 5   Proceso                  499 non-null    int64  \n",
      " 6   Beneficio                499 non-null    int64  \n",
      " 7   Perdida de Peso          499 non-null    float64\n",
      "dtypes: float64(2), int64(6)\n",
      "memory usage: 31.3 KB\n",
      "None\n",
      "<class 'pandas.core.frame.DataFrame'>\n",
      "Index: 1583 entries, 1 to 1583\n",
      "Data columns (total 1 columns):\n",
      " #   Column     Non-Null Count  Dtype  \n",
      "---  ------     --------------  -----  \n",
      " 0   CANTIDAD   1583 non-null   float64\n",
      "dtypes: float64(1)\n",
      "memory usage: 24.7 KB\n",
      "None\n"
     ]
    }
   ],
   "execution_count": 350
  },
  {
   "metadata": {},
   "cell_type": "markdown",
   "source": "# **Definición de variables y preprocesamiento**",
   "id": "f62813196171f384"
  },
  {
   "metadata": {},
   "cell_type": "markdown",
   "source": "se escoje la variable objetivo y las variables de enrtada",
   "id": "6ddbad31f09a5b72"
  },
  {
   "metadata": {
    "ExecuteTime": {
     "end_time": "2025-07-12T22:10:28.842217Z",
     "start_time": "2025-07-12T22:10:28.827616Z"
    }
   },
   "cell_type": "code",
   "source": [
    "VariableObjetivoY = Ctrl_trillado[['PUNTAJE']]\n",
    "VariableEntradaX = pd.concat([Calidad[0:95], Tostion[0:95]], axis=1) #[omitiendo el [0:95], el RMSE = 346.91] y R2 = 0.99"
   ],
   "id": "d711ef35633f4786",
   "outputs": [],
   "execution_count": 351
  },
  {
   "metadata": {
    "ExecuteTime": {
     "end_time": "2025-07-12T22:10:30.748552Z",
     "start_time": "2025-07-12T22:10:30.716907Z"
    }
   },
   "cell_type": "code",
   "source": [
    "print(VariableObjetivoY.info())\n",
    "print(VariableEntradaX.info())"
   ],
   "id": "d1394fa0a9605a98",
   "outputs": [
    {
     "name": "stdout",
     "output_type": "stream",
     "text": [
      "<class 'pandas.core.frame.DataFrame'>\n",
      "RangeIndex: 95 entries, 0 to 94\n",
      "Data columns (total 1 columns):\n",
      " #   Column   Non-Null Count  Dtype \n",
      "---  ------   --------------  ----- \n",
      " 0   PUNTAJE  76 non-null     object\n",
      "dtypes: object(1)\n",
      "memory usage: 892.0+ bytes\n",
      "None\n",
      "<class 'pandas.core.frame.DataFrame'>\n",
      "Index: 95 entries, 2 to 94\n",
      "Data columns (total 11 columns):\n",
      " #   Column                   Non-Null Count  Dtype  \n",
      "---  ------                   --------------  -----  \n",
      " 0   CANTIDAD                 76 non-null     float64\n",
      " 1   %H                       76 non-null     float64\n",
      " 2   MALLAS                   76 non-null     float64\n",
      " 3   Merma                    95 non-null     float64\n",
      " 4   Variedad                 95 non-null     int64  \n",
      " 5   Origen                   95 non-null     int64  \n",
      " 6   Temp. De inicio y final  95 non-null     int64  \n",
      " 7   Tiempo de tueste         95 non-null     int64  \n",
      " 8   Proceso                  95 non-null     int64  \n",
      " 9   Beneficio                95 non-null     int64  \n",
      " 10  Perdida de Peso          95 non-null     float64\n",
      "dtypes: float64(5), int64(6)\n",
      "memory usage: 8.9 KB\n",
      "None\n"
     ]
    }
   ],
   "execution_count": 352
  },
  {
   "metadata": {},
   "cell_type": "markdown",
   "source": "vemos que hay una incongruencia con la cantidad de valores, asi que para reemplazar los NaN usaremos la Media",
   "id": "4081566db0171a99"
  },
  {
   "metadata": {
    "ExecuteTime": {
     "end_time": "2025-07-12T22:10:57.528730Z",
     "start_time": "2025-07-12T22:10:57.518609Z"
    }
   },
   "cell_type": "code",
   "source": [
    "VariableEntradaX['CANTIDAD'] = VariableEntradaX['CANTIDAD'].fillna(VariableEntradaX['CANTIDAD'].mean())\n",
    "VariableEntradaX['%H'] = VariableEntradaX['%H'].fillna(VariableEntradaX['%H'].mean())\n",
    "VariableEntradaX['MALLAS'] = VariableEntradaX['MALLAS'].fillna(VariableEntradaX['MALLAS'].mean())"
   ],
   "id": "ac8018b93aa8587d",
   "outputs": [],
   "execution_count": 353
  },
  {
   "metadata": {
    "ExecuteTime": {
     "end_time": "2025-07-12T22:11:00.874468Z",
     "start_time": "2025-07-12T22:11:00.849106Z"
    }
   },
   "cell_type": "code",
   "source": [
    "print(VariableObjetivoY.info())\n",
    "print(VariableEntradaX.info())"
   ],
   "id": "41e485308ce64408",
   "outputs": [
    {
     "name": "stdout",
     "output_type": "stream",
     "text": [
      "<class 'pandas.core.frame.DataFrame'>\n",
      "RangeIndex: 95 entries, 0 to 94\n",
      "Data columns (total 1 columns):\n",
      " #   Column   Non-Null Count  Dtype \n",
      "---  ------   --------------  ----- \n",
      " 0   PUNTAJE  76 non-null     object\n",
      "dtypes: object(1)\n",
      "memory usage: 892.0+ bytes\n",
      "None\n",
      "<class 'pandas.core.frame.DataFrame'>\n",
      "Index: 95 entries, 2 to 94\n",
      "Data columns (total 11 columns):\n",
      " #   Column                   Non-Null Count  Dtype  \n",
      "---  ------                   --------------  -----  \n",
      " 0   CANTIDAD                 95 non-null     float64\n",
      " 1   %H                       95 non-null     float64\n",
      " 2   MALLAS                   95 non-null     float64\n",
      " 3   Merma                    95 non-null     float64\n",
      " 4   Variedad                 95 non-null     int64  \n",
      " 5   Origen                   95 non-null     int64  \n",
      " 6   Temp. De inicio y final  95 non-null     int64  \n",
      " 7   Tiempo de tueste         95 non-null     int64  \n",
      " 8   Proceso                  95 non-null     int64  \n",
      " 9   Beneficio                95 non-null     int64  \n",
      " 10  Perdida de Peso          95 non-null     float64\n",
      "dtypes: float64(5), int64(6)\n",
      "memory usage: 8.9 KB\n",
      "None\n"
     ]
    }
   ],
   "execution_count": 354
  },
  {
   "metadata": {},
   "cell_type": "markdown",
   "source": "Prosigo con el escalado\n",
   "id": "3676187874d44e48"
  },
  {
   "metadata": {
    "ExecuteTime": {
     "end_time": "2025-07-12T22:11:03.989280Z",
     "start_time": "2025-07-12T22:11:03.971174Z"
    }
   },
   "cell_type": "code",
   "source": [
    "scaler = StandardScaler()\n",
    "X_scaled = scaler.fit_transform(VariableEntradaX)\n",
    "X_scaled = pd.DataFrame(X_scaled, columns=VariableEntradaX.columns)"
   ],
   "id": "5a078be967b001c8",
   "outputs": [],
   "execution_count": 355
  },
  {
   "metadata": {
    "ExecuteTime": {
     "end_time": "2025-07-12T22:11:08.979013Z",
     "start_time": "2025-07-12T22:11:08.940111Z"
    }
   },
   "cell_type": "code",
   "source": [
    "print(X_scaled.head(20))\n",
    "X = X_scaled[0:95].dropna()\n",
    "print(X.info())"
   ],
   "id": "8e8deedaac98c51d",
   "outputs": [
    {
     "name": "stdout",
     "output_type": "stream",
     "text": [
      "    CANTIDAD        %H    MALLAS    Merma   Variedad    Origen  \\\n",
      "0   3.778085  1.678741 -0.217762 -0.256138 -0.312744  0.293408   \n",
      "1   0.422883 -1.756221 -0.217762 -0.314413 -0.312744  0.293408   \n",
      "2   0.189633  0.697323 -0.217762  3.640015  2.916681 -3.051441   \n",
      "3  -0.794500 -0.284095 -0.217762  3.640015 -0.312744  0.293408   \n",
      "4  -0.169212  0.697323 -0.217762 -0.791672 -0.312744  0.293408   \n",
      "5  -0.169212  0.697323 -0.217762 -0.310251 -0.312744  0.293408   \n",
      "6   0.458767  0.697323 -0.217762 -0.147911 -0.312744  0.293408   \n",
      "7  -0.725422 -1.265512 -0.217762 -0.553760 -0.312744  0.293408   \n",
      "8  -0.681165 -0.284095 -0.217762 -0.147911 -0.312744  0.293408   \n",
      "9  -0.587865  1.188032 -0.217762 -0.147911  2.916681 -3.051441   \n",
      "10 -0.378538  0.697323 -0.217762 -0.147911 -0.312744  0.293408   \n",
      "11  2.701550  3.150867 -0.217762 -0.332008 -0.312744  0.293408   \n",
      "12  0.458767 -0.284095 -0.217762 -0.147911 -0.312744  0.293408   \n",
      "13  0.040114  3.150867 -0.217762 -0.147911 -2.896284  0.293408   \n",
      "14 -0.193135  1.188032 -0.217762 -0.147911 -0.312744  0.293408   \n",
      "15 -0.378538 -0.284095 -0.217762 -0.824327 -0.312744  0.293408   \n",
      "16 -0.504134  0.206614 -0.217762 -0.147911 -0.312744  0.293408   \n",
      "17 -0.737384 -1.756221 -0.217762  0.795924 -0.312744  0.293408   \n",
      "18 -0.444327  1.188032 -0.217762 -0.147911 -0.312744  0.293408   \n",
      "19 -0.767287 -1.265512 -0.217762 -0.147911  2.916681 -3.051441   \n",
      "\n",
      "    Temp. De inicio y final  Tiempo de tueste   Proceso  Beneficio   \\\n",
      "0                 -0.647132         -1.122497  0.400438   -0.138972   \n",
      "1                 -0.454412         -0.893826  0.400438   -0.138972   \n",
      "2                 -2.188889         -0.284034 -0.788363    2.061423   \n",
      "3                 -2.381608         -0.741378  0.400438   -0.138972   \n",
      "4                  0.316466         -0.893826  0.400438   -0.138972   \n",
      "5                  1.472783          1.697787  0.400438   -0.138972   \n",
      "6                  1.087344          1.240444  0.400438   -0.138972   \n",
      "7                 -0.454412         -0.817602  0.400438   -0.138972   \n",
      "8                  1.665503          1.621563  0.400438   -0.138972   \n",
      "9                  0.316466         -0.970049 -0.788363    2.061423   \n",
      "10                 0.509185         -0.436482  0.400438   -0.138972   \n",
      "11                 0.123746         -0.970049  0.400438   -0.138972   \n",
      "12                 1.472783          1.392892  0.400438   -0.138972   \n",
      "13                 0.123746         -0.665154  0.400438   -0.138972   \n",
      "14                 1.472783          1.469115  0.400438   -0.138972   \n",
      "15                -0.068973         -0.665154  0.400438   -0.138972   \n",
      "16                 1.087344          2.078907  0.400438   -0.138972   \n",
      "17                 1.087344          2.002683  0.400438   -0.138972   \n",
      "18                 0.316466         -1.198721  0.400438   -0.138972   \n",
      "19                -0.261693         -1.351169 -0.788363    2.061423   \n",
      "\n",
      "    Perdida de Peso  \n",
      "0         -0.482008  \n",
      "1         -0.385056  \n",
      "2         -0.790903  \n",
      "3         -0.790903  \n",
      "4          0.187639  \n",
      "5         -0.705224  \n",
      "6         -0.590234  \n",
      "7         -0.387311  \n",
      "8          2.340881  \n",
      "9         -0.364764  \n",
      "10         0.762588  \n",
      "11         0.253025  \n",
      "12        -0.590234  \n",
      "13         0.086177  \n",
      "14        -0.590234  \n",
      "15         0.424383  \n",
      "16        -0.702969  \n",
      "17         2.791822  \n",
      "18         0.311648  \n",
      "19        -0.590234  \n",
      "<class 'pandas.core.frame.DataFrame'>\n",
      "RangeIndex: 95 entries, 0 to 94\n",
      "Data columns (total 11 columns):\n",
      " #   Column                   Non-Null Count  Dtype  \n",
      "---  ------                   --------------  -----  \n",
      " 0   CANTIDAD                 95 non-null     float64\n",
      " 1   %H                       95 non-null     float64\n",
      " 2   MALLAS                   95 non-null     float64\n",
      " 3   Merma                    95 non-null     float64\n",
      " 4   Variedad                 95 non-null     float64\n",
      " 5   Origen                   95 non-null     float64\n",
      " 6   Temp. De inicio y final  95 non-null     float64\n",
      " 7   Tiempo de tueste         95 non-null     float64\n",
      " 8   Proceso                  95 non-null     float64\n",
      " 9   Beneficio                95 non-null     float64\n",
      " 10  Perdida de Peso          95 non-null     float64\n",
      "dtypes: float64(11)\n",
      "memory usage: 8.3 KB\n",
      "None\n"
     ]
    }
   ],
   "execution_count": 356
  },
  {
   "metadata": {},
   "cell_type": "markdown",
   "source": "division de los datos en conjuntos de prueba y entrenamiento\n",
   "id": "8d2787342b7b59bf"
  },
  {
   "metadata": {
    "ExecuteTime": {
     "end_time": "2025-07-12T22:11:11.927427Z",
     "start_time": "2025-07-12T22:11:11.921518Z"
    }
   },
   "cell_type": "code",
   "source": "VariableObjetivoY = pd.to_numeric(VariableObjetivoY['PUNTAJE'], errors='coerce')",
   "id": "2de3740e6cb3705d",
   "outputs": [],
   "execution_count": 357
  },
  {
   "metadata": {
    "ExecuteTime": {
     "end_time": "2025-07-12T22:11:15.248140Z",
     "start_time": "2025-07-12T22:11:15.240160Z"
    }
   },
   "cell_type": "code",
   "source": "x_train, x_test, y_train, y_test = train_test_split(X, VariableObjetivoY[0:95], test_size=0.30, random_state=42)",
   "id": "7fe41e6dc91e4d3c",
   "outputs": [],
   "execution_count": 358
  },
  {
   "metadata": {},
   "cell_type": "markdown",
   "source": "# **ENTRENAMIENTO DE MODELOS DE REGRESION**",
   "id": "75dde8dbf4bc923b"
  },
  {
   "metadata": {
    "ExecuteTime": {
     "end_time": "2025-07-12T22:30:18.313302Z",
     "start_time": "2025-07-12T22:30:18.298296Z"
    }
   },
   "cell_type": "code",
   "source": [
    "x_train = x_train.dropna()\n",
    "x_test = x_test.dropna()\n",
    "y_train = y_train.dropna()\n",
    "y_test = y_test.dropna()"
   ],
   "id": "5dafd2b6bb12e824",
   "outputs": [],
   "execution_count": 385
  },
  {
   "metadata": {
    "ExecuteTime": {
     "end_time": "2025-07-12T22:38:14.157499Z",
     "start_time": "2025-07-12T22:38:14.104435Z"
    }
   },
   "cell_type": "code",
   "source": [
    "pd.DataFrame(x_train).to_csv('X_train.csv', index=False)\n",
    "pd.DataFrame(x_test).to_csv('X_test.csv', index=False)\n",
    "pd.DataFrame(y_train).to_csv('Y_train.csv', index=False)\n",
    "pd.DataFrame(y_test).to_csv('Y_test.csv', index=False)"
   ],
   "id": "ecbc47289cfb5a65",
   "outputs": [],
   "execution_count": 389
  },
  {
   "metadata": {},
   "cell_type": "markdown",
   "source": "Modelo # y Modelo #2\n",
   "id": "6ea1611060f6d1bf"
  },
  {
   "metadata": {
    "ExecuteTime": {
     "end_time": "2025-07-12T22:41:55.259708Z",
     "start_time": "2025-07-12T22:41:55.235612Z"
    }
   },
   "cell_type": "code",
   "source": [
    "xTrain = pd.read_csv('X_train.csv').values\n",
    "xTest = pd.read_csv('X_test.csv').values\n",
    "yTrain = pd.read_csv('Y_train.csv').values\n",
    "yTest = pd.read_csv('Y_test.csv').values"
   ],
   "id": "779602ef4ba25d4f",
   "outputs": [],
   "execution_count": 391
  },
  {
   "metadata": {
    "ExecuteTime": {
     "end_time": "2025-07-12T22:41:57.914748Z",
     "start_time": "2025-07-12T22:41:57.908074Z"
    }
   },
   "cell_type": "code",
   "source": [
    "Modelo_lr = LinearRegression()\n",
    "#modelo_rf = RandomForestRegressor(random_state=42)"
   ],
   "id": "334ecad9aeb905b3",
   "outputs": [],
   "execution_count": 392
  },
  {
   "metadata": {
    "ExecuteTime": {
     "end_time": "2025-07-12T22:42:48.284614Z",
     "start_time": "2025-07-12T22:42:48.267439Z"
    }
   },
   "cell_type": "code",
   "source": [
    "Modelo_lr.fit(xTrain, yTrain)\n",
    "#modelo_rf.fit(x_train, y_train)"
   ],
   "id": "763ac8a575b720d7",
   "outputs": [
    {
     "data": {
      "text/plain": [
       "LinearRegression()"
      ],
      "text/html": [
       "<style>#sk-container-id-21 {\n",
       "  /* Definition of color scheme common for light and dark mode */\n",
       "  --sklearn-color-text: #000;\n",
       "  --sklearn-color-text-muted: #666;\n",
       "  --sklearn-color-line: gray;\n",
       "  /* Definition of color scheme for unfitted estimators */\n",
       "  --sklearn-color-unfitted-level-0: #fff5e6;\n",
       "  --sklearn-color-unfitted-level-1: #f6e4d2;\n",
       "  --sklearn-color-unfitted-level-2: #ffe0b3;\n",
       "  --sklearn-color-unfitted-level-3: chocolate;\n",
       "  /* Definition of color scheme for fitted estimators */\n",
       "  --sklearn-color-fitted-level-0: #f0f8ff;\n",
       "  --sklearn-color-fitted-level-1: #d4ebff;\n",
       "  --sklearn-color-fitted-level-2: #b3dbfd;\n",
       "  --sklearn-color-fitted-level-3: cornflowerblue;\n",
       "\n",
       "  /* Specific color for light theme */\n",
       "  --sklearn-color-text-on-default-background: var(--sg-text-color, var(--theme-code-foreground, var(--jp-content-font-color1, black)));\n",
       "  --sklearn-color-background: var(--sg-background-color, var(--theme-background, var(--jp-layout-color0, white)));\n",
       "  --sklearn-color-border-box: var(--sg-text-color, var(--theme-code-foreground, var(--jp-content-font-color1, black)));\n",
       "  --sklearn-color-icon: #696969;\n",
       "\n",
       "  @media (prefers-color-scheme: dark) {\n",
       "    /* Redefinition of color scheme for dark theme */\n",
       "    --sklearn-color-text-on-default-background: var(--sg-text-color, var(--theme-code-foreground, var(--jp-content-font-color1, white)));\n",
       "    --sklearn-color-background: var(--sg-background-color, var(--theme-background, var(--jp-layout-color0, #111)));\n",
       "    --sklearn-color-border-box: var(--sg-text-color, var(--theme-code-foreground, var(--jp-content-font-color1, white)));\n",
       "    --sklearn-color-icon: #878787;\n",
       "  }\n",
       "}\n",
       "\n",
       "#sk-container-id-21 {\n",
       "  color: var(--sklearn-color-text);\n",
       "}\n",
       "\n",
       "#sk-container-id-21 pre {\n",
       "  padding: 0;\n",
       "}\n",
       "\n",
       "#sk-container-id-21 input.sk-hidden--visually {\n",
       "  border: 0;\n",
       "  clip: rect(1px 1px 1px 1px);\n",
       "  clip: rect(1px, 1px, 1px, 1px);\n",
       "  height: 1px;\n",
       "  margin: -1px;\n",
       "  overflow: hidden;\n",
       "  padding: 0;\n",
       "  position: absolute;\n",
       "  width: 1px;\n",
       "}\n",
       "\n",
       "#sk-container-id-21 div.sk-dashed-wrapped {\n",
       "  border: 1px dashed var(--sklearn-color-line);\n",
       "  margin: 0 0.4em 0.5em 0.4em;\n",
       "  box-sizing: border-box;\n",
       "  padding-bottom: 0.4em;\n",
       "  background-color: var(--sklearn-color-background);\n",
       "}\n",
       "\n",
       "#sk-container-id-21 div.sk-container {\n",
       "  /* jupyter's `normalize.less` sets `[hidden] { display: none; }`\n",
       "     but bootstrap.min.css set `[hidden] { display: none !important; }`\n",
       "     so we also need the `!important` here to be able to override the\n",
       "     default hidden behavior on the sphinx rendered scikit-learn.org.\n",
       "     See: https://github.com/scikit-learn/scikit-learn/issues/21755 */\n",
       "  display: inline-block !important;\n",
       "  position: relative;\n",
       "}\n",
       "\n",
       "#sk-container-id-21 div.sk-text-repr-fallback {\n",
       "  display: none;\n",
       "}\n",
       "\n",
       "div.sk-parallel-item,\n",
       "div.sk-serial,\n",
       "div.sk-item {\n",
       "  /* draw centered vertical line to link estimators */\n",
       "  background-image: linear-gradient(var(--sklearn-color-text-on-default-background), var(--sklearn-color-text-on-default-background));\n",
       "  background-size: 2px 100%;\n",
       "  background-repeat: no-repeat;\n",
       "  background-position: center center;\n",
       "}\n",
       "\n",
       "/* Parallel-specific style estimator block */\n",
       "\n",
       "#sk-container-id-21 div.sk-parallel-item::after {\n",
       "  content: \"\";\n",
       "  width: 100%;\n",
       "  border-bottom: 2px solid var(--sklearn-color-text-on-default-background);\n",
       "  flex-grow: 1;\n",
       "}\n",
       "\n",
       "#sk-container-id-21 div.sk-parallel {\n",
       "  display: flex;\n",
       "  align-items: stretch;\n",
       "  justify-content: center;\n",
       "  background-color: var(--sklearn-color-background);\n",
       "  position: relative;\n",
       "}\n",
       "\n",
       "#sk-container-id-21 div.sk-parallel-item {\n",
       "  display: flex;\n",
       "  flex-direction: column;\n",
       "}\n",
       "\n",
       "#sk-container-id-21 div.sk-parallel-item:first-child::after {\n",
       "  align-self: flex-end;\n",
       "  width: 50%;\n",
       "}\n",
       "\n",
       "#sk-container-id-21 div.sk-parallel-item:last-child::after {\n",
       "  align-self: flex-start;\n",
       "  width: 50%;\n",
       "}\n",
       "\n",
       "#sk-container-id-21 div.sk-parallel-item:only-child::after {\n",
       "  width: 0;\n",
       "}\n",
       "\n",
       "/* Serial-specific style estimator block */\n",
       "\n",
       "#sk-container-id-21 div.sk-serial {\n",
       "  display: flex;\n",
       "  flex-direction: column;\n",
       "  align-items: center;\n",
       "  background-color: var(--sklearn-color-background);\n",
       "  padding-right: 1em;\n",
       "  padding-left: 1em;\n",
       "}\n",
       "\n",
       "\n",
       "/* Toggleable style: style used for estimator/Pipeline/ColumnTransformer box that is\n",
       "clickable and can be expanded/collapsed.\n",
       "- Pipeline and ColumnTransformer use this feature and define the default style\n",
       "- Estimators will overwrite some part of the style using the `sk-estimator` class\n",
       "*/\n",
       "\n",
       "/* Pipeline and ColumnTransformer style (default) */\n",
       "\n",
       "#sk-container-id-21 div.sk-toggleable {\n",
       "  /* Default theme specific background. It is overwritten whether we have a\n",
       "  specific estimator or a Pipeline/ColumnTransformer */\n",
       "  background-color: var(--sklearn-color-background);\n",
       "}\n",
       "\n",
       "/* Toggleable label */\n",
       "#sk-container-id-21 label.sk-toggleable__label {\n",
       "  cursor: pointer;\n",
       "  display: flex;\n",
       "  width: 100%;\n",
       "  margin-bottom: 0;\n",
       "  padding: 0.5em;\n",
       "  box-sizing: border-box;\n",
       "  text-align: center;\n",
       "  align-items: start;\n",
       "  justify-content: space-between;\n",
       "  gap: 0.5em;\n",
       "}\n",
       "\n",
       "#sk-container-id-21 label.sk-toggleable__label .caption {\n",
       "  font-size: 0.6rem;\n",
       "  font-weight: lighter;\n",
       "  color: var(--sklearn-color-text-muted);\n",
       "}\n",
       "\n",
       "#sk-container-id-21 label.sk-toggleable__label-arrow:before {\n",
       "  /* Arrow on the left of the label */\n",
       "  content: \"▸\";\n",
       "  float: left;\n",
       "  margin-right: 0.25em;\n",
       "  color: var(--sklearn-color-icon);\n",
       "}\n",
       "\n",
       "#sk-container-id-21 label.sk-toggleable__label-arrow:hover:before {\n",
       "  color: var(--sklearn-color-text);\n",
       "}\n",
       "\n",
       "/* Toggleable content - dropdown */\n",
       "\n",
       "#sk-container-id-21 div.sk-toggleable__content {\n",
       "  max-height: 0;\n",
       "  max-width: 0;\n",
       "  overflow: hidden;\n",
       "  text-align: left;\n",
       "  /* unfitted */\n",
       "  background-color: var(--sklearn-color-unfitted-level-0);\n",
       "}\n",
       "\n",
       "#sk-container-id-21 div.sk-toggleable__content.fitted {\n",
       "  /* fitted */\n",
       "  background-color: var(--sklearn-color-fitted-level-0);\n",
       "}\n",
       "\n",
       "#sk-container-id-21 div.sk-toggleable__content pre {\n",
       "  margin: 0.2em;\n",
       "  border-radius: 0.25em;\n",
       "  color: var(--sklearn-color-text);\n",
       "  /* unfitted */\n",
       "  background-color: var(--sklearn-color-unfitted-level-0);\n",
       "}\n",
       "\n",
       "#sk-container-id-21 div.sk-toggleable__content.fitted pre {\n",
       "  /* unfitted */\n",
       "  background-color: var(--sklearn-color-fitted-level-0);\n",
       "}\n",
       "\n",
       "#sk-container-id-21 input.sk-toggleable__control:checked~div.sk-toggleable__content {\n",
       "  /* Expand drop-down */\n",
       "  max-height: 200px;\n",
       "  max-width: 100%;\n",
       "  overflow: auto;\n",
       "}\n",
       "\n",
       "#sk-container-id-21 input.sk-toggleable__control:checked~label.sk-toggleable__label-arrow:before {\n",
       "  content: \"▾\";\n",
       "}\n",
       "\n",
       "/* Pipeline/ColumnTransformer-specific style */\n",
       "\n",
       "#sk-container-id-21 div.sk-label input.sk-toggleable__control:checked~label.sk-toggleable__label {\n",
       "  color: var(--sklearn-color-text);\n",
       "  background-color: var(--sklearn-color-unfitted-level-2);\n",
       "}\n",
       "\n",
       "#sk-container-id-21 div.sk-label.fitted input.sk-toggleable__control:checked~label.sk-toggleable__label {\n",
       "  background-color: var(--sklearn-color-fitted-level-2);\n",
       "}\n",
       "\n",
       "/* Estimator-specific style */\n",
       "\n",
       "/* Colorize estimator box */\n",
       "#sk-container-id-21 div.sk-estimator input.sk-toggleable__control:checked~label.sk-toggleable__label {\n",
       "  /* unfitted */\n",
       "  background-color: var(--sklearn-color-unfitted-level-2);\n",
       "}\n",
       "\n",
       "#sk-container-id-21 div.sk-estimator.fitted input.sk-toggleable__control:checked~label.sk-toggleable__label {\n",
       "  /* fitted */\n",
       "  background-color: var(--sklearn-color-fitted-level-2);\n",
       "}\n",
       "\n",
       "#sk-container-id-21 div.sk-label label.sk-toggleable__label,\n",
       "#sk-container-id-21 div.sk-label label {\n",
       "  /* The background is the default theme color */\n",
       "  color: var(--sklearn-color-text-on-default-background);\n",
       "}\n",
       "\n",
       "/* On hover, darken the color of the background */\n",
       "#sk-container-id-21 div.sk-label:hover label.sk-toggleable__label {\n",
       "  color: var(--sklearn-color-text);\n",
       "  background-color: var(--sklearn-color-unfitted-level-2);\n",
       "}\n",
       "\n",
       "/* Label box, darken color on hover, fitted */\n",
       "#sk-container-id-21 div.sk-label.fitted:hover label.sk-toggleable__label.fitted {\n",
       "  color: var(--sklearn-color-text);\n",
       "  background-color: var(--sklearn-color-fitted-level-2);\n",
       "}\n",
       "\n",
       "/* Estimator label */\n",
       "\n",
       "#sk-container-id-21 div.sk-label label {\n",
       "  font-family: monospace;\n",
       "  font-weight: bold;\n",
       "  display: inline-block;\n",
       "  line-height: 1.2em;\n",
       "}\n",
       "\n",
       "#sk-container-id-21 div.sk-label-container {\n",
       "  text-align: center;\n",
       "}\n",
       "\n",
       "/* Estimator-specific */\n",
       "#sk-container-id-21 div.sk-estimator {\n",
       "  font-family: monospace;\n",
       "  border: 1px dotted var(--sklearn-color-border-box);\n",
       "  border-radius: 0.25em;\n",
       "  box-sizing: border-box;\n",
       "  margin-bottom: 0.5em;\n",
       "  /* unfitted */\n",
       "  background-color: var(--sklearn-color-unfitted-level-0);\n",
       "}\n",
       "\n",
       "#sk-container-id-21 div.sk-estimator.fitted {\n",
       "  /* fitted */\n",
       "  background-color: var(--sklearn-color-fitted-level-0);\n",
       "}\n",
       "\n",
       "/* on hover */\n",
       "#sk-container-id-21 div.sk-estimator:hover {\n",
       "  /* unfitted */\n",
       "  background-color: var(--sklearn-color-unfitted-level-2);\n",
       "}\n",
       "\n",
       "#sk-container-id-21 div.sk-estimator.fitted:hover {\n",
       "  /* fitted */\n",
       "  background-color: var(--sklearn-color-fitted-level-2);\n",
       "}\n",
       "\n",
       "/* Specification for estimator info (e.g. \"i\" and \"?\") */\n",
       "\n",
       "/* Common style for \"i\" and \"?\" */\n",
       "\n",
       ".sk-estimator-doc-link,\n",
       "a:link.sk-estimator-doc-link,\n",
       "a:visited.sk-estimator-doc-link {\n",
       "  float: right;\n",
       "  font-size: smaller;\n",
       "  line-height: 1em;\n",
       "  font-family: monospace;\n",
       "  background-color: var(--sklearn-color-background);\n",
       "  border-radius: 1em;\n",
       "  height: 1em;\n",
       "  width: 1em;\n",
       "  text-decoration: none !important;\n",
       "  margin-left: 0.5em;\n",
       "  text-align: center;\n",
       "  /* unfitted */\n",
       "  border: var(--sklearn-color-unfitted-level-1) 1pt solid;\n",
       "  color: var(--sklearn-color-unfitted-level-1);\n",
       "}\n",
       "\n",
       ".sk-estimator-doc-link.fitted,\n",
       "a:link.sk-estimator-doc-link.fitted,\n",
       "a:visited.sk-estimator-doc-link.fitted {\n",
       "  /* fitted */\n",
       "  border: var(--sklearn-color-fitted-level-1) 1pt solid;\n",
       "  color: var(--sklearn-color-fitted-level-1);\n",
       "}\n",
       "\n",
       "/* On hover */\n",
       "div.sk-estimator:hover .sk-estimator-doc-link:hover,\n",
       ".sk-estimator-doc-link:hover,\n",
       "div.sk-label-container:hover .sk-estimator-doc-link:hover,\n",
       ".sk-estimator-doc-link:hover {\n",
       "  /* unfitted */\n",
       "  background-color: var(--sklearn-color-unfitted-level-3);\n",
       "  color: var(--sklearn-color-background);\n",
       "  text-decoration: none;\n",
       "}\n",
       "\n",
       "div.sk-estimator.fitted:hover .sk-estimator-doc-link.fitted:hover,\n",
       ".sk-estimator-doc-link.fitted:hover,\n",
       "div.sk-label-container:hover .sk-estimator-doc-link.fitted:hover,\n",
       ".sk-estimator-doc-link.fitted:hover {\n",
       "  /* fitted */\n",
       "  background-color: var(--sklearn-color-fitted-level-3);\n",
       "  color: var(--sklearn-color-background);\n",
       "  text-decoration: none;\n",
       "}\n",
       "\n",
       "/* Span, style for the box shown on hovering the info icon */\n",
       ".sk-estimator-doc-link span {\n",
       "  display: none;\n",
       "  z-index: 9999;\n",
       "  position: relative;\n",
       "  font-weight: normal;\n",
       "  right: .2ex;\n",
       "  padding: .5ex;\n",
       "  margin: .5ex;\n",
       "  width: min-content;\n",
       "  min-width: 20ex;\n",
       "  max-width: 50ex;\n",
       "  color: var(--sklearn-color-text);\n",
       "  box-shadow: 2pt 2pt 4pt #999;\n",
       "  /* unfitted */\n",
       "  background: var(--sklearn-color-unfitted-level-0);\n",
       "  border: .5pt solid var(--sklearn-color-unfitted-level-3);\n",
       "}\n",
       "\n",
       ".sk-estimator-doc-link.fitted span {\n",
       "  /* fitted */\n",
       "  background: var(--sklearn-color-fitted-level-0);\n",
       "  border: var(--sklearn-color-fitted-level-3);\n",
       "}\n",
       "\n",
       ".sk-estimator-doc-link:hover span {\n",
       "  display: block;\n",
       "}\n",
       "\n",
       "/* \"?\"-specific style due to the `<a>` HTML tag */\n",
       "\n",
       "#sk-container-id-21 a.estimator_doc_link {\n",
       "  float: right;\n",
       "  font-size: 1rem;\n",
       "  line-height: 1em;\n",
       "  font-family: monospace;\n",
       "  background-color: var(--sklearn-color-background);\n",
       "  border-radius: 1rem;\n",
       "  height: 1rem;\n",
       "  width: 1rem;\n",
       "  text-decoration: none;\n",
       "  /* unfitted */\n",
       "  color: var(--sklearn-color-unfitted-level-1);\n",
       "  border: var(--sklearn-color-unfitted-level-1) 1pt solid;\n",
       "}\n",
       "\n",
       "#sk-container-id-21 a.estimator_doc_link.fitted {\n",
       "  /* fitted */\n",
       "  border: var(--sklearn-color-fitted-level-1) 1pt solid;\n",
       "  color: var(--sklearn-color-fitted-level-1);\n",
       "}\n",
       "\n",
       "/* On hover */\n",
       "#sk-container-id-21 a.estimator_doc_link:hover {\n",
       "  /* unfitted */\n",
       "  background-color: var(--sklearn-color-unfitted-level-3);\n",
       "  color: var(--sklearn-color-background);\n",
       "  text-decoration: none;\n",
       "}\n",
       "\n",
       "#sk-container-id-21 a.estimator_doc_link.fitted:hover {\n",
       "  /* fitted */\n",
       "  background-color: var(--sklearn-color-fitted-level-3);\n",
       "}\n",
       "</style><div id=\"sk-container-id-21\" class=\"sk-top-container\"><div class=\"sk-text-repr-fallback\"><pre>LinearRegression()</pre><b>In a Jupyter environment, please rerun this cell to show the HTML representation or trust the notebook. <br />On GitHub, the HTML representation is unable to render, please try loading this page with nbviewer.org.</b></div><div class=\"sk-container\" hidden><div class=\"sk-item\"><div class=\"sk-estimator fitted sk-toggleable\"><input class=\"sk-toggleable__control sk-hidden--visually\" id=\"sk-estimator-id-21\" type=\"checkbox\" checked><label for=\"sk-estimator-id-21\" class=\"sk-toggleable__label fitted sk-toggleable__label-arrow\"><div><div>LinearRegression</div></div><div><a class=\"sk-estimator-doc-link fitted\" rel=\"noreferrer\" target=\"_blank\" href=\"https://scikit-learn.org/1.6/modules/generated/sklearn.linear_model.LinearRegression.html\">?<span>Documentation for LinearRegression</span></a><span class=\"sk-estimator-doc-link fitted\">i<span>Fitted</span></span></div></label><div class=\"sk-toggleable__content fitted\"><pre>LinearRegression()</pre></div> </div></div></div></div>"
      ]
     },
     "execution_count": 394,
     "metadata": {},
     "output_type": "execute_result"
    }
   ],
   "execution_count": 394
  },
  {
   "metadata": {},
   "cell_type": "markdown",
   "source": "Evaluacion de los modelos",
   "id": "ca53c5a7904d246b"
  },
  {
   "metadata": {
    "ExecuteTime": {
     "end_time": "2025-07-12T22:54:00.464105Z",
     "start_time": "2025-07-12T22:54:00.454542Z"
    }
   },
   "cell_type": "code",
   "source": [
    "from sklearn.metrics import mean_absolute_error\n",
    "y_prediccion = Modelo_lr.predict(xTest)\n",
    "r2 = r2_score(yTest, y_prediccion)\n",
    "rmse = mean_squared_error(yTest, y_prediccion)\n",
    "error_abs = mean_absolute_error(yTest, y_prediccion)\n",
    "print(f'R2 Score: {r2} | RMSE: {rmse} | Absolute Error: {error_abs}')\n"
   ],
   "id": "23ce36920dad98f0",
   "outputs": [
    {
     "name": "stdout",
     "output_type": "stream",
     "text": [
      "R2 Score: -0.321574170078031 | RMSE: 1.9189573968824187 | Absolute Error: 1.0914143030532366\n"
     ]
    }
   ],
   "execution_count": 399
  },
  {
   "metadata": {
    "ExecuteTime": {
     "end_time": "2025-07-12T22:52:54.030319Z",
     "start_time": "2025-07-12T22:52:53.686632Z"
    }
   },
   "cell_type": "code",
   "source": [
    "plt.figure(figsize=(6, 6))\n",
    "plt.scatter(yTest, y_prediccion, alpha=0.7)\n",
    "plt.plot([yTest.min(), yTest.max()], [yTest.min(), yTest.max()], 'r--')  # línea ideal\n",
    "plt.title('yTest vs y_prediccion')\n",
    "plt.xlabel('Valor real (yTest)')\n",
    "plt.ylabel('Valor predicho')\n",
    "plt.grid(True)\n",
    "plt.tight_layout()\n",
    "plt.show()\n"
   ],
   "id": "7cd35e9c285693dc",
   "outputs": [
    {
     "data": {
      "text/plain": [
       "<Figure size 600x600 with 1 Axes>"
      ],
      "image/png": "[encoded data removed]"
     },
     "metadata": {},
     "output_type": "display_data"
    }
   ],
   "execution_count": 398
  },
  {
   "metadata": {
    "ExecuteTime": {
     "end_time": "2025-07-12T22:22:04.849692Z",
     "start_time": "2025-07-12T22:22:04.810357Z"
    }
   },
   "cell_type": "code",
   "source": [
    "#modelos = [('Regresion lineal',Modelo_lr),('Random Forest',modelo_rf)]\n",
    "'''\n",
    "for name, model in modelos:\n",
    "    y_pred = model.predict(x_test)\n",
    "    rmse = mean_squared_error(y_test, y_pred)\n",
    "    r2 = r2_score(y_test, y_pred)\n",
    "    print(f'{name} -> RMSE: {rmse:.2f} | R2: {r2:.2f}')'''\n",
    "\n"
   ],
   "id": "fa9890fb629dbd79",
   "outputs": [
    {
     "name": "stdout",
     "output_type": "stream",
     "text": [
      "Regresion lineal -> RMSE: 1.92 | R2: -0.32\n",
      "Random Forest -> RMSE: 1.49 | R2: -0.02\n"
     ]
    }
   ],
   "execution_count": 377
  },
  {
   "metadata": {
    "ExecuteTime": {
     "end_time": "2025-07-12T22:22:14.079520Z",
     "start_time": "2025-07-12T22:22:13.795628Z"
    }
   },
   "cell_type": "code",
   "source": [
    "import matplotlib.pyplot as plt\n",
    "\n",
    "importances = modelo_rf.feature_importances_\n",
    "plt.barh(x_train.columns, importances)\n",
    "plt.title(\"Importancia de Variables (Random Forest)\")\n",
    "plt.xlabel(\"Importancia\")\n",
    "plt.gca().invert_yaxis()\n",
    "plt.tight_layout()\n",
    "plt.show()"
   ],
   "id": "d4acc351211d187",
   "outputs": [
    {
     "data": {
      "text/plain": [
       "<Figure size 640x480 with 1 Axes>"
      ],
      "image/png": "[encoded data removed]"
     },
     "metadata": {},
     "output_type": "display_data"
    }
   ],
   "execution_count": 378
  }
 ],
 "metadata": {
  "kernelspec": {
   "display_name": "Python 3",
   "language": "python",
   "name": "python3"
  },
  "language_info": {
   "codemirror_mode": {
    "name": "ipython",
    "version": 2
   },
   "file_extension": ".py",
   "mimetype": "text/x-python",
   "name": "python",
   "nbconvert_exporter": "python",
   "pygments_lexer": "ipython2",
   "version": "2.7.6"
  }
 },
 "nbformat": 4,
 "nbformat_minor": 5
}
