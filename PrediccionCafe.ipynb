{
 "cells": [
  {
   "cell_type": "code",
   "id": "initial_id",
   "metadata": {
    "collapsed": true,
    "ExecuteTime": {
     "end_time": "2025-07-12T02:27:37.468003Z",
     "start_time": "2025-07-12T02:27:37.461634Z"
    }
   },
   "source": [
    "import pandas as pd\n",
    "import numpy as np\n",
    "from sklearn.model_selection import train_test_split\n",
    "from sklearn.preprocessing import StandardScaler, OneHotEncoder\n",
    "from sklearn.compose import ColumnTransformer\n",
    "from sklearn.linear_model import LinearRegression\n",
    "from sklearn.ensemble import RandomForestRegressor\n",
    "from sklearn.metrics import mean_squared_error, r2_score\n"
   ],
   "outputs": [],
   "execution_count": 34
  },
  {
   "metadata": {},
   "cell_type": "markdown",
   "source": "# **ANALISIS EXPLORATORIO**",
   "id": "5ba82998f213c62a"
  },
  {
   "metadata": {},
   "cell_type": "markdown",
   "source": "Cargamos e inspeccionamos los datos",
   "id": "2223101ece748984"
  },
  {
   "metadata": {
    "ExecuteTime": {
     "end_time": "2025-07-12T01:55:25.642599Z",
     "start_time": "2025-07-12T01:55:23.076373Z"
    }
   },
   "cell_type": "code",
   "source": [
    "Ctrl_trillado = pd.read_excel('CC FT 17   Formato de Control de Calidad Café de Trillado (1).xlsx', header = 5)\n",
    "Formato_tostion = pd.read_excel('CC FT 18  Formato de  Tostión (1).xlsx', header = 5)\n",
    "Formato_Despachos = pd.read_excel('CC FT 21   Formato de Control de Despachos (1).xlsx', header = 5)"
   ],
   "id": "4d6c55522bafd389",
   "outputs": [],
   "execution_count": 2
  },
  {
   "metadata": {
    "ExecuteTime": {
     "end_time": "2025-07-12T01:55:29.659338Z",
     "start_time": "2025-07-12T01:55:29.603205Z"
    }
   },
   "cell_type": "code",
   "source": [
    "print('info de tablas:')\n",
    "print(Ctrl_trillado.info(),Formato_tostion.info(),Formato_Despachos.info())"
   ],
   "id": "5b6e1464e7e908fd",
   "outputs": [
    {
     "name": "stdout",
     "output_type": "stream",
     "text": [
      "info de tablas:\n",
      "<class 'pandas.core.frame.DataFrame'>\n",
      "RangeIndex: 95 entries, 0 to 94\n",
      "Data columns (total 14 columns):\n",
      " #   Column                             Non-Null Count  Dtype  \n",
      "---  ------                             --------------  -----  \n",
      " 0   FECHA                              80 non-null     object \n",
      " 1   LOTE                               76 non-null     object \n",
      " 2   DENOMINACIÓN/     MARCA            76 non-null     object \n",
      " 3   CANTIDAD                           76 non-null     float64\n",
      " 4   %H                                 77 non-null     object \n",
      " 5   Unnamed: 5                         78 non-null     object \n",
      " 6   MALLAS                             77 non-null     object \n",
      " 7   Unnamed: 7                         77 non-null     object \n",
      " 8   VERIFICACIÓN FISICA CAFÉ TOSTADO   77 non-null     object \n",
      " 9   NOTAS DE CATACIÓN                  76 non-null     object \n",
      " 10  PUNTAJE                            76 non-null     object \n",
      " 11  Unnamed: 11                        77 non-null     object \n",
      " 12  LIBERACIÓN DE LOTE                 77 non-null     object \n",
      " 13  RESPONSABLE                        76 non-null     object \n",
      "dtypes: float64(1), object(13)\n",
      "memory usage: 10.5+ KB\n",
      "<class 'pandas.core.frame.DataFrame'>\n",
      "RangeIndex: 499 entries, 0 to 498\n",
      "Data columns (total 14 columns):\n",
      " #   Column                   Non-Null Count  Dtype  \n",
      "---  ------                   --------------  -----  \n",
      " 0   Fecha                    499 non-null    object \n",
      " 1   Lote                     499 non-null    object \n",
      " 2   Origen                   499 non-null    object \n",
      " 3   Variedad                 499 non-null    object \n",
      " 4   Proceso                  499 non-null    object \n",
      " 5   Beneficio                499 non-null    object \n",
      " 6   Peso en Verde            499 non-null    float64\n",
      " 7   Merma                    499 non-null    float64\n",
      " 8   Peso en Tostado          499 non-null    float64\n",
      " 9   Perfil                   499 non-null    object \n",
      " 10  Temp. De inicio y final  499 non-null    object \n",
      " 11  Tiempo de tueste         499 non-null    object \n",
      " 12  Observaciones            0 non-null      float64\n",
      " 13  Tostador                 499 non-null    object \n",
      "dtypes: float64(4), object(10)\n",
      "memory usage: 54.7+ KB\n",
      "<class 'pandas.core.frame.DataFrame'>\n",
      "RangeIndex: 1584 entries, 0 to 1583\n",
      "Data columns (total 12 columns):\n",
      " #   Column                 Non-Null Count  Dtype  \n",
      "---  ------                 --------------  -----  \n",
      " 0   # PEDIDO               1491 non-null   object \n",
      " 1   FECHA DE TUESTE        1583 non-null   object \n",
      " 2   FECHA DE EMPAQUE       1583 non-null   object \n",
      " 3   TIPO DE CAFÉ           1583 non-null   object \n",
      " 4   PRESENTACIÓN           1583 non-null   object \n",
      " 5   Unnamed: 5             0 non-null      float64\n",
      " 6   CANTIDAD               1583 non-null   float64\n",
      " 7   Unnamed: 7             0 non-null      float64\n",
      " 8   Unnamed: 8             0 non-null      float64\n",
      " 9   CLIENTE                1583 non-null   object \n",
      " 10  RESPONSABLE DESPACHO   1583 non-null   object \n",
      " 11  VERIFICA               1583 non-null   object \n",
      "dtypes: float64(4), object(8)\n",
      "memory usage: 148.6+ KB\n",
      "None None None\n"
     ]
    }
   ],
   "execution_count": 3
  },
  {
   "metadata": {
    "ExecuteTime": {
     "end_time": "2025-07-12T01:55:32.261210Z",
     "start_time": "2025-07-12T01:55:32.228194Z"
    }
   },
   "cell_type": "code",
   "source": "print(Ctrl_trillado.head(),Formato_tostion.head(),Formato_Despachos.head())",
   "id": "fef8af416b3e66dd",
   "outputs": [
    {
     "name": "stdout",
     "output_type": "stream",
     "text": [
      "      FECHA     LOTE   DENOMINACIÓN/     MARCA  CANTIDAD    %H Unnamed: 5  \\\n",
      "0       NaN        NaN                     NaN       NaN   NaN        NaN   \n",
      "1       NaN        NaN                     NaN       NaN     %       C/NC   \n",
      "2  19-07-22  01-190722            Madre Laura      765.0  10.9         C    \n",
      "3   19-7-22  09-190722           Tabi Natural      204.0  10.2          C   \n",
      "4  19-07-22  10-190722              Don Mario      165.0  10.7          C   \n",
      "\n",
      "  MALLAS Unnamed: 7 VERIFICACIÓN FISICA CAFÉ TOSTADO   \\\n",
      "0    NaN        NaN                               NaN   \n",
      "1      #       C/NC                              C/NC   \n",
      "2     14         C                                  C   \n",
      "3     14          C                                 C   \n",
      "4     14          C                                 C   \n",
      "\n",
      "                                   NOTAS DE CATACIÓN PUNTAJE Unnamed: 11  \\\n",
      "0                                                NaN     NaN         NaN   \n",
      "1                                                NaN      N°        C/NC   \n",
      "2  Chocolate negro, toque frutal, cuerpo medio, a...      84          C    \n",
      "3  Frutas maduras, nibs de cacao, acidez brillant...      85           C   \n",
      "4  Panela, durazno, miel, acidez brillante citric...    84.5           C   \n",
      "\n",
      "  LIBERACIÓN DE LOTE RESPONSABLE   \n",
      "0                NaN          NaN  \n",
      "1              SI/NO          NaN  \n",
      "2                Si           LFQ  \n",
      "3                Si          LFQ   \n",
      "4                Si          LFQ         Fecha       Lote            Origen  Variedad      Proceso Beneficio   \\\n",
      "0  22-07-22  01-190722           Jerico  Dos mil   Tradicional    Lavado    \n",
      "1  25-07-22  01-190722           Jerico  Dos mil   Tradicional    Lavado    \n",
      "2  25-07-22  01-190722           Jerico  Dos mil   Tradicional    Lavado    \n",
      "3  28-07-22  01-190722           Jerico  Dos mil   Tradicional    Lavado    \n",
      "4  28-07-22  09-190722  Ciudad Bolivar      Tabi      Natural    Natural    \n",
      "\n",
      "   Peso en Verde     Merma   Peso en Tostado     Perfil   \\\n",
      "0           9.00  15.000000              7.65  Filtrado    \n",
      "1           3.00  16.666667              2.50  Espressso   \n",
      "2           9.00  16.444444              7.52  Filtrado    \n",
      "3          11.70  16.324786              9.79  Filtrado    \n",
      "4           0.45  24.444444              0.34  Filtrado    \n",
      "\n",
      "  Temp. De inicio y final Tiempo de tueste  Observaciones  Tostador  \n",
      "0               175°/191°         08:01:00             NaN      LFQ  \n",
      "1               175°/195°         08:42:00             NaN      LFQ  \n",
      "2               175°/190°         07:58:00             NaN      LFQ  \n",
      "3               175°/191°         08:02:00             NaN      LFQ  \n",
      "4               150°/186°         08:10:00             NaN      LFQ     # PEDIDO  FECHA DE TUESTE  FECHA DE EMPAQUE  TIPO DE CAFÉ    PRESENTACIÓN   \\\n",
      "0       NaN              NaN               NaN             NaN           NaN   \n",
      "1       564          22-7-22           25-7-22    Madre Laura         500 Gr   \n",
      "2       564          22-7-22           25-7-22    Madre Laura       1000 Gr    \n",
      "3       566          22-7-22           25-7-22    Madre Laura       2500 Gr    \n",
      "4       567          22-7-22           26-7-22    Madre Laura        2500 Gr   \n",
      "\n",
      "   Unnamed: 5  CANTIDAD   Unnamed: 7  Unnamed: 8          CLIENTE   \\\n",
      "0         NaN        NaN         NaN         NaN               NaN   \n",
      "1         NaN        3.0         NaN         NaN  Natalia Londoño    \n",
      "2         NaN        1.0         NaN         NaN  Natalia Londoño    \n",
      "3         NaN        2.0         NaN         NaN      Mateo Duque    \n",
      "4         NaN        1.0         NaN         NaN              Akio   \n",
      "\n",
      "  RESPONSABLE DESPACHO  VERIFICA   \n",
      "0                   NaN       NaN  \n",
      "1                  LFQ        MS   \n",
      "2                  LFQ        MS   \n",
      "3                  LFQ        MS   \n",
      "4                  LFQ        MS   \n"
     ]
    }
   ],
   "execution_count": 4
  },
  {
   "metadata": {
    "ExecuteTime": {
     "end_time": "2025-07-12T01:55:34.333229Z",
     "start_time": "2025-07-12T01:55:34.325072Z"
    }
   },
   "cell_type": "code",
   "source": [
    "print('columnas de las tablas: ')\n",
    "print(Ctrl_trillado.columns,Formato_tostion.columns,Formato_Despachos.columns)"
   ],
   "id": "263d460cf1edd67d",
   "outputs": [
    {
     "name": "stdout",
     "output_type": "stream",
     "text": [
      "columnas de las tablas: \n",
      "Index(['FECHA', 'LOTE  ', 'DENOMINACIÓN/     MARCA', 'CANTIDAD', '%H',\n",
      "       'Unnamed: 5', 'MALLAS', 'Unnamed: 7',\n",
      "       'VERIFICACIÓN FISICA CAFÉ TOSTADO ', 'NOTAS DE CATACIÓN', 'PUNTAJE',\n",
      "       'Unnamed: 11', 'LIBERACIÓN DE LOTE', 'RESPONSABLE '],\n",
      "      dtype='object') Index(['Fecha ', 'Lote ', 'Origen', 'Variedad', 'Proceso', 'Beneficio ',\n",
      "       'Peso en Verde', 'Merma ', 'Peso en Tostado ', 'Perfil ',\n",
      "       'Temp. De inicio y final', 'Tiempo de tueste', 'Observaciones ',\n",
      "       'Tostador'],\n",
      "      dtype='object') Index(['# PEDIDO ', 'FECHA DE TUESTE ', 'FECHA DE EMPAQUE ', 'TIPO DE CAFÉ   ',\n",
      "       'PRESENTACIÓN ', 'Unnamed: 5', 'CANTIDAD ', 'Unnamed: 7', 'Unnamed: 8',\n",
      "       'CLIENTE ', 'RESPONSABLE DESPACHO ', 'VERIFICA '],\n",
      "      dtype='object')\n"
     ]
    }
   ],
   "execution_count": 5
  },
  {
   "metadata": {},
   "cell_type": "markdown",
   "source": "Identificacion y limpieza de columnas importantes",
   "id": "c619227551887851"
  },
  {
   "metadata": {
    "ExecuteTime": {
     "end_time": "2025-07-12T02:32:48.240662Z",
     "start_time": "2025-07-12T02:32:48.229712Z"
    }
   },
   "cell_type": "code",
   "source": [
    "Calidad = Ctrl_trillado[['CANTIDAD','%H','MALLAS']].dropna()\n",
    "Tostion = Formato_tostion[['Peso en Verde','Peso en Tostado ','Merma ']].dropna()\n",
    "Despachos =Formato_Despachos[['CANTIDAD ']].dropna()"
   ],
   "id": "cb2aef3541c961ba",
   "outputs": [],
   "execution_count": 47
  },
  {
   "metadata": {
    "ExecuteTime": {
     "end_time": "2025-07-12T01:55:39.139849Z",
     "start_time": "2025-07-12T01:55:39.111360Z"
    }
   },
   "cell_type": "code",
   "source": "print(Calidad.info(),Tostion.info(),Despachos.info())",
   "id": "91f95cd9a68fb37b",
   "outputs": [
    {
     "name": "stdout",
     "output_type": "stream",
     "text": [
      "<class 'pandas.core.frame.DataFrame'>\n",
      "Index: 76 entries, 2 to 77\n",
      "Data columns (total 3 columns):\n",
      " #   Column    Non-Null Count  Dtype  \n",
      "---  ------    --------------  -----  \n",
      " 0   CANTIDAD  76 non-null     float64\n",
      " 1   %H        76 non-null     object \n",
      " 2   MALLAS    76 non-null     object \n",
      "dtypes: float64(1), object(2)\n",
      "memory usage: 2.4+ KB\n",
      "<class 'pandas.core.frame.DataFrame'>\n",
      "RangeIndex: 499 entries, 0 to 498\n",
      "Data columns (total 3 columns):\n",
      " #   Column            Non-Null Count  Dtype  \n",
      "---  ------            --------------  -----  \n",
      " 0   Peso en Verde     499 non-null    float64\n",
      " 1   Peso en Tostado   499 non-null    float64\n",
      " 2   Merma             499 non-null    float64\n",
      "dtypes: float64(3)\n",
      "memory usage: 11.8 KB\n",
      "<class 'pandas.core.frame.DataFrame'>\n",
      "Index: 1583 entries, 1 to 1583\n",
      "Data columns (total 1 columns):\n",
      " #   Column     Non-Null Count  Dtype  \n",
      "---  ------     --------------  -----  \n",
      " 0   CANTIDAD   1583 non-null   float64\n",
      "dtypes: float64(1)\n",
      "memory usage: 24.7 KB\n",
      "None None None\n"
     ]
    }
   ],
   "execution_count": 7
  },
  {
   "metadata": {
    "ExecuteTime": {
     "end_time": "2025-07-12T01:55:41.944636Z",
     "start_time": "2025-07-12T01:55:41.929890Z"
    }
   },
   "cell_type": "code",
   "source": [
    "print(Calidad.head())\n",
    "print(Tostion.head())\n",
    "print(Despachos.head())"
   ],
   "id": "9fa6e09a84de18d",
   "outputs": [
    {
     "name": "stdout",
     "output_type": "stream",
     "text": [
      "   CANTIDAD    %H MALLAS\n",
      "2    765.00  10.9     14\n",
      "3    204.00  10.2     14\n",
      "4    165.00  10.7     14\n",
      "5      0.45  10.5     14\n",
      "6    105.00  10.7     14\n",
      "   Peso en Verde  Peso en Tostado      Merma \n",
      "0           9.00              7.65  15.000000\n",
      "1           3.00              2.50  16.666667\n",
      "2           9.00              7.52  16.444444\n",
      "3          11.70              9.79  16.324786\n",
      "4           0.45              0.34  24.444444\n",
      "   CANTIDAD \n",
      "1        3.0\n",
      "2        1.0\n",
      "3        2.0\n",
      "4        1.0\n",
      "5        3.0\n"
     ]
    }
   ],
   "execution_count": 8
  },
  {
   "metadata": {},
   "cell_type": "markdown",
   "source": "Homogenizacion de los datos (float64)",
   "id": "11d1fe84bfbef446"
  },
  {
   "metadata": {
    "ExecuteTime": {
     "end_time": "2025-07-12T01:55:44.240971Z",
     "start_time": "2025-07-12T01:55:44.229177Z"
    }
   },
   "cell_type": "code",
   "source": [
    "Calidad = Calidad.apply(lambda col: pd.to_numeric(col, errors='coerce') if col.dtypes == 'object' else col)\n",
    "Tostion = Tostion.apply(lambda col: pd.to_numeric(col, errors='coerce') if col.dtypes == 'object' else col)\n",
    "Despachos = Despachos.apply(lambda col: pd.to_numeric(col, errors='coerce') if col.dtypes == 'object' else col)"
   ],
   "id": "d1c2f4078817876d",
   "outputs": [],
   "execution_count": 9
  },
  {
   "metadata": {
    "ExecuteTime": {
     "end_time": "2025-07-12T01:55:46.544538Z",
     "start_time": "2025-07-12T01:55:46.522468Z"
    }
   },
   "cell_type": "code",
   "source": "print(Calidad.info(),Tostion.info(),Despachos.info())",
   "id": "1ad8b618d54c5b39",
   "outputs": [
    {
     "name": "stdout",
     "output_type": "stream",
     "text": [
      "<class 'pandas.core.frame.DataFrame'>\n",
      "Index: 76 entries, 2 to 77\n",
      "Data columns (total 3 columns):\n",
      " #   Column    Non-Null Count  Dtype  \n",
      "---  ------    --------------  -----  \n",
      " 0   CANTIDAD  76 non-null     float64\n",
      " 1   %H        76 non-null     float64\n",
      " 2   MALLAS    76 non-null     int64  \n",
      "dtypes: float64(2), int64(1)\n",
      "memory usage: 2.4 KB\n",
      "<class 'pandas.core.frame.DataFrame'>\n",
      "RangeIndex: 499 entries, 0 to 498\n",
      "Data columns (total 3 columns):\n",
      " #   Column            Non-Null Count  Dtype  \n",
      "---  ------            --------------  -----  \n",
      " 0   Peso en Verde     499 non-null    float64\n",
      " 1   Peso en Tostado   499 non-null    float64\n",
      " 2   Merma             499 non-null    float64\n",
      "dtypes: float64(3)\n",
      "memory usage: 11.8 KB\n",
      "<class 'pandas.core.frame.DataFrame'>\n",
      "Index: 1583 entries, 1 to 1583\n",
      "Data columns (total 1 columns):\n",
      " #   Column     Non-Null Count  Dtype  \n",
      "---  ------     --------------  -----  \n",
      " 0   CANTIDAD   1583 non-null   float64\n",
      "dtypes: float64(1)\n",
      "memory usage: 24.7 KB\n",
      "None None None\n"
     ]
    }
   ],
   "execution_count": 10
  },
  {
   "metadata": {},
   "cell_type": "markdown",
   "source": "# **Definición de variables y preprocesamiento**",
   "id": "f62813196171f384"
  },
  {
   "metadata": {},
   "cell_type": "markdown",
   "source": "se escoje la variable objetivo y las variables de enrtada",
   "id": "6ddbad31f09a5b72"
  },
  {
   "metadata": {
    "ExecuteTime": {
     "end_time": "2025-07-12T01:55:50.584150Z",
     "start_time": "2025-07-12T01:55:50.571571Z"
    }
   },
   "cell_type": "code",
   "source": [
    "VariableObjetivoY = Ctrl_trillado[['PUNTAJE']]\n",
    "VariableEntradaX = pd.concat([Calidad, Tostion], axis=1)\n"
   ],
   "id": "d711ef35633f4786",
   "outputs": [],
   "execution_count": 11
  },
  {
   "metadata": {
    "ExecuteTime": {
     "end_time": "2025-07-12T01:55:53.759471Z",
     "start_time": "2025-07-12T01:55:53.742173Z"
    }
   },
   "cell_type": "code",
   "source": [
    "print(VariableObjetivoY.info())\n",
    "print(VariableEntradaX.info())"
   ],
   "id": "d1394fa0a9605a98",
   "outputs": [
    {
     "name": "stdout",
     "output_type": "stream",
     "text": [
      "<class 'pandas.core.frame.DataFrame'>\n",
      "RangeIndex: 95 entries, 0 to 94\n",
      "Data columns (total 1 columns):\n",
      " #   Column   Non-Null Count  Dtype \n",
      "---  ------   --------------  ----- \n",
      " 0   PUNTAJE  76 non-null     object\n",
      "dtypes: object(1)\n",
      "memory usage: 892.0+ bytes\n",
      "None\n",
      "<class 'pandas.core.frame.DataFrame'>\n",
      "Index: 499 entries, 2 to 498\n",
      "Data columns (total 6 columns):\n",
      " #   Column            Non-Null Count  Dtype  \n",
      "---  ------            --------------  -----  \n",
      " 0   CANTIDAD          76 non-null     float64\n",
      " 1   %H                76 non-null     float64\n",
      " 2   MALLAS            76 non-null     float64\n",
      " 3   Peso en Verde     499 non-null    float64\n",
      " 4   Peso en Tostado   499 non-null    float64\n",
      " 5   Merma             499 non-null    float64\n",
      "dtypes: float64(6)\n",
      "memory usage: 27.3 KB\n",
      "None\n"
     ]
    }
   ],
   "execution_count": 12
  },
  {
   "metadata": {},
   "cell_type": "markdown",
   "source": "vemos que hay una incongruencia con la cantidad de valores, asi que para reemplazar los NaN usaremos la Media",
   "id": "4081566db0171a99"
  },
  {
   "metadata": {
    "ExecuteTime": {
     "end_time": "2025-07-12T01:56:00.279411Z",
     "start_time": "2025-07-12T01:56:00.266668Z"
    }
   },
   "cell_type": "code",
   "source": [
    "VariableEntradaX['CANTIDAD'] = VariableEntradaX['CANTIDAD'].fillna(VariableEntradaX['CANTIDAD'].mean())\n",
    "VariableEntradaX['%H'] = VariableEntradaX['%H'].fillna(VariableEntradaX['%H'].mean())\n",
    "VariableEntradaX['MALLAS'] = VariableEntradaX['MALLAS'].fillna(VariableEntradaX['MALLAS'].mean())"
   ],
   "id": "ac8018b93aa8587d",
   "outputs": [],
   "execution_count": 13
  },
  {
   "metadata": {
    "ExecuteTime": {
     "end_time": "2025-07-12T01:56:02.455578Z",
     "start_time": "2025-07-12T01:56:02.435142Z"
    }
   },
   "cell_type": "code",
   "source": [
    "print(VariableObjetivoY.info())\n",
    "print(VariableEntradaX.info())"
   ],
   "id": "41e485308ce64408",
   "outputs": [
    {
     "name": "stdout",
     "output_type": "stream",
     "text": [
      "<class 'pandas.core.frame.DataFrame'>\n",
      "RangeIndex: 95 entries, 0 to 94\n",
      "Data columns (total 1 columns):\n",
      " #   Column   Non-Null Count  Dtype \n",
      "---  ------   --------------  ----- \n",
      " 0   PUNTAJE  76 non-null     object\n",
      "dtypes: object(1)\n",
      "memory usage: 892.0+ bytes\n",
      "None\n",
      "<class 'pandas.core.frame.DataFrame'>\n",
      "Index: 499 entries, 2 to 498\n",
      "Data columns (total 6 columns):\n",
      " #   Column            Non-Null Count  Dtype  \n",
      "---  ------            --------------  -----  \n",
      " 0   CANTIDAD          499 non-null    float64\n",
      " 1   %H                499 non-null    float64\n",
      " 2   MALLAS            499 non-null    float64\n",
      " 3   Peso en Verde     499 non-null    float64\n",
      " 4   Peso en Tostado   499 non-null    float64\n",
      " 5   Merma             499 non-null    float64\n",
      "dtypes: float64(6)\n",
      "memory usage: 27.3 KB\n",
      "None\n"
     ]
    }
   ],
   "execution_count": 14
  },
  {
   "metadata": {},
   "cell_type": "markdown",
   "source": "Prosigo con el escalado\n",
   "id": "3676187874d44e48"
  },
  {
   "metadata": {
    "ExecuteTime": {
     "end_time": "2025-07-12T01:56:08.183526Z",
     "start_time": "2025-07-12T01:56:08.170570Z"
    }
   },
   "cell_type": "code",
   "source": [
    "scaler = StandardScaler()\n",
    "X_scaled = scaler.fit_transform(VariableEntradaX)\n",
    "X_scaled = pd.DataFrame(X_scaled, columns=VariableEntradaX.columns)"
   ],
   "id": "5a078be967b001c8",
   "outputs": [],
   "execution_count": 15
  },
  {
   "metadata": {
    "ExecuteTime": {
     "end_time": "2025-07-12T02:23:04.700868Z",
     "start_time": "2025-07-12T02:23:04.679877Z"
    }
   },
   "cell_type": "code",
   "source": [
    "print(X_scaled.head(20))\n",
    "X = X_scaled[0:95].dropna()\n",
    "print(X.info())"
   ],
   "id": "8e8deedaac98c51d",
   "outputs": [
    {
     "name": "stdout",
     "output_type": "stream",
     "text": [
      "    CANTIDAD        %H    MALLAS  Peso en Verde  Peso en Tostado     Merma \n",
      "0   8.658851  3.847442 -0.499081      -0.311508         -0.310390 -0.312849\n",
      "1   0.969189 -4.025016 -0.499081      -0.224248         -0.221477 -0.368406\n",
      "2   0.434613  1.598168 -0.499081      -0.587830         -0.591619  3.401540\n",
      "3  -1.820884 -0.651106 -0.499081      -0.587830         -0.591619  3.401540\n",
      "4  -0.387811  1.598168 -0.499081       0.334861          0.356649 -0.823400\n",
      "5  -0.387811  1.598168 -0.499081      -0.505418         -0.506624 -0.364438\n",
      "6   1.051431  1.598168 -0.499081      -0.408463         -0.409094 -0.209671\n",
      "7  -1.662567 -2.900379 -0.499081      -0.214552         -0.209335 -0.596587\n",
      "8  -1.561135 -0.651106 -0.499081       2.112375          2.136854 -0.209671\n",
      "9  -1.347305  2.722805 -0.499081      -0.214552         -0.213252 -0.209671\n",
      "10 -0.867558  1.598168 -0.499081       0.755001          0.765959 -0.209671\n",
      "11  6.191579  7.221352 -0.499081       0.338093          0.349207 -0.385180\n",
      "12  1.051431 -0.651106 -0.499081      -0.408463         -0.409094 -0.209671\n",
      "13  0.091937  7.221352 -0.499081       0.173269          0.178432 -0.209671\n",
      "14 -0.442639  2.722805 -0.499081      -0.408463         -0.409094 -0.209671\n",
      "15 -0.867558 -0.651106 -0.499081       0.561090          0.589701 -0.854531\n",
      "16 -1.155406  0.473531 -0.499081      -0.505418         -0.507015 -0.209671\n",
      "17 -1.689982 -4.025016 -0.499081       2.177012          2.136854  0.690132\n",
      "18 -1.018336  2.722805 -0.499081       0.367180          0.374274 -0.209671\n",
      "19 -1.758517 -2.900379 -0.499081      -0.408463         -0.409094 -0.209671\n",
      "<class 'pandas.core.frame.DataFrame'>\n",
      "RangeIndex: 95 entries, 0 to 94\n",
      "Data columns (total 6 columns):\n",
      " #   Column            Non-Null Count  Dtype  \n",
      "---  ------            --------------  -----  \n",
      " 0   CANTIDAD          95 non-null     float64\n",
      " 1   %H                95 non-null     float64\n",
      " 2   MALLAS            95 non-null     float64\n",
      " 3   Peso en Verde     95 non-null     float64\n",
      " 4   Peso en Tostado   95 non-null     float64\n",
      " 5   Merma             95 non-null     float64\n",
      "dtypes: float64(6)\n",
      "memory usage: 4.6 KB\n",
      "None\n"
     ]
    }
   ],
   "execution_count": 26
  },
  {
   "metadata": {},
   "cell_type": "markdown",
   "source": "division de los datos en conjuntos de prueba y entrenamiento\n",
   "id": "8d2787342b7b59bf"
  },
  {
   "metadata": {
    "ExecuteTime": {
     "end_time": "2025-07-12T02:32:45.928745Z",
     "start_time": "2025-07-12T02:32:45.921749Z"
    }
   },
   "cell_type": "code",
   "source": "x_train, x_test, y_train, y_test = train_test_split(X, VariableObjetivoY, train_size=0.80, test_size=0.20, random_state=42)",
   "id": "7fe41e6dc91e4d3c",
   "outputs": [],
   "execution_count": 46
  },
  {
   "metadata": {},
   "cell_type": "markdown",
   "source": "# **ENTRENAMIENTO DE MODELOS DE REGRESION**",
   "id": "75dde8dbf4bc923b"
  },
  {
   "metadata": {},
   "cell_type": "markdown",
   "source": "Modelo #1",
   "id": "6ea1611060f6d1bf"
  },
  {
   "metadata": {},
   "cell_type": "code",
   "source": [
    "LinearR = LinearRegression()\n",
    "LinearR.fit(x_train, y_train)"
   ],
   "id": "4469c9c725e23161",
   "outputs": [],
   "execution_count": null
  },
  {
   "metadata": {},
   "cell_type": "markdown",
   "source": "Modelo #2\n",
   "id": "8d5094e0108ac011"
  },
  {
   "metadata": {},
   "cell_type": "code",
   "source": [
    "rf = RandomForestRegressor(random_state=42)\n",
    "rf.fit(X_train, y_train)"
   ],
   "id": "a4f7aaf62dcfccef",
   "outputs": [],
   "execution_count": null
  }
 ],
 "metadata": {
  "kernelspec": {
   "display_name": "Python 3",
   "language": "python",
   "name": "python3"
  },
  "language_info": {
   "codemirror_mode": {
    "name": "ipython",
    "version": 2
   },
   "file_extension": ".py",
   "mimetype": "text/x-python",
   "name": "python",
   "nbconvert_exporter": "python",
   "pygments_lexer": "ipython2",
   "version": "2.7.6"
  }
 },
 "nbformat": 4,
 "nbformat_minor": 5
}
