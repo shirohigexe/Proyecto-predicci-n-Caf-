{
 "cells": [
  {
   "cell_type": "code",
   "id": "initial_id",
   "metadata": {
    "collapsed": true,
    "ExecuteTime": {
     "end_time": "2025-07-17T14:06:55.533531Z",
     "start_time": "2025-07-17T14:06:55.528542Z"
    }
   },
   "source": [
    "\n",
    "import pandas as pd\n",
    "from sklearn.model_selection import train_test_split\n",
    "from sklearn.preprocessing import StandardScaler, LabelEncoder\n",
    "from sklearn.linear_model import LinearRegression\n",
    "from sklearn.ensemble import RandomForestRegressor\n",
    "from sklearn.metrics import mean_squared_error, r2_score, mean_absolute_error\n",
    "import matplotlib.pyplot as plt\n",
    "import shap\n",
    "import random\n"
   ],
   "outputs": [],
   "execution_count": 32
  },
  {
   "metadata": {},
   "cell_type": "markdown",
   "source": "# **ANALISIS EXPLORATORIO**",
   "id": "5ba82998f213c62a"
  },
  {
   "metadata": {},
   "cell_type": "markdown",
   "source": "Cargamos e inspeccionamos los datos",
   "id": "2223101ece748984"
  },
  {
   "metadata": {
    "ExecuteTime": {
     "end_time": "2025-07-17T14:06:57.207924Z",
     "start_time": "2025-07-17T14:06:55.626035Z"
    }
   },
   "cell_type": "code",
   "source": [
    "hoja1 = pd.read_excel('Data/CC FT 17   Formato de Control de Calidad Café de Trillado (1).xlsx', sheet_name= 'CONTROL CALIDAD CAFE TRILLADO J',header = 5)\n",
    "hoja2 = pd.read_excel('Data/CC FT 17   Formato de Control de Calidad Café de Trillado (1).xlsx', sheet_name= 'Sheet2',header = 5)\n",
    "tostion1 = pd.read_excel('Data/CC FT 18  Formato de  Tostión (1).xlsx',sheet_name='TOSTIÓN JERICÓ L', header = 5)\n",
    "tostion2 = pd.read_excel('Data/CC FT 18  Formato de  Tostión (1).xlsx',sheet_name='TOSTIÓN JERICÓ', header = 5)\n",
    "Formato_Despachos = pd.read_excel('Data/CC FT 21   Formato de Control de Despachos (1).xlsx', header = 5)"
   ],
   "id": "4d6c55522bafd389",
   "outputs": [],
   "execution_count": 33
  },
  {
   "metadata": {
    "ExecuteTime": {
     "end_time": "2025-07-17T14:06:57.289561Z",
     "start_time": "2025-07-17T14:06:57.282187Z"
    }
   },
   "cell_type": "code",
   "source": [
    "Ctrl_trillado = pd.concat([hoja1,hoja2])\n",
    "Formato_tostion = pd.concat([tostion1,tostion2])"
   ],
   "id": "a5a320b410dd7829",
   "outputs": [],
   "execution_count": 34
  },
  {
   "metadata": {
    "ExecuteTime": {
     "end_time": "2025-07-17T14:06:57.415299Z",
     "start_time": "2025-07-17T14:06:57.393021Z"
    }
   },
   "cell_type": "code",
   "source": [
    "print(Ctrl_trillado.head())\n",
    "print(Formato_tostion.head())\n",
    "print(Formato_Despachos.head())"
   ],
   "id": "fef8af416b3e66dd",
   "outputs": [
    {
     "name": "stdout",
     "output_type": "stream",
     "text": [
      "      FECHA     LOTE   DENOMINACIÓN/     MARCA  CANTIDAD    %H Unnamed: 5  \\\n",
      "0       NaN        NaN                     NaN       NaN   NaN        NaN   \n",
      "1       NaN        NaN                     NaN       NaN     %       C/NC   \n",
      "2  19-07-22  01-190722            Madre Laura      765.0  10.9         C    \n",
      "3   19-7-22  09-190722           Tabi Natural      204.0  10.2          C   \n",
      "4  19-07-22  10-190722              Don Mario      165.0  10.7          C   \n",
      "\n",
      "  MALLAS Unnamed: 7 VERIFICACIÓN FISICA CAFÉ TOSTADO   \\\n",
      "0    NaN        NaN                               NaN   \n",
      "1      #       C/NC                              C/NC   \n",
      "2     14         C                                  C   \n",
      "3     14          C                                 C   \n",
      "4     14          C                                 C   \n",
      "\n",
      "                                   NOTAS DE CATACIÓN PUNTAJE Unnamed: 11  \\\n",
      "0                                                NaN     NaN         NaN   \n",
      "1                                                NaN      N°        C/NC   \n",
      "2  Chocolate negro, toque frutal, cuerpo medio, a...      84          C    \n",
      "3  Frutas maduras, nibs de cacao, acidez brillant...      85           C   \n",
      "4  Panela, durazno, miel, acidez brillante citric...    84.5           C   \n",
      "\n",
      "  LIBERACIÓN DE LOTE RESPONSABLE   CANTIDAD   \n",
      "0                NaN          NaN        NaN  \n",
      "1              SI/NO          NaN        NaN  \n",
      "2                Si           LFQ        NaN  \n",
      "3                Si          LFQ         NaN  \n",
      "4                Si          LFQ         NaN  \n",
      "     Fecha       Lote            Origen  Variedad      Proceso Beneficio   \\\n",
      "0  22-07-22  01-190722           Jerico  Dos mil   Tradicional    Lavado    \n",
      "1  25-07-22  01-190722           Jerico  Dos mil   Tradicional    Lavado    \n",
      "2  25-07-22  01-190722           Jerico  Dos mil   Tradicional    Lavado    \n",
      "3  28-07-22  01-190722           Jerico  Dos mil   Tradicional    Lavado    \n",
      "4  28-07-22  09-190722  Ciudad Bolivar      Tabi      Natural    Natural    \n",
      "\n",
      "   Peso en Verde     Merma   Peso en Tostado     Perfil   \\\n",
      "0           9.00  15.000000              7.65  Filtrado    \n",
      "1           3.00  16.666667              2.50  Espressso   \n",
      "2           9.00  16.444444              7.52  Filtrado    \n",
      "3          11.70  16.324786              9.79  Filtrado    \n",
      "4           0.45  24.444444              0.34  Filtrado    \n",
      "\n",
      "  Temp. De inicio y final Tiempo de tueste Observaciones  Tostador  \n",
      "0               175°/191°         08:01:00            NaN      LFQ  \n",
      "1               175°/195°         08:42:00            NaN      LFQ  \n",
      "2               175°/190°         07:58:00            NaN      LFQ  \n",
      "3               175°/191°         08:02:00            NaN      LFQ  \n",
      "4               150°/186°         08:10:00            NaN      LFQ  \n",
      "  # PEDIDO  FECHA DE TUESTE  FECHA DE EMPAQUE  TIPO DE CAFÉ    PRESENTACIÓN   \\\n",
      "0       NaN              NaN               NaN             NaN           NaN   \n",
      "1       564          22-7-22           25-7-22    Madre Laura         500 Gr   \n",
      "2       564          22-7-22           25-7-22    Madre Laura       1000 Gr    \n",
      "3       566          22-7-22           25-7-22    Madre Laura       2500 Gr    \n",
      "4       567          22-7-22           26-7-22    Madre Laura        2500 Gr   \n",
      "\n",
      "   Unnamed: 5  CANTIDAD   Unnamed: 7  Unnamed: 8          CLIENTE   \\\n",
      "0         NaN        NaN         NaN         NaN               NaN   \n",
      "1         NaN        3.0         NaN         NaN  Natalia Londoño    \n",
      "2         NaN        1.0         NaN         NaN  Natalia Londoño    \n",
      "3         NaN        2.0         NaN         NaN      Mateo Duque    \n",
      "4         NaN        1.0         NaN         NaN              Akio   \n",
      "\n",
      "  RESPONSABLE DESPACHO  VERIFICA   \n",
      "0                   NaN       NaN  \n",
      "1                  LFQ        MS   \n",
      "2                  LFQ        MS   \n",
      "3                  LFQ        MS   \n",
      "4                  LFQ        MS   \n"
     ]
    }
   ],
   "execution_count": 35
  },
  {
   "metadata": {
    "ExecuteTime": {
     "end_time": "2025-07-17T14:06:57.518159Z",
     "start_time": "2025-07-17T14:06:57.510921Z"
    }
   },
   "cell_type": "code",
   "source": [
    "print('columnas de las tablas: ')\n",
    "print(Ctrl_trillado.columns)\n",
    "print(Formato_tostion.columns)\n",
    "print(Formato_Despachos.columns)"
   ],
   "id": "263d460cf1edd67d",
   "outputs": [
    {
     "name": "stdout",
     "output_type": "stream",
     "text": [
      "columnas de las tablas: \n",
      "Index(['FECHA', 'LOTE  ', 'DENOMINACIÓN/     MARCA', 'CANTIDAD', '%H',\n",
      "       'Unnamed: 5', 'MALLAS', 'Unnamed: 7',\n",
      "       'VERIFICACIÓN FISICA CAFÉ TOSTADO ', 'NOTAS DE CATACIÓN', 'PUNTAJE',\n",
      "       'Unnamed: 11', 'LIBERACIÓN DE LOTE', 'RESPONSABLE ', 'CANTIDAD '],\n",
      "      dtype='object')\n",
      "Index(['Fecha ', 'Lote ', 'Origen', 'Variedad', 'Proceso', 'Beneficio ',\n",
      "       'Peso en Verde', 'Merma ', 'Peso en Tostado ', 'Perfil ',\n",
      "       'Temp. De inicio y final', 'Tiempo de tueste', 'Observaciones ',\n",
      "       'Tostador'],\n",
      "      dtype='object')\n",
      "Index(['# PEDIDO ', 'FECHA DE TUESTE ', 'FECHA DE EMPAQUE ', 'TIPO DE CAFÉ   ',\n",
      "       'PRESENTACIÓN ', 'Unnamed: 5', 'CANTIDAD ', 'Unnamed: 7', 'Unnamed: 8',\n",
      "       'CLIENTE ', 'RESPONSABLE DESPACHO ', 'VERIFICA '],\n",
      "      dtype='object')\n"
     ]
    }
   ],
   "execution_count": 36
  },
  {
   "metadata": {},
   "cell_type": "markdown",
   "source": "Identificacion y limpieza de columnas importantes",
   "id": "c619227551887851"
  },
  {
   "metadata": {
    "ExecuteTime": {
     "end_time": "2025-07-17T14:06:57.627233Z",
     "start_time": "2025-07-17T14:06:57.617142Z"
    }
   },
   "cell_type": "code",
   "source": [
    "'''emparejo los titulos de las columnas para poder hacer su tratamiento mas comodo'''\n",
    "\n",
    "Ctrl_trillado.columns = Ctrl_trillado.columns.str.strip().str.lower().str.replace(' ','')\n",
    "Formato_tostion.columns = Formato_tostion.columns.str.strip().str.lower().str.replace(' ','')\n",
    "Formato_Despachos.columns = Formato_Despachos.columns.str.strip().str.lower().str.replace(' ','')\n",
    "print(Ctrl_trillado.columns)\n",
    "print(Formato_tostion.columns)\n",
    "print(Formato_Despachos.columns)"
   ],
   "id": "cb2aef3541c961ba",
   "outputs": [
    {
     "name": "stdout",
     "output_type": "stream",
     "text": [
      "Index(['fecha', 'lote', 'denominación/marca', 'cantidad', '%h', 'unnamed:5',\n",
      "       'mallas', 'unnamed:7', 'verificaciónfisicacafétostado',\n",
      "       'notasdecatación', 'puntaje', 'unnamed:11', 'liberacióndelote',\n",
      "       'responsable', 'cantidad'],\n",
      "      dtype='object')\n",
      "Index(['fecha', 'lote', 'origen', 'variedad', 'proceso', 'beneficio',\n",
      "       'pesoenverde', 'merma', 'pesoentostado', 'perfil',\n",
      "       'temp.deinicioyfinal', 'tiempodetueste', 'observaciones', 'tostador'],\n",
      "      dtype='object')\n",
      "Index(['#pedido', 'fechadetueste', 'fechadeempaque', 'tipodecafé',\n",
      "       'presentación', 'unnamed:5', 'cantidad', 'unnamed:7', 'unnamed:8',\n",
      "       'cliente', 'responsabledespacho', 'verifica'],\n",
      "      dtype='object')\n"
     ]
    }
   ],
   "execution_count": 37
  },
  {
   "metadata": {
    "ExecuteTime": {
     "end_time": "2025-07-17T14:06:57.746668Z",
     "start_time": "2025-07-17T14:06:57.722656Z"
    }
   },
   "cell_type": "code",
   "source": [
    "print(Ctrl_trillado.info())\n",
    "print(Formato_tostion.info())\n",
    "print(Formato_Despachos.info())"
   ],
   "id": "91f95cd9a68fb37b",
   "outputs": [
    {
     "name": "stdout",
     "output_type": "stream",
     "text": [
      "<class 'pandas.core.frame.DataFrame'>\n",
      "Index: 141 entries, 0 to 45\n",
      "Data columns (total 15 columns):\n",
      " #   Column                         Non-Null Count  Dtype  \n",
      "---  ------                         --------------  -----  \n",
      " 0   fecha                          116 non-null    object \n",
      " 1   lote                           108 non-null    object \n",
      " 2   denominación/marca             108 non-null    object \n",
      " 3   cantidad                       76 non-null     float64\n",
      " 4   %h                             110 non-null    object \n",
      " 5   unnamed:5                      112 non-null    object \n",
      " 6   mallas                         110 non-null    object \n",
      " 7   unnamed:7                      110 non-null    object \n",
      " 8   verificaciónfisicacafétostado  110 non-null    object \n",
      " 9   notasdecatación                107 non-null    object \n",
      " 10  puntaje                        108 non-null    object \n",
      " 11  unnamed:11                     109 non-null    object \n",
      " 12  liberacióndelote               109 non-null    object \n",
      " 13  responsable                    107 non-null    object \n",
      " 14  cantidad                       32 non-null     float64\n",
      "dtypes: float64(2), object(13)\n",
      "memory usage: 17.6+ KB\n",
      "None\n",
      "<class 'pandas.core.frame.DataFrame'>\n",
      "Index: 529 entries, 0 to 29\n",
      "Data columns (total 14 columns):\n",
      " #   Column               Non-Null Count  Dtype  \n",
      "---  ------               --------------  -----  \n",
      " 0   fecha                529 non-null    object \n",
      " 1   lote                 529 non-null    object \n",
      " 2   origen               529 non-null    object \n",
      " 3   variedad             529 non-null    object \n",
      " 4   proceso              529 non-null    object \n",
      " 5   beneficio            529 non-null    object \n",
      " 6   pesoenverde          529 non-null    float64\n",
      " 7   merma                529 non-null    float64\n",
      " 8   pesoentostado        529 non-null    float64\n",
      " 9   perfil               529 non-null    object \n",
      " 10  temp.deinicioyfinal  529 non-null    object \n",
      " 11  tiempodetueste       529 non-null    object \n",
      " 12  observaciones        19 non-null     object \n",
      " 13  tostador             529 non-null    object \n",
      "dtypes: float64(3), object(11)\n",
      "memory usage: 62.0+ KB\n",
      "None\n",
      "<class 'pandas.core.frame.DataFrame'>\n",
      "RangeIndex: 1584 entries, 0 to 1583\n",
      "Data columns (total 12 columns):\n",
      " #   Column               Non-Null Count  Dtype  \n",
      "---  ------               --------------  -----  \n",
      " 0   #pedido              1491 non-null   object \n",
      " 1   fechadetueste        1583 non-null   object \n",
      " 2   fechadeempaque       1583 non-null   object \n",
      " 3   tipodecafé           1583 non-null   object \n",
      " 4   presentación         1583 non-null   object \n",
      " 5   unnamed:5            0 non-null      float64\n",
      " 6   cantidad             1583 non-null   float64\n",
      " 7   unnamed:7            0 non-null      float64\n",
      " 8   unnamed:8            0 non-null      float64\n",
      " 9   cliente              1583 non-null   object \n",
      " 10  responsabledespacho  1583 non-null   object \n",
      " 11  verifica             1583 non-null   object \n",
      "dtypes: float64(4), object(8)\n",
      "memory usage: 148.6+ KB\n",
      "None\n"
     ]
    }
   ],
   "execution_count": 38
  },
  {
   "metadata": {
    "ExecuteTime": {
     "end_time": "2025-07-17T14:06:57.865256Z",
     "start_time": "2025-07-17T14:06:57.843870Z"
    }
   },
   "cell_type": "code",
   "source": [
    "print(Ctrl_trillado.head())\n",
    "print(Formato_tostion.head())\n",
    "print(Formato_Despachos.head())"
   ],
   "id": "c69df32ebcb09242",
   "outputs": [
    {
     "name": "stdout",
     "output_type": "stream",
     "text": [
      "      fecha       lote denominación/marca  cantidad    %h unnamed:5 mallas  \\\n",
      "0       NaN        NaN                NaN       NaN   NaN       NaN    NaN   \n",
      "1       NaN        NaN                NaN       NaN     %      C/NC      #   \n",
      "2  19-07-22  01-190722       Madre Laura      765.0  10.9        C      14   \n",
      "3   19-7-22  09-190722      Tabi Natural      204.0  10.2         C     14   \n",
      "4  19-07-22  10-190722         Don Mario      165.0  10.7         C     14   \n",
      "\n",
      "  unnamed:7 verificaciónfisicacafétostado  \\\n",
      "0       NaN                           NaN   \n",
      "1      C/NC                          C/NC   \n",
      "2        C                              C   \n",
      "3         C                             C   \n",
      "4         C                             C   \n",
      "\n",
      "                                     notasdecatación puntaje unnamed:11  \\\n",
      "0                                                NaN     NaN        NaN   \n",
      "1                                                NaN      N°       C/NC   \n",
      "2  Chocolate negro, toque frutal, cuerpo medio, a...      84         C    \n",
      "3  Frutas maduras, nibs de cacao, acidez brillant...      85          C   \n",
      "4  Panela, durazno, miel, acidez brillante citric...    84.5          C   \n",
      "\n",
      "  liberacióndelote responsable  cantidad  \n",
      "0              NaN         NaN       NaN  \n",
      "1            SI/NO         NaN       NaN  \n",
      "2              Si          LFQ       NaN  \n",
      "3              Si         LFQ        NaN  \n",
      "4              Si         LFQ        NaN  \n",
      "      fecha       lote           origen  variedad      proceso beneficio  \\\n",
      "0  22-07-22  01-190722           Jerico  Dos mil   Tradicional   Lavado    \n",
      "1  25-07-22  01-190722           Jerico  Dos mil   Tradicional   Lavado    \n",
      "2  25-07-22  01-190722           Jerico  Dos mil   Tradicional   Lavado    \n",
      "3  28-07-22  01-190722           Jerico  Dos mil   Tradicional   Lavado    \n",
      "4  28-07-22  09-190722  Ciudad Bolivar      Tabi      Natural   Natural    \n",
      "\n",
      "   pesoenverde      merma  pesoentostado     perfil temp.deinicioyfinal  \\\n",
      "0         9.00  15.000000           7.65  Filtrado            175°/191°   \n",
      "1         3.00  16.666667           2.50  Espressso           175°/195°   \n",
      "2         9.00  16.444444           7.52  Filtrado            175°/190°   \n",
      "3        11.70  16.324786           9.79  Filtrado            175°/191°   \n",
      "4         0.45  24.444444           0.34  Filtrado            150°/186°   \n",
      "\n",
      "  tiempodetueste observaciones tostador  \n",
      "0       08:01:00           NaN      LFQ  \n",
      "1       08:42:00           NaN      LFQ  \n",
      "2       07:58:00           NaN      LFQ  \n",
      "3       08:02:00           NaN      LFQ  \n",
      "4       08:10:00           NaN      LFQ  \n",
      "  #pedido fechadetueste fechadeempaque    tipodecafé presentación  unnamed:5  \\\n",
      "0     NaN           NaN            NaN           NaN          NaN        NaN   \n",
      "1     564       22-7-22        25-7-22  Madre Laura        500 Gr        NaN   \n",
      "2     564       22-7-22        25-7-22  Madre Laura      1000 Gr         NaN   \n",
      "3     566       22-7-22        25-7-22  Madre Laura      2500 Gr         NaN   \n",
      "4     567       22-7-22        26-7-22  Madre Laura       2500 Gr        NaN   \n",
      "\n",
      "   cantidad  unnamed:7  unnamed:8           cliente responsabledespacho  \\\n",
      "0       NaN        NaN        NaN               NaN                 NaN   \n",
      "1       3.0        NaN        NaN  Natalia Londoño                 LFQ    \n",
      "2       1.0        NaN        NaN  Natalia Londoño                 LFQ    \n",
      "3       2.0        NaN        NaN      Mateo Duque                 LFQ    \n",
      "4       1.0        NaN        NaN              Akio                LFQ    \n",
      "\n",
      "  verifica  \n",
      "0      NaN  \n",
      "1      MS   \n",
      "2      MS   \n",
      "3      MS   \n",
      "4      MS   \n"
     ]
    }
   ],
   "execution_count": 39
  },
  {
   "metadata": {
    "ExecuteTime": {
     "end_time": "2025-07-17T14:06:58.001487Z",
     "start_time": "2025-07-17T14:06:57.975799Z"
    }
   },
   "cell_type": "code",
   "source": [
    "'''uso de merge para trabajar con una sola tabla'''\n",
    "\n",
    "df = pd.merge(Ctrl_trillado, Formato_tostion, how='outer', on='lote')\n",
    "print(df.info())"
   ],
   "id": "e3c5afed5331b51f",
   "outputs": [
    {
     "name": "stdout",
     "output_type": "stream",
     "text": [
      "<class 'pandas.core.frame.DataFrame'>\n",
      "RangeIndex: 666 entries, 0 to 665\n",
      "Data columns (total 28 columns):\n",
      " #   Column                         Non-Null Count  Dtype  \n",
      "---  ------                         --------------  -----  \n",
      " 0   fecha_x                        520 non-null    object \n",
      " 1   lote                           633 non-null    object \n",
      " 2   denominación/marca             512 non-null    object \n",
      " 3   cantidad                       442 non-null    float64\n",
      " 4   %h                             514 non-null    object \n",
      " 5   unnamed:5                      516 non-null    object \n",
      " 6   mallas                         514 non-null    object \n",
      " 7   unnamed:7                      514 non-null    object \n",
      " 8   verificaciónfisicacafétostado  514 non-null    object \n",
      " 9   notasdecatación                511 non-null    object \n",
      " 10  puntaje                        506 non-null    object \n",
      " 11  unnamed:11                     513 non-null    object \n",
      " 12  liberacióndelote               513 non-null    object \n",
      " 13  responsable                    511 non-null    object \n",
      " 14  cantidad                       70 non-null     float64\n",
      " 15  fecha_y                        590 non-null    object \n",
      " 16  origen                         590 non-null    object \n",
      " 17  variedad                       590 non-null    object \n",
      " 18  proceso                        590 non-null    object \n",
      " 19  beneficio                      590 non-null    object \n",
      " 20  pesoenverde                    590 non-null    float64\n",
      " 21  merma                          590 non-null    float64\n",
      " 22  pesoentostado                  590 non-null    float64\n",
      " 23  perfil                         590 non-null    object \n",
      " 24  temp.deinicioyfinal            590 non-null    object \n",
      " 25  tiempodetueste                 590 non-null    object \n",
      " 26  observaciones                  19 non-null     object \n",
      " 27  tostador                       590 non-null    object \n",
      "dtypes: float64(5), object(23)\n",
      "memory usage: 145.8+ KB\n",
      "None\n"
     ]
    }
   ],
   "execution_count": 40
  },
  {
   "metadata": {
    "ExecuteTime": {
     "end_time": "2025-07-17T14:06:58.151937Z",
     "start_time": "2025-07-17T14:06:58.112239Z"
    }
   },
   "cell_type": "code",
   "source": [
    "\n",
    "datos_de_interes = ['%h','mallas','origen','variedad','proceso','beneficio','pesoenverde','pesoentostado','merma','perfil','temp.deinicioyfinal','tiempodetueste','responsable','puntaje']\n",
    "\n",
    "df_final = pd.DataFrame()\n",
    "for i in datos_de_interes:\n",
    "    cont = 0\n",
    "    df_final.insert(cont,i,df[i])\n",
    "    cont += 1\n",
    "print(df_final.info())\n",
    "print(df_final.head(20))"
   ],
   "id": "cea27354aaf087f6",
   "outputs": [
    {
     "name": "stdout",
     "output_type": "stream",
     "text": [
      "<class 'pandas.core.frame.DataFrame'>\n",
      "RangeIndex: 666 entries, 0 to 665\n",
      "Data columns (total 14 columns):\n",
      " #   Column               Non-Null Count  Dtype  \n",
      "---  ------               --------------  -----  \n",
      " 0   puntaje              506 non-null    object \n",
      " 1   responsable          511 non-null    object \n",
      " 2   tiempodetueste       590 non-null    object \n",
      " 3   temp.deinicioyfinal  590 non-null    object \n",
      " 4   perfil               590 non-null    object \n",
      " 5   merma                590 non-null    float64\n",
      " 6   pesoentostado        590 non-null    float64\n",
      " 7   pesoenverde          590 non-null    float64\n",
      " 8   beneficio            590 non-null    object \n",
      " 9   proceso              590 non-null    object \n",
      " 10  variedad             590 non-null    object \n",
      " 11  origen               590 non-null    object \n",
      " 12  mallas               514 non-null    object \n",
      " 13  %h                   514 non-null    object \n",
      "dtypes: float64(3), object(11)\n",
      "memory usage: 73.0+ KB\n",
      "None\n",
      "   puntaje responsable tiempodetueste temp.deinicioyfinal     perfil  \\\n",
      "0       84         LFQ       08:47:00           175°/195°   Espresso   \n",
      "1       84         LFQ       06:54:00           175°/195°   Filtrado   \n",
      "2       84         LFQ       06:54:00           175°/195°   Filtrado   \n",
      "3       84         LFQ       08:47:00           175°/195°   Espresso   \n",
      "4       84         LFQ       06:54:00           175°/195°   Filtrado   \n",
      "5       84         LFQ       08:47:00           175°/195°   Espresso   \n",
      "6       84         LFQ       08:47:00           175°/195°   Espresso   \n",
      "7       84         LFQ       08:10:00           170°/191°  Filtrado    \n",
      "8       84         LFQ       08:49:00           175°/195°   Espresso   \n",
      "9       84         LFQ       08:32:00           175°/195°   Filtrado   \n",
      "10      84         LFQ       08:10:00           170°/191°  Filtrado    \n",
      "11      84         LFQ       08:21:00           175°/195°   Espresso   \n",
      "12      84         LFQ       08:32:00           175°/195°  Espresso    \n",
      "13      84         LFQ       08:12:00           175°/191°  Filtrado    \n",
      "14      84         LFQ       08:02:00           175°/191°  Filtrado    \n",
      "15      84         LFQ       08:54:00           170°/195°  Espresso    \n",
      "16      84         LFQ       08:02:00           175°/191°  Filtrado    \n",
      "17      84         LFQ       08:54:00           170°/195°  Espresso    \n",
      "18      84         LFQ       08:05:00           175°/191°  Filtrado    \n",
      "19      84         LFQ       08:54:00           170°/195°  Espresso    \n",
      "\n",
      "        merma  pesoentostado  pesoenverde beneficio      proceso  variedad  \\\n",
      "0   16.250000          167.5        200.0   Lavado   Tradicional  Dos mil    \n",
      "1   16.666667           47.5         57.0   Lavado   Tradicional  Dos mil    \n",
      "2   15.000000            1.7          2.0   Lavado   Tradicional  Dos mil    \n",
      "3   20.000000            2.0          2.5   Lavado   Tradicional  Dos mil    \n",
      "4   16.666667           20.0         24.0   Lavado   Tradicional  Dos mil    \n",
      "5   16.000000            2.1          2.5   Lavado   Tradicional  Dos mil    \n",
      "6   16.666667           12.5         15.0   Lavado   Tradicional  Dos mil    \n",
      "7   16.666667           70.0         84.0   Lavado   Tradicional  Dos mil    \n",
      "8   16.666667           70.0         84.0   Lavado   Tradicional  Dos mil    \n",
      "9   16.666667           25.0         30.0   Lavado   Tradicional  Dos mil    \n",
      "10  16.666667           17.5         21.0   Lavado   Tradicional  Dos mil    \n",
      "11  18.181818            3.6          4.4   Lavado   Tradicional  Dos mil    \n",
      "12  17.721519          130.0        158.0   Lavado   Tradicional  Dos mil    \n",
      "13  16.666667            5.0          6.0   Lavado   Tradicional  Dos mil    \n",
      "14  16.666667           52.5         63.0   Lavado   Tradicional  Dos mil    \n",
      "15  16.666667          130.0        156.0   Lavado   Tradicional  Dos mil    \n",
      "16  16.666667            7.5          9.0   Lavado   Tradicional  Dos mil    \n",
      "17  16.666667           10.0         12.0   Lavado   Tradicional  Dos mil    \n",
      "18  16.666667           35.0         42.0   Lavado   Tradicional  Dos mil    \n",
      "19  18.181818           90.0        110.0   Lavado   Tradicional  Dos mil    \n",
      "\n",
      "    origen mallas    %h  \n",
      "0   Jerico     14  11.2  \n",
      "1   Jerico     14  11.2  \n",
      "2   Jerico     14  11.2  \n",
      "3   Jerico     14  11.2  \n",
      "4   Jerico     14  11.2  \n",
      "5   Jerico     14  11.2  \n",
      "6   Jerico     14  11.2  \n",
      "7   Jerico     14  11.2  \n",
      "8   Jerico     14  11.2  \n",
      "9   Jerico     14  11.2  \n",
      "10  Jerico     14  11.2  \n",
      "11  Jerico     14  11.2  \n",
      "12  Jerico     14  11.2  \n",
      "13  Jerico     14  11.2  \n",
      "14  Jerico     14  11.2  \n",
      "15  Jerico     14  11.2  \n",
      "16  Jerico     14  11.2  \n",
      "17  Jerico     14  11.2  \n",
      "18  Jerico     14  11.2  \n",
      "19  Jerico     14  11.2  \n"
     ]
    }
   ],
   "execution_count": 41
  },
  {
   "metadata": {
    "ExecuteTime": {
     "end_time": "2025-07-17T14:06:58.290579Z",
     "start_time": "2025-07-17T14:06:58.269570Z"
    }
   },
   "cell_type": "code",
   "source": [
    "'''tratamiento especial a los datos de tiempodetueste debido a errores en el label\n",
    "y perdida de datos'''\n",
    "valores = []\n",
    "for i in df_final['tiempodetueste']:\n",
    "    #print(type(i).__name__)\n",
    "\n",
    "    if type(i).__name__ != 'time':\n",
    "        i = random.choice(df_final['tiempodetueste'][0:10])\n",
    "        valores.append(i)\n",
    "    else:\n",
    "        valores.append(i)\n",
    "df_final['tiempodetueste'] = valores\n",
    "\n",
    "print(df_final.info())\n"
   ],
   "id": "77d204a9621ae247",
   "outputs": [
    {
     "name": "stdout",
     "output_type": "stream",
     "text": [
      "<class 'pandas.core.frame.DataFrame'>\n",
      "RangeIndex: 666 entries, 0 to 665\n",
      "Data columns (total 14 columns):\n",
      " #   Column               Non-Null Count  Dtype  \n",
      "---  ------               --------------  -----  \n",
      " 0   puntaje              506 non-null    object \n",
      " 1   responsable          511 non-null    object \n",
      " 2   tiempodetueste       666 non-null    object \n",
      " 3   temp.deinicioyfinal  590 non-null    object \n",
      " 4   perfil               590 non-null    object \n",
      " 5   merma                590 non-null    float64\n",
      " 6   pesoentostado        590 non-null    float64\n",
      " 7   pesoenverde          590 non-null    float64\n",
      " 8   beneficio            590 non-null    object \n",
      " 9   proceso              590 non-null    object \n",
      " 10  variedad             590 non-null    object \n",
      " 11  origen               590 non-null    object \n",
      " 12  mallas               514 non-null    object \n",
      " 13  %h                   514 non-null    object \n",
      "dtypes: float64(3), object(11)\n",
      "memory usage: 73.0+ KB\n",
      "None\n"
     ]
    }
   ],
   "execution_count": 42
  },
  {
   "metadata": {},
   "cell_type": "markdown",
   "source": "Homogenizacion de los datos",
   "id": "11d1fe84bfbef446"
  },
  {
   "metadata": {
    "ExecuteTime": {
     "end_time": "2025-07-17T14:06:58.404260Z",
     "start_time": "2025-07-17T14:06:58.381723Z"
    }
   },
   "cell_type": "code",
   "source": [
    "'''asignamos valores numericos a las variables categoricas'''\n",
    "\n",
    "le = LabelEncoder()\n",
    "for i in df_final:\n",
    "    if (i!='%h' and i!='mallas' and i!='puntaje') and (df_final[i].dtypes != 'float64'): #se excluyen %h, puntaje y mallas porque son numericas y mas adelante se resolvera\n",
    "        print(i)\n",
    "        df_final[i] = le.fit_transform(df_final[i])\n",
    "print(df_final.info())"
   ],
   "id": "db5b7fa68ca30850",
   "outputs": [
    {
     "name": "stdout",
     "output_type": "stream",
     "text": [
      "responsable\n",
      "tiempodetueste\n",
      "temp.deinicioyfinal\n",
      "perfil\n",
      "beneficio\n",
      "proceso\n",
      "variedad\n",
      "origen\n",
      "<class 'pandas.core.frame.DataFrame'>\n",
      "RangeIndex: 666 entries, 0 to 665\n",
      "Data columns (total 14 columns):\n",
      " #   Column               Non-Null Count  Dtype  \n",
      "---  ------               --------------  -----  \n",
      " 0   puntaje              506 non-null    object \n",
      " 1   responsable          666 non-null    int64  \n",
      " 2   tiempodetueste       666 non-null    int64  \n",
      " 3   temp.deinicioyfinal  666 non-null    int64  \n",
      " 4   perfil               666 non-null    int64  \n",
      " 5   merma                590 non-null    float64\n",
      " 6   pesoentostado        590 non-null    float64\n",
      " 7   pesoenverde          590 non-null    float64\n",
      " 8   beneficio            666 non-null    int64  \n",
      " 9   proceso              666 non-null    int64  \n",
      " 10  variedad             666 non-null    int64  \n",
      " 11  origen               666 non-null    int64  \n",
      " 12  mallas               514 non-null    object \n",
      " 13  %h                   514 non-null    object \n",
      "dtypes: float64(3), int64(8), object(3)\n",
      "memory usage: 73.0+ KB\n",
      "None\n"
     ]
    }
   ],
   "execution_count": 43
  },
  {
   "metadata": {
    "ExecuteTime": {
     "end_time": "2025-07-17T14:06:58.576662Z",
     "start_time": "2025-07-17T14:06:58.568105Z"
    }
   },
   "cell_type": "code",
   "source": "df_final = df_final.apply(lambda  col: pd.to_numeric(col, errors='coerce') if col.dtypes == 'object' else col)",
   "id": "d1c2f4078817876d",
   "outputs": [],
   "execution_count": 44
  },
  {
   "metadata": {
    "ExecuteTime": {
     "end_time": "2025-07-17T14:06:58.699608Z",
     "start_time": "2025-07-17T14:06:58.687156Z"
    }
   },
   "cell_type": "code",
   "source": "print(df_final.info())",
   "id": "1ad8b618d54c5b39",
   "outputs": [
    {
     "name": "stdout",
     "output_type": "stream",
     "text": [
      "<class 'pandas.core.frame.DataFrame'>\n",
      "RangeIndex: 666 entries, 0 to 665\n",
      "Data columns (total 14 columns):\n",
      " #   Column               Non-Null Count  Dtype  \n",
      "---  ------               --------------  -----  \n",
      " 0   puntaje              499 non-null    float64\n",
      " 1   responsable          666 non-null    int64  \n",
      " 2   tiempodetueste       666 non-null    int64  \n",
      " 3   temp.deinicioyfinal  666 non-null    int64  \n",
      " 4   perfil               666 non-null    int64  \n",
      " 5   merma                590 non-null    float64\n",
      " 6   pesoentostado        590 non-null    float64\n",
      " 7   pesoenverde          590 non-null    float64\n",
      " 8   beneficio            666 non-null    int64  \n",
      " 9   proceso              666 non-null    int64  \n",
      " 10  variedad             666 non-null    int64  \n",
      " 11  origen               666 non-null    int64  \n",
      " 12  mallas               512 non-null    float64\n",
      " 13  %h                   510 non-null    float64\n",
      "dtypes: float64(6), int64(8)\n",
      "memory usage: 73.0 KB\n",
      "None\n"
     ]
    }
   ],
   "execution_count": 45
  },
  {
   "metadata": {},
   "cell_type": "markdown",
   "source": "# **Definición de variables y preprocesamiento**",
   "id": "f62813196171f384"
  },
  {
   "metadata": {},
   "cell_type": "markdown",
   "source": "se escoje la variable objetivo y las variables de enrtada",
   "id": "6ddbad31f09a5b72"
  },
  {
   "metadata": {
    "ExecuteTime": {
     "end_time": "2025-07-17T14:06:58.812053Z",
     "start_time": "2025-07-17T14:06:58.806038Z"
    }
   },
   "cell_type": "code",
   "source": [
    "VariableObjetivoY = df_final['puntaje'].copy()\n",
    "VariableEntradaX = df_final.drop('puntaje',axis=1).copy()"
   ],
   "id": "d711ef35633f4786",
   "outputs": [],
   "execution_count": 46
  },
  {
   "metadata": {
    "ExecuteTime": {
     "end_time": "2025-07-17T14:06:58.928709Z",
     "start_time": "2025-07-17T14:06:58.912280Z"
    }
   },
   "cell_type": "code",
   "source": [
    "VariableObjetivoY = VariableObjetivoY.fillna(df_final['puntaje'].mean())\n",
    "print(VariableObjetivoY.info())\n",
    "print(VariableEntradaX.info())\n",
    "print(VariableEntradaX.columns)"
   ],
   "id": "d1394fa0a9605a98",
   "outputs": [
    {
     "name": "stdout",
     "output_type": "stream",
     "text": [
      "<class 'pandas.core.series.Series'>\n",
      "RangeIndex: 666 entries, 0 to 665\n",
      "Series name: puntaje\n",
      "Non-Null Count  Dtype  \n",
      "--------------  -----  \n",
      "666 non-null    float64\n",
      "dtypes: float64(1)\n",
      "memory usage: 5.3 KB\n",
      "None\n",
      "<class 'pandas.core.frame.DataFrame'>\n",
      "RangeIndex: 666 entries, 0 to 665\n",
      "Data columns (total 13 columns):\n",
      " #   Column               Non-Null Count  Dtype  \n",
      "---  ------               --------------  -----  \n",
      " 0   responsable          666 non-null    int64  \n",
      " 1   tiempodetueste       666 non-null    int64  \n",
      " 2   temp.deinicioyfinal  666 non-null    int64  \n",
      " 3   perfil               666 non-null    int64  \n",
      " 4   merma                590 non-null    float64\n",
      " 5   pesoentostado        590 non-null    float64\n",
      " 6   pesoenverde          590 non-null    float64\n",
      " 7   beneficio            666 non-null    int64  \n",
      " 8   proceso              666 non-null    int64  \n",
      " 9   variedad             666 non-null    int64  \n",
      " 10  origen               666 non-null    int64  \n",
      " 11  mallas               512 non-null    float64\n",
      " 12  %h                   510 non-null    float64\n",
      "dtypes: float64(5), int64(8)\n",
      "memory usage: 67.8 KB\n",
      "None\n",
      "Index(['responsable', 'tiempodetueste', 'temp.deinicioyfinal', 'perfil',\n",
      "       'merma', 'pesoentostado', 'pesoenverde', 'beneficio', 'proceso',\n",
      "       'variedad', 'origen', 'mallas', '%h'],\n",
      "      dtype='object')\n"
     ]
    }
   ],
   "execution_count": 47
  },
  {
   "metadata": {},
   "cell_type": "markdown",
   "source": "vemos que hay una incongruencia con la cantidad de valores, asi que para reemplazar los NaN usaremos la Media",
   "id": "4081566db0171a99"
  },
  {
   "metadata": {
    "ExecuteTime": {
     "end_time": "2025-07-17T14:06:59.039300Z",
     "start_time": "2025-07-17T14:06:59.028359Z"
    }
   },
   "cell_type": "code",
   "source": [
    "for i in VariableEntradaX.columns:\n",
    "    VariableEntradaX.loc[:,i] = VariableEntradaX[i].fillna(df_final[i].mean())#loc para acceder a las comulnas"
   ],
   "id": "ac8018b93aa8587d",
   "outputs": [],
   "execution_count": 48
  },
  {
   "metadata": {
    "ExecuteTime": {
     "end_time": "2025-07-17T14:06:59.159402Z",
     "start_time": "2025-07-17T14:06:59.142309Z"
    }
   },
   "cell_type": "code",
   "source": [
    "print(VariableObjetivoY.info())\n",
    "print(VariableEntradaX.info())"
   ],
   "id": "41e485308ce64408",
   "outputs": [
    {
     "name": "stdout",
     "output_type": "stream",
     "text": [
      "<class 'pandas.core.series.Series'>\n",
      "RangeIndex: 666 entries, 0 to 665\n",
      "Series name: puntaje\n",
      "Non-Null Count  Dtype  \n",
      "--------------  -----  \n",
      "666 non-null    float64\n",
      "dtypes: float64(1)\n",
      "memory usage: 5.3 KB\n",
      "None\n",
      "<class 'pandas.core.frame.DataFrame'>\n",
      "RangeIndex: 666 entries, 0 to 665\n",
      "Data columns (total 13 columns):\n",
      " #   Column               Non-Null Count  Dtype  \n",
      "---  ------               --------------  -----  \n",
      " 0   responsable          666 non-null    int64  \n",
      " 1   tiempodetueste       666 non-null    int64  \n",
      " 2   temp.deinicioyfinal  666 non-null    int64  \n",
      " 3   perfil               666 non-null    int64  \n",
      " 4   merma                666 non-null    float64\n",
      " 5   pesoentostado        666 non-null    float64\n",
      " 6   pesoenverde          666 non-null    float64\n",
      " 7   beneficio            666 non-null    int64  \n",
      " 8   proceso              666 non-null    int64  \n",
      " 9   variedad             666 non-null    int64  \n",
      " 10  origen               666 non-null    int64  \n",
      " 11  mallas               666 non-null    float64\n",
      " 12  %h                   666 non-null    float64\n",
      "dtypes: float64(5), int64(8)\n",
      "memory usage: 67.8 KB\n",
      "None\n"
     ]
    }
   ],
   "execution_count": 49
  },
  {
   "metadata": {},
   "cell_type": "markdown",
   "source": "Prosigo con el escalado\n",
   "id": "3676187874d44e48"
  },
  {
   "metadata": {
    "ExecuteTime": {
     "end_time": "2025-07-17T14:06:59.258235Z",
     "start_time": "2025-07-17T14:06:59.249271Z"
    }
   },
   "cell_type": "code",
   "source": [
    "scaler = StandardScaler()\n",
    "X_scaled = scaler.fit_transform(VariableEntradaX)\n",
    "X_scaled = pd.DataFrame(X_scaled, columns=VariableEntradaX.columns)"
   ],
   "id": "5a078be967b001c8",
   "outputs": [],
   "execution_count": 50
  },
  {
   "metadata": {
    "ExecuteTime": {
     "end_time": "2025-07-17T14:06:59.374501Z",
     "start_time": "2025-07-17T14:06:59.353450Z"
    }
   },
   "cell_type": "code",
   "source": [
    "print(X_scaled.head(20))\n",
    "print(X_scaled.info())"
   ],
   "id": "8e8deedaac98c51d",
   "outputs": [
    {
     "name": "stdout",
     "output_type": "stream",
     "text": [
      "    responsable  tiempodetueste  temp.deinicioyfinal    perfil     merma  \\\n",
      "0     -0.361421        1.286151             0.256377 -2.758507 -0.413028   \n",
      "1     -0.361421       -1.663845             0.256377 -0.679481 -0.204533   \n",
      "2     -0.361421       -1.663845             0.256377 -0.679481 -1.038514   \n",
      "3     -0.361421        1.286151             0.256377 -2.758507  1.463430   \n",
      "4     -0.361421       -1.663845             0.256377 -0.679481 -0.204533   \n",
      "5     -0.361421        1.286151             0.256377 -2.758507 -0.538125   \n",
      "6     -0.361421        1.286151             0.256377 -2.758507 -0.204533   \n",
      "7     -0.361421       -0.245577            -0.946067  0.013527 -0.204533   \n",
      "8     -0.361421        1.399613             0.256377 -2.758507 -0.204533   \n",
      "9     -0.361421        0.605383             0.256377 -0.679481 -0.204533   \n",
      "10    -0.361421       -0.245577            -0.946067  0.013527 -0.204533   \n",
      "11    -0.361421        0.321729             0.256377 -2.758507  0.553632   \n",
      "12    -0.361421        0.605383             0.256377 -2.065499  0.323303   \n",
      "13    -0.361421       -0.132116            -0.430734  0.013527 -0.204533   \n",
      "14    -0.361421       -0.699423            -0.430734  0.013527 -0.204533   \n",
      "15    -0.361421        1.569805            -0.774289 -2.065499 -0.204533   \n",
      "16    -0.361421       -0.699423            -0.430734  0.013527 -0.204533   \n",
      "17    -0.361421        1.569805            -0.774289 -2.065499 -0.204533   \n",
      "18    -0.361421       -0.529231            -0.430734  0.013527 -0.204533   \n",
      "19    -0.361421        1.569805            -0.774289 -2.065499  0.553632   \n",
      "\n",
      "    pesoentostado  pesoenverde  beneficio   proceso  variedad    origen  \\\n",
      "0        6.421227     6.314463  -0.379157  0.319153   -0.3976 -0.254264   \n",
      "1        1.322011     1.304044  -0.379157  0.319153   -0.3976 -0.254264   \n",
      "2       -0.624190    -0.623040  -0.379157  0.319153   -0.3976 -0.254264   \n",
      "3       -0.611442    -0.605521  -0.379157  0.319153   -0.3976 -0.254264   \n",
      "4        0.153440     0.147794  -0.379157  0.319153   -0.3976 -0.254264   \n",
      "5       -0.607193    -0.605521  -0.379157  0.319153   -0.3976 -0.254264   \n",
      "6       -0.165261    -0.167547  -0.379157  0.319153   -0.3976 -0.254264   \n",
      "7        2.278114     2.250068  -0.379157  0.319153   -0.3976 -0.254264   \n",
      "8        2.278114     2.250068  -0.379157  0.319153   -0.3976 -0.254264   \n",
      "9        0.365908     0.358021  -0.379157  0.319153   -0.3976 -0.254264   \n",
      "10       0.047207     0.042680  -0.379157  0.319153   -0.3976 -0.254264   \n",
      "11      -0.543453    -0.538949  -0.379157  0.319153   -0.3976 -0.254264   \n",
      "12       4.827722     4.842872  -0.379157  0.319153   -0.3976 -0.254264   \n",
      "13      -0.483962    -0.482888  -0.379157  0.319153   -0.3976 -0.254264   \n",
      "14       1.534478     1.514272  -0.379157  0.319153   -0.3976 -0.254264   \n",
      "15       4.827722     4.772796  -0.379157  0.319153   -0.3976 -0.254264   \n",
      "16      -0.377728    -0.377774  -0.379157  0.319153   -0.3976 -0.254264   \n",
      "17      -0.271494    -0.272661  -0.379157  0.319153   -0.3976 -0.254264   \n",
      "18       0.790842     0.778476  -0.379157  0.319153   -0.3976 -0.254264   \n",
      "19       3.127983     3.161053  -0.379157  0.319153   -0.3976 -0.254264   \n",
      "\n",
      "      mallas        %h  \n",
      "0  -0.084236  2.261307  \n",
      "1  -0.084236  2.261307  \n",
      "2  -0.084236  2.261307  \n",
      "3  -0.084236  2.261307  \n",
      "4  -0.084236  2.261307  \n",
      "5  -0.084236  2.261307  \n",
      "6  -0.084236  2.261307  \n",
      "7  -0.084236  2.261307  \n",
      "8  -0.084236  2.261307  \n",
      "9  -0.084236  2.261307  \n",
      "10 -0.084236  2.261307  \n",
      "11 -0.084236  2.261307  \n",
      "12 -0.084236  2.261307  \n",
      "13 -0.084236  2.261307  \n",
      "14 -0.084236  2.261307  \n",
      "15 -0.084236  2.261307  \n",
      "16 -0.084236  2.261307  \n",
      "17 -0.084236  2.261307  \n",
      "18 -0.084236  2.261307  \n",
      "19 -0.084236  2.261307  \n",
      "<class 'pandas.core.frame.DataFrame'>\n",
      "RangeIndex: 666 entries, 0 to 665\n",
      "Data columns (total 13 columns):\n",
      " #   Column               Non-Null Count  Dtype  \n",
      "---  ------               --------------  -----  \n",
      " 0   responsable          666 non-null    float64\n",
      " 1   tiempodetueste       666 non-null    float64\n",
      " 2   temp.deinicioyfinal  666 non-null    float64\n",
      " 3   perfil               666 non-null    float64\n",
      " 4   merma                666 non-null    float64\n",
      " 5   pesoentostado        666 non-null    float64\n",
      " 6   pesoenverde          666 non-null    float64\n",
      " 7   beneficio            666 non-null    float64\n",
      " 8   proceso              666 non-null    float64\n",
      " 9   variedad             666 non-null    float64\n",
      " 10  origen               666 non-null    float64\n",
      " 11  mallas               666 non-null    float64\n",
      " 12  %h                   666 non-null    float64\n",
      "dtypes: float64(13)\n",
      "memory usage: 67.8 KB\n",
      "None\n"
     ]
    }
   ],
   "execution_count": 51
  },
  {
   "metadata": {},
   "cell_type": "markdown",
   "source": "division de los datos en conjuntos de prueba y entrenamiento\n",
   "id": "8d2787342b7b59bf"
  },
  {
   "metadata": {
    "ExecuteTime": {
     "end_time": "2025-07-17T14:06:59.475734Z",
     "start_time": "2025-07-17T14:06:59.469072Z"
    }
   },
   "cell_type": "code",
   "source": "x_train, x_test, y_train, y_test = train_test_split(X_scaled, VariableObjetivoY, test_size=0.3, random_state=42)",
   "id": "7fe41e6dc91e4d3c",
   "outputs": [],
   "execution_count": 52
  },
  {
   "metadata": {},
   "cell_type": "markdown",
   "source": "# **ENTRENAMIENTO DE MODELOS DE REGRESION**",
   "id": "75dde8dbf4bc923b"
  },
  {
   "metadata": {
    "ExecuteTime": {
     "end_time": "2025-07-17T14:06:59.614889Z",
     "start_time": "2025-07-17T14:06:59.590309Z"
    }
   },
   "cell_type": "code",
   "source": [
    "pd.DataFrame(x_train).to_csv('Data/X_train.csv', index=False)\n",
    "pd.DataFrame(x_test).to_csv('Data/X_test.csv', index=False)\n",
    "pd.DataFrame(y_train).to_csv('Data/Y_train.csv', index=False)\n",
    "pd.DataFrame(y_test).to_csv('Data/Y_test.csv', index=False)"
   ],
   "id": "ecbc47289cfb5a65",
   "outputs": [],
   "execution_count": 53
  },
  {
   "metadata": {},
   "cell_type": "markdown",
   "source": "Modelo # y Modelo #2\n",
   "id": "6ea1611060f6d1bf"
  },
  {
   "metadata": {
    "ExecuteTime": {
     "end_time": "2025-07-17T14:06:59.715048Z",
     "start_time": "2025-07-17T14:06:59.697228Z"
    }
   },
   "cell_type": "code",
   "source": [
    "xTrain = pd.read_csv('Data/X_train.csv').values\n",
    "xTest = pd.read_csv('Data/X_test.csv').values\n",
    "yTrain = pd.read_csv('Data/Y_train.csv').values\n",
    "yTest = pd.read_csv('Data/Y_test.csv').values"
   ],
   "id": "779602ef4ba25d4f",
   "outputs": [],
   "execution_count": 54
  },
  {
   "metadata": {
    "ExecuteTime": {
     "end_time": "2025-07-17T14:06:59.810275Z",
     "start_time": "2025-07-17T14:06:59.805813Z"
    }
   },
   "cell_type": "code",
   "source": [
    "Modelo_lr = LinearRegression()\n",
    "modelo_rf = RandomForestRegressor(random_state=42)"
   ],
   "id": "334ecad9aeb905b3",
   "outputs": [],
   "execution_count": 55
  },
  {
   "metadata": {
    "ExecuteTime": {
     "end_time": "2025-07-17T14:07:00.170959Z",
     "start_time": "2025-07-17T14:06:59.913361Z"
    }
   },
   "cell_type": "code",
   "source": [
    "Modelo_lr.fit(xTrain, yTrain)\n",
    "modelo_rf.fit(x_train, y_train)"
   ],
   "id": "763ac8a575b720d7",
   "outputs": [
    {
     "data": {
      "text/plain": [
       "RandomForestRegressor(random_state=42)"
      ],
      "text/html": [
       "<style>#sk-container-id-2 {\n",
       "  /* Definition of color scheme common for light and dark mode */\n",
       "  --sklearn-color-text: #000;\n",
       "  --sklearn-color-text-muted: #666;\n",
       "  --sklearn-color-line: gray;\n",
       "  /* Definition of color scheme for unfitted estimators */\n",
       "  --sklearn-color-unfitted-level-0: #fff5e6;\n",
       "  --sklearn-color-unfitted-level-1: #f6e4d2;\n",
       "  --sklearn-color-unfitted-level-2: #ffe0b3;\n",
       "  --sklearn-color-unfitted-level-3: chocolate;\n",
       "  /* Definition of color scheme for fitted estimators */\n",
       "  --sklearn-color-fitted-level-0: #f0f8ff;\n",
       "  --sklearn-color-fitted-level-1: #d4ebff;\n",
       "  --sklearn-color-fitted-level-2: #b3dbfd;\n",
       "  --sklearn-color-fitted-level-3: cornflowerblue;\n",
       "\n",
       "  /* Specific color for light theme */\n",
       "  --sklearn-color-text-on-default-background: var(--sg-text-color, var(--theme-code-foreground, var(--jp-content-font-color1, black)));\n",
       "  --sklearn-color-background: var(--sg-background-color, var(--theme-background, var(--jp-layout-color0, white)));\n",
       "  --sklearn-color-border-box: var(--sg-text-color, var(--theme-code-foreground, var(--jp-content-font-color1, black)));\n",
       "  --sklearn-color-icon: #696969;\n",
       "\n",
       "  @media (prefers-color-scheme: dark) {\n",
       "    /* Redefinition of color scheme for dark theme */\n",
       "    --sklearn-color-text-on-default-background: var(--sg-text-color, var(--theme-code-foreground, var(--jp-content-font-color1, white)));\n",
       "    --sklearn-color-background: var(--sg-background-color, var(--theme-background, var(--jp-layout-color0, #111)));\n",
       "    --sklearn-color-border-box: var(--sg-text-color, var(--theme-code-foreground, var(--jp-content-font-color1, white)));\n",
       "    --sklearn-color-icon: #878787;\n",
       "  }\n",
       "}\n",
       "\n",
       "#sk-container-id-2 {\n",
       "  color: var(--sklearn-color-text);\n",
       "}\n",
       "\n",
       "#sk-container-id-2 pre {\n",
       "  padding: 0;\n",
       "}\n",
       "\n",
       "#sk-container-id-2 input.sk-hidden--visually {\n",
       "  border: 0;\n",
       "  clip: rect(1px 1px 1px 1px);\n",
       "  clip: rect(1px, 1px, 1px, 1px);\n",
       "  height: 1px;\n",
       "  margin: -1px;\n",
       "  overflow: hidden;\n",
       "  padding: 0;\n",
       "  position: absolute;\n",
       "  width: 1px;\n",
       "}\n",
       "\n",
       "#sk-container-id-2 div.sk-dashed-wrapped {\n",
       "  border: 1px dashed var(--sklearn-color-line);\n",
       "  margin: 0 0.4em 0.5em 0.4em;\n",
       "  box-sizing: border-box;\n",
       "  padding-bottom: 0.4em;\n",
       "  background-color: var(--sklearn-color-background);\n",
       "}\n",
       "\n",
       "#sk-container-id-2 div.sk-container {\n",
       "  /* jupyter's `normalize.less` sets `[hidden] { display: none; }`\n",
       "     but bootstrap.min.css set `[hidden] { display: none !important; }`\n",
       "     so we also need the `!important` here to be able to override the\n",
       "     default hidden behavior on the sphinx rendered scikit-learn.org.\n",
       "     See: https://github.com/scikit-learn/scikit-learn/issues/21755 */\n",
       "  display: inline-block !important;\n",
       "  position: relative;\n",
       "}\n",
       "\n",
       "#sk-container-id-2 div.sk-text-repr-fallback {\n",
       "  display: none;\n",
       "}\n",
       "\n",
       "div.sk-parallel-item,\n",
       "div.sk-serial,\n",
       "div.sk-item {\n",
       "  /* draw centered vertical line to link estimators */\n",
       "  background-image: linear-gradient(var(--sklearn-color-text-on-default-background), var(--sklearn-color-text-on-default-background));\n",
       "  background-size: 2px 100%;\n",
       "  background-repeat: no-repeat;\n",
       "  background-position: center center;\n",
       "}\n",
       "\n",
       "/* Parallel-specific style estimator block */\n",
       "\n",
       "#sk-container-id-2 div.sk-parallel-item::after {\n",
       "  content: \"\";\n",
       "  width: 100%;\n",
       "  border-bottom: 2px solid var(--sklearn-color-text-on-default-background);\n",
       "  flex-grow: 1;\n",
       "}\n",
       "\n",
       "#sk-container-id-2 div.sk-parallel {\n",
       "  display: flex;\n",
       "  align-items: stretch;\n",
       "  justify-content: center;\n",
       "  background-color: var(--sklearn-color-background);\n",
       "  position: relative;\n",
       "}\n",
       "\n",
       "#sk-container-id-2 div.sk-parallel-item {\n",
       "  display: flex;\n",
       "  flex-direction: column;\n",
       "}\n",
       "\n",
       "#sk-container-id-2 div.sk-parallel-item:first-child::after {\n",
       "  align-self: flex-end;\n",
       "  width: 50%;\n",
       "}\n",
       "\n",
       "#sk-container-id-2 div.sk-parallel-item:last-child::after {\n",
       "  align-self: flex-start;\n",
       "  width: 50%;\n",
       "}\n",
       "\n",
       "#sk-container-id-2 div.sk-parallel-item:only-child::after {\n",
       "  width: 0;\n",
       "}\n",
       "\n",
       "/* Serial-specific style estimator block */\n",
       "\n",
       "#sk-container-id-2 div.sk-serial {\n",
       "  display: flex;\n",
       "  flex-direction: column;\n",
       "  align-items: center;\n",
       "  background-color: var(--sklearn-color-background);\n",
       "  padding-right: 1em;\n",
       "  padding-left: 1em;\n",
       "}\n",
       "\n",
       "\n",
       "/* Toggleable style: style used for estimator/Pipeline/ColumnTransformer box that is\n",
       "clickable and can be expanded/collapsed.\n",
       "- Pipeline and ColumnTransformer use this feature and define the default style\n",
       "- Estimators will overwrite some part of the style using the `sk-estimator` class\n",
       "*/\n",
       "\n",
       "/* Pipeline and ColumnTransformer style (default) */\n",
       "\n",
       "#sk-container-id-2 div.sk-toggleable {\n",
       "  /* Default theme specific background. It is overwritten whether we have a\n",
       "  specific estimator or a Pipeline/ColumnTransformer */\n",
       "  background-color: var(--sklearn-color-background);\n",
       "}\n",
       "\n",
       "/* Toggleable label */\n",
       "#sk-container-id-2 label.sk-toggleable__label {\n",
       "  cursor: pointer;\n",
       "  display: flex;\n",
       "  width: 100%;\n",
       "  margin-bottom: 0;\n",
       "  padding: 0.5em;\n",
       "  box-sizing: border-box;\n",
       "  text-align: center;\n",
       "  align-items: start;\n",
       "  justify-content: space-between;\n",
       "  gap: 0.5em;\n",
       "}\n",
       "\n",
       "#sk-container-id-2 label.sk-toggleable__label .caption {\n",
       "  font-size: 0.6rem;\n",
       "  font-weight: lighter;\n",
       "  color: var(--sklearn-color-text-muted);\n",
       "}\n",
       "\n",
       "#sk-container-id-2 label.sk-toggleable__label-arrow:before {\n",
       "  /* Arrow on the left of the label */\n",
       "  content: \"▸\";\n",
       "  float: left;\n",
       "  margin-right: 0.25em;\n",
       "  color: var(--sklearn-color-icon);\n",
       "}\n",
       "\n",
       "#sk-container-id-2 label.sk-toggleable__label-arrow:hover:before {\n",
       "  color: var(--sklearn-color-text);\n",
       "}\n",
       "\n",
       "/* Toggleable content - dropdown */\n",
       "\n",
       "#sk-container-id-2 div.sk-toggleable__content {\n",
       "  max-height: 0;\n",
       "  max-width: 0;\n",
       "  overflow: hidden;\n",
       "  text-align: left;\n",
       "  /* unfitted */\n",
       "  background-color: var(--sklearn-color-unfitted-level-0);\n",
       "}\n",
       "\n",
       "#sk-container-id-2 div.sk-toggleable__content.fitted {\n",
       "  /* fitted */\n",
       "  background-color: var(--sklearn-color-fitted-level-0);\n",
       "}\n",
       "\n",
       "#sk-container-id-2 div.sk-toggleable__content pre {\n",
       "  margin: 0.2em;\n",
       "  border-radius: 0.25em;\n",
       "  color: var(--sklearn-color-text);\n",
       "  /* unfitted */\n",
       "  background-color: var(--sklearn-color-unfitted-level-0);\n",
       "}\n",
       "\n",
       "#sk-container-id-2 div.sk-toggleable__content.fitted pre {\n",
       "  /* unfitted */\n",
       "  background-color: var(--sklearn-color-fitted-level-0);\n",
       "}\n",
       "\n",
       "#sk-container-id-2 input.sk-toggleable__control:checked~div.sk-toggleable__content {\n",
       "  /* Expand drop-down */\n",
       "  max-height: 200px;\n",
       "  max-width: 100%;\n",
       "  overflow: auto;\n",
       "}\n",
       "\n",
       "#sk-container-id-2 input.sk-toggleable__control:checked~label.sk-toggleable__label-arrow:before {\n",
       "  content: \"▾\";\n",
       "}\n",
       "\n",
       "/* Pipeline/ColumnTransformer-specific style */\n",
       "\n",
       "#sk-container-id-2 div.sk-label input.sk-toggleable__control:checked~label.sk-toggleable__label {\n",
       "  color: var(--sklearn-color-text);\n",
       "  background-color: var(--sklearn-color-unfitted-level-2);\n",
       "}\n",
       "\n",
       "#sk-container-id-2 div.sk-label.fitted input.sk-toggleable__control:checked~label.sk-toggleable__label {\n",
       "  background-color: var(--sklearn-color-fitted-level-2);\n",
       "}\n",
       "\n",
       "/* Estimator-specific style */\n",
       "\n",
       "/* Colorize estimator box */\n",
       "#sk-container-id-2 div.sk-estimator input.sk-toggleable__control:checked~label.sk-toggleable__label {\n",
       "  /* unfitted */\n",
       "  background-color: var(--sklearn-color-unfitted-level-2);\n",
       "}\n",
       "\n",
       "#sk-container-id-2 div.sk-estimator.fitted input.sk-toggleable__control:checked~label.sk-toggleable__label {\n",
       "  /* fitted */\n",
       "  background-color: var(--sklearn-color-fitted-level-2);\n",
       "}\n",
       "\n",
       "#sk-container-id-2 div.sk-label label.sk-toggleable__label,\n",
       "#sk-container-id-2 div.sk-label label {\n",
       "  /* The background is the default theme color */\n",
       "  color: var(--sklearn-color-text-on-default-background);\n",
       "}\n",
       "\n",
       "/* On hover, darken the color of the background */\n",
       "#sk-container-id-2 div.sk-label:hover label.sk-toggleable__label {\n",
       "  color: var(--sklearn-color-text);\n",
       "  background-color: var(--sklearn-color-unfitted-level-2);\n",
       "}\n",
       "\n",
       "/* Label box, darken color on hover, fitted */\n",
       "#sk-container-id-2 div.sk-label.fitted:hover label.sk-toggleable__label.fitted {\n",
       "  color: var(--sklearn-color-text);\n",
       "  background-color: var(--sklearn-color-fitted-level-2);\n",
       "}\n",
       "\n",
       "/* Estimator label */\n",
       "\n",
       "#sk-container-id-2 div.sk-label label {\n",
       "  font-family: monospace;\n",
       "  font-weight: bold;\n",
       "  display: inline-block;\n",
       "  line-height: 1.2em;\n",
       "}\n",
       "\n",
       "#sk-container-id-2 div.sk-label-container {\n",
       "  text-align: center;\n",
       "}\n",
       "\n",
       "/* Estimator-specific */\n",
       "#sk-container-id-2 div.sk-estimator {\n",
       "  font-family: monospace;\n",
       "  border: 1px dotted var(--sklearn-color-border-box);\n",
       "  border-radius: 0.25em;\n",
       "  box-sizing: border-box;\n",
       "  margin-bottom: 0.5em;\n",
       "  /* unfitted */\n",
       "  background-color: var(--sklearn-color-unfitted-level-0);\n",
       "}\n",
       "\n",
       "#sk-container-id-2 div.sk-estimator.fitted {\n",
       "  /* fitted */\n",
       "  background-color: var(--sklearn-color-fitted-level-0);\n",
       "}\n",
       "\n",
       "/* on hover */\n",
       "#sk-container-id-2 div.sk-estimator:hover {\n",
       "  /* unfitted */\n",
       "  background-color: var(--sklearn-color-unfitted-level-2);\n",
       "}\n",
       "\n",
       "#sk-container-id-2 div.sk-estimator.fitted:hover {\n",
       "  /* fitted */\n",
       "  background-color: var(--sklearn-color-fitted-level-2);\n",
       "}\n",
       "\n",
       "/* Specification for estimator info (e.g. \"i\" and \"?\") */\n",
       "\n",
       "/* Common style for \"i\" and \"?\" */\n",
       "\n",
       ".sk-estimator-doc-link,\n",
       "a:link.sk-estimator-doc-link,\n",
       "a:visited.sk-estimator-doc-link {\n",
       "  float: right;\n",
       "  font-size: smaller;\n",
       "  line-height: 1em;\n",
       "  font-family: monospace;\n",
       "  background-color: var(--sklearn-color-background);\n",
       "  border-radius: 1em;\n",
       "  height: 1em;\n",
       "  width: 1em;\n",
       "  text-decoration: none !important;\n",
       "  margin-left: 0.5em;\n",
       "  text-align: center;\n",
       "  /* unfitted */\n",
       "  border: var(--sklearn-color-unfitted-level-1) 1pt solid;\n",
       "  color: var(--sklearn-color-unfitted-level-1);\n",
       "}\n",
       "\n",
       ".sk-estimator-doc-link.fitted,\n",
       "a:link.sk-estimator-doc-link.fitted,\n",
       "a:visited.sk-estimator-doc-link.fitted {\n",
       "  /* fitted */\n",
       "  border: var(--sklearn-color-fitted-level-1) 1pt solid;\n",
       "  color: var(--sklearn-color-fitted-level-1);\n",
       "}\n",
       "\n",
       "/* On hover */\n",
       "div.sk-estimator:hover .sk-estimator-doc-link:hover,\n",
       ".sk-estimator-doc-link:hover,\n",
       "div.sk-label-container:hover .sk-estimator-doc-link:hover,\n",
       ".sk-estimator-doc-link:hover {\n",
       "  /* unfitted */\n",
       "  background-color: var(--sklearn-color-unfitted-level-3);\n",
       "  color: var(--sklearn-color-background);\n",
       "  text-decoration: none;\n",
       "}\n",
       "\n",
       "div.sk-estimator.fitted:hover .sk-estimator-doc-link.fitted:hover,\n",
       ".sk-estimator-doc-link.fitted:hover,\n",
       "div.sk-label-container:hover .sk-estimator-doc-link.fitted:hover,\n",
       ".sk-estimator-doc-link.fitted:hover {\n",
       "  /* fitted */\n",
       "  background-color: var(--sklearn-color-fitted-level-3);\n",
       "  color: var(--sklearn-color-background);\n",
       "  text-decoration: none;\n",
       "}\n",
       "\n",
       "/* Span, style for the box shown on hovering the info icon */\n",
       ".sk-estimator-doc-link span {\n",
       "  display: none;\n",
       "  z-index: 9999;\n",
       "  position: relative;\n",
       "  font-weight: normal;\n",
       "  right: .2ex;\n",
       "  padding: .5ex;\n",
       "  margin: .5ex;\n",
       "  width: min-content;\n",
       "  min-width: 20ex;\n",
       "  max-width: 50ex;\n",
       "  color: var(--sklearn-color-text);\n",
       "  box-shadow: 2pt 2pt 4pt #999;\n",
       "  /* unfitted */\n",
       "  background: var(--sklearn-color-unfitted-level-0);\n",
       "  border: .5pt solid var(--sklearn-color-unfitted-level-3);\n",
       "}\n",
       "\n",
       ".sk-estimator-doc-link.fitted span {\n",
       "  /* fitted */\n",
       "  background: var(--sklearn-color-fitted-level-0);\n",
       "  border: var(--sklearn-color-fitted-level-3);\n",
       "}\n",
       "\n",
       ".sk-estimator-doc-link:hover span {\n",
       "  display: block;\n",
       "}\n",
       "\n",
       "/* \"?\"-specific style due to the `<a>` HTML tag */\n",
       "\n",
       "#sk-container-id-2 a.estimator_doc_link {\n",
       "  float: right;\n",
       "  font-size: 1rem;\n",
       "  line-height: 1em;\n",
       "  font-family: monospace;\n",
       "  background-color: var(--sklearn-color-background);\n",
       "  border-radius: 1rem;\n",
       "  height: 1rem;\n",
       "  width: 1rem;\n",
       "  text-decoration: none;\n",
       "  /* unfitted */\n",
       "  color: var(--sklearn-color-unfitted-level-1);\n",
       "  border: var(--sklearn-color-unfitted-level-1) 1pt solid;\n",
       "}\n",
       "\n",
       "#sk-container-id-2 a.estimator_doc_link.fitted {\n",
       "  /* fitted */\n",
       "  border: var(--sklearn-color-fitted-level-1) 1pt solid;\n",
       "  color: var(--sklearn-color-fitted-level-1);\n",
       "}\n",
       "\n",
       "/* On hover */\n",
       "#sk-container-id-2 a.estimator_doc_link:hover {\n",
       "  /* unfitted */\n",
       "  background-color: var(--sklearn-color-unfitted-level-3);\n",
       "  color: var(--sklearn-color-background);\n",
       "  text-decoration: none;\n",
       "}\n",
       "\n",
       "#sk-container-id-2 a.estimator_doc_link.fitted:hover {\n",
       "  /* fitted */\n",
       "  background-color: var(--sklearn-color-fitted-level-3);\n",
       "}\n",
       "</style><div id=\"sk-container-id-2\" class=\"sk-top-container\"><div class=\"sk-text-repr-fallback\"><pre>RandomForestRegressor(random_state=42)</pre><b>In a Jupyter environment, please rerun this cell to show the HTML representation or trust the notebook. <br />On GitHub, the HTML representation is unable to render, please try loading this page with nbviewer.org.</b></div><div class=\"sk-container\" hidden><div class=\"sk-item\"><div class=\"sk-estimator fitted sk-toggleable\"><input class=\"sk-toggleable__control sk-hidden--visually\" id=\"sk-estimator-id-2\" type=\"checkbox\" checked><label for=\"sk-estimator-id-2\" class=\"sk-toggleable__label fitted sk-toggleable__label-arrow\"><div><div>RandomForestRegressor</div></div><div><a class=\"sk-estimator-doc-link fitted\" rel=\"noreferrer\" target=\"_blank\" href=\"https://scikit-learn.org/1.6/modules/generated/sklearn.ensemble.RandomForestRegressor.html\">?<span>Documentation for RandomForestRegressor</span></a><span class=\"sk-estimator-doc-link fitted\">i<span>Fitted</span></span></div></label><div class=\"sk-toggleable__content fitted\"><pre>RandomForestRegressor(random_state=42)</pre></div> </div></div></div></div>"
      ]
     },
     "execution_count": 56,
     "metadata": {},
     "output_type": "execute_result"
    }
   ],
   "execution_count": 56
  },
  {
   "metadata": {},
   "cell_type": "markdown",
   "source": "Evaluacion de los modelos",
   "id": "ca53c5a7904d246b"
  },
  {
   "metadata": {
    "ExecuteTime": {
     "end_time": "2025-07-17T14:07:00.287382Z",
     "start_time": "2025-07-17T14:07:00.257508Z"
    }
   },
   "cell_type": "code",
   "source": [
    "modelos = [('Regresion lineal',Modelo_lr),('Random Forest',modelo_rf)]\n",
    "\n",
    "for name, model in modelos:\n",
    "    y_pred = model.predict(x_test)\n",
    "    rmse = mean_squared_error(y_test, y_pred)\n",
    "    r2 = r2_score(y_test, y_pred)\n",
    "    abse = mean_absolute_error(y_test, y_pred)\n",
    "\n",
    "    print(f'{name} -> RMSE: {rmse:.2f} | R2: {r2:.2f} | Absolute Error: {abse:.2f}')\n",
    "\n"
   ],
   "id": "fa9890fb629dbd79",
   "outputs": [
    {
     "name": "stdout",
     "output_type": "stream",
     "text": [
      "Regresion lineal -> RMSE: 0.90 | R2: 0.41 | Absolute Error: 0.67\n",
      "Random Forest -> RMSE: 0.16 | R2: 0.90 | Absolute Error: 0.13\n"
     ]
    },
    {
     "name": "stderr",
     "output_type": "stream",
     "text": [
      "C:\\ProgramData\\anaconda3\\Lib\\site-packages\\sklearn\\utils\\validation.py:2732: UserWarning: X has feature names, but LinearRegression was fitted without feature names\n",
      "  warnings.warn(\n"
     ]
    }
   ],
   "execution_count": 57
  },
  {
   "metadata": {},
   "cell_type": "markdown",
   "source": "# **Explicacion de modelo**\n",
   "id": "ab549140eb07d46a"
  },
  {
   "metadata": {},
   "cell_type": "markdown",
   "source": "se hara unicamente del random forest debido a que fue el que mejores resultados arrojo",
   "id": "b0740b00c2ba54fb"
  },
  {
   "metadata": {
    "ExecuteTime": {
     "end_time": "2025-07-17T14:07:00.598328Z",
     "start_time": "2025-07-17T14:07:00.375498Z"
    }
   },
   "cell_type": "code",
   "source": [
    "'''Feature importances'''\n",
    "\n",
    "importances = modelo_rf.feature_importances_\n",
    "plt.barh(x_train.columns, importances)\n",
    "plt.title(\"Importancia de Variables (Random Forest)\")\n",
    "plt.xlabel(\"Importancia\")\n",
    "plt.gca().invert_yaxis()\n",
    "plt.tight_layout()\n",
    "plt.show()"
   ],
   "id": "d4acc351211d187",
   "outputs": [
    {
     "data": {
      "text/plain": [
       "<Figure size 640x480 with 1 Axes>"
      ],
      "image/png": "[encoded data removed]"
     },
     "metadata": {},
     "output_type": "display_data"
    }
   ],
   "execution_count": 58
  },
  {
   "metadata": {
    "ExecuteTime": {
     "end_time": "2025-07-17T14:07:01.686848Z",
     "start_time": "2025-07-17T14:07:00.607603Z"
    }
   },
   "cell_type": "code",
   "source": [
    "'''SHAP'''\n",
    "\n",
    "explainer = shap.TreeExplainer(modelo_rf)\n",
    "shap_values = explainer.shap_values(X_scaled)\n",
    "shap.summary_plot(shap_values, x_train, plot_type='bar')"
   ],
   "id": "af7517f3ffaaf3c9",
   "outputs": [
    {
     "data": {
      "text/plain": [
       "<Figure size 800x670 with 1 Axes>"
      ],
      "image/png": "[encoded data removed]"
     },
     "metadata": {},
     "output_type": "display_data"
    }
   ],
   "execution_count": 59
  }
 ],
 "metadata": {
  "kernelspec": {
   "display_name": "Python 3",
   "language": "python",
   "name": "python3"
  },
  "language_info": {
   "codemirror_mode": {
    "name": "ipython",
    "version": 2
   },
   "file_extension": ".py",
   "mimetype": "text/x-python",
   "name": "python",
   "nbconvert_exporter": "python",
   "pygments_lexer": "ipython2",
   "version": "2.7.6"
  }
 },
 "nbformat": 4,
 "nbformat_minor": 5
}
