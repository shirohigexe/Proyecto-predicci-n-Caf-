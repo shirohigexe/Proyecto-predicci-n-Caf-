{
 "cells": [
  {
   "cell_type": "code",
   "id": "initial_id",
   "metadata": {
    "collapsed": true,
    "ExecuteTime": {
     "end_time": "2025-07-15T02:59:41.674588Z",
     "start_time": "2025-07-15T02:59:41.669938Z"
    }
   },
   "source": [
    "import pandas as pd\n",
    "import numpy as np\n",
    "from sklearn.model_selection import train_test_split\n",
    "from sklearn.preprocessing import StandardScaler, LabelEncoder\n",
    "from sklearn.compose import ColumnTransformer\n",
    "from sklearn.linear_model import LinearRegression\n",
    "from sklearn.ensemble import RandomForestRegressor\n",
    "from sklearn.metrics import mean_squared_error, r2_score\n",
    "import matplotlib.pyplot as plt\n"
   ],
   "outputs": [],
   "execution_count": 111
  },
  {
   "metadata": {},
   "cell_type": "markdown",
   "source": "# **ANALISIS EXPLORATORIO**",
   "id": "5ba82998f213c62a"
  },
  {
   "metadata": {},
   "cell_type": "markdown",
   "source": "Cargamos e inspeccionamos los datos",
   "id": "2223101ece748984"
  },
  {
   "metadata": {
    "ExecuteTime": {
     "end_time": "2025-07-15T02:38:06.873675Z",
     "start_time": "2025-07-15T02:38:05.487934Z"
    }
   },
   "cell_type": "code",
   "source": [
    "Ctrl_trillado = pd.read_excel('CC FT 17   Formato de Control de Calidad Café de Trillado (1).xlsx', header = 5)\n",
    "Formato_tostion = pd.read_excel('CC FT 18  Formato de  Tostión (1).xlsx', header = 5)\n",
    "Formato_Despachos = pd.read_excel('CC FT 21   Formato de Control de Despachos (1).xlsx', header = 5)"
   ],
   "id": "4d6c55522bafd389",
   "outputs": [],
   "execution_count": 74
  },
  {
   "metadata": {
    "ExecuteTime": {
     "end_time": "2025-07-15T02:38:07.999998Z",
     "start_time": "2025-07-15T02:38:07.976419Z"
    }
   },
   "cell_type": "code",
   "source": [
    "print(Ctrl_trillado.head())\n",
    "print(Formato_tostion.head())\n",
    "print(Formato_Despachos.head())"
   ],
   "id": "fef8af416b3e66dd",
   "outputs": [
    {
     "name": "stdout",
     "output_type": "stream",
     "text": [
      "      FECHA     LOTE   DENOMINACIÓN/     MARCA  CANTIDAD    %H Unnamed: 5  \\\n",
      "0       NaN        NaN                     NaN       NaN   NaN        NaN   \n",
      "1       NaN        NaN                     NaN       NaN     %       C/NC   \n",
      "2  19-07-22  01-190722            Madre Laura      765.0  10.9         C    \n",
      "3   19-7-22  09-190722           Tabi Natural      204.0  10.2          C   \n",
      "4  19-07-22  10-190722              Don Mario      165.0  10.7          C   \n",
      "\n",
      "  MALLAS Unnamed: 7 VERIFICACIÓN FISICA CAFÉ TOSTADO   \\\n",
      "0    NaN        NaN                               NaN   \n",
      "1      #       C/NC                              C/NC   \n",
      "2     14         C                                  C   \n",
      "3     14          C                                 C   \n",
      "4     14          C                                 C   \n",
      "\n",
      "                                   NOTAS DE CATACIÓN PUNTAJE Unnamed: 11  \\\n",
      "0                                                NaN     NaN         NaN   \n",
      "1                                                NaN      N°        C/NC   \n",
      "2  Chocolate negro, toque frutal, cuerpo medio, a...      84          C    \n",
      "3  Frutas maduras, nibs de cacao, acidez brillant...      85           C   \n",
      "4  Panela, durazno, miel, acidez brillante citric...    84.5           C   \n",
      "\n",
      "  LIBERACIÓN DE LOTE RESPONSABLE   \n",
      "0                NaN          NaN  \n",
      "1              SI/NO          NaN  \n",
      "2                Si           LFQ  \n",
      "3                Si          LFQ   \n",
      "4                Si          LFQ   \n",
      "     Fecha       Lote            Origen  Variedad      Proceso Beneficio   \\\n",
      "0  22-07-22  01-190722           Jerico  Dos mil   Tradicional    Lavado    \n",
      "1  25-07-22  01-190722           Jerico  Dos mil   Tradicional    Lavado    \n",
      "2  25-07-22  01-190722           Jerico  Dos mil   Tradicional    Lavado    \n",
      "3  28-07-22  01-190722           Jerico  Dos mil   Tradicional    Lavado    \n",
      "4  28-07-22  09-190722  Ciudad Bolivar      Tabi      Natural    Natural    \n",
      "\n",
      "   Peso en Verde     Merma   Peso en Tostado     Perfil   \\\n",
      "0           9.00  15.000000              7.65  Filtrado    \n",
      "1           3.00  16.666667              2.50  Espressso   \n",
      "2           9.00  16.444444              7.52  Filtrado    \n",
      "3          11.70  16.324786              9.79  Filtrado    \n",
      "4           0.45  24.444444              0.34  Filtrado    \n",
      "\n",
      "  Temp. De inicio y final Tiempo de tueste  Observaciones  Tostador  \n",
      "0               175°/191°         08:01:00             NaN      LFQ  \n",
      "1               175°/195°         08:42:00             NaN      LFQ  \n",
      "2               175°/190°         07:58:00             NaN      LFQ  \n",
      "3               175°/191°         08:02:00             NaN      LFQ  \n",
      "4               150°/186°         08:10:00             NaN      LFQ  \n",
      "  # PEDIDO  FECHA DE TUESTE  FECHA DE EMPAQUE  TIPO DE CAFÉ    PRESENTACIÓN   \\\n",
      "0       NaN              NaN               NaN             NaN           NaN   \n",
      "1       564          22-7-22           25-7-22    Madre Laura         500 Gr   \n",
      "2       564          22-7-22           25-7-22    Madre Laura       1000 Gr    \n",
      "3       566          22-7-22           25-7-22    Madre Laura       2500 Gr    \n",
      "4       567          22-7-22           26-7-22    Madre Laura        2500 Gr   \n",
      "\n",
      "   Unnamed: 5  CANTIDAD   Unnamed: 7  Unnamed: 8          CLIENTE   \\\n",
      "0         NaN        NaN         NaN         NaN               NaN   \n",
      "1         NaN        3.0         NaN         NaN  Natalia Londoño    \n",
      "2         NaN        1.0         NaN         NaN  Natalia Londoño    \n",
      "3         NaN        2.0         NaN         NaN      Mateo Duque    \n",
      "4         NaN        1.0         NaN         NaN              Akio   \n",
      "\n",
      "  RESPONSABLE DESPACHO  VERIFICA   \n",
      "0                   NaN       NaN  \n",
      "1                  LFQ        MS   \n",
      "2                  LFQ        MS   \n",
      "3                  LFQ        MS   \n",
      "4                  LFQ        MS   \n"
     ]
    }
   ],
   "execution_count": 75
  },
  {
   "metadata": {
    "ExecuteTime": {
     "end_time": "2025-07-15T02:38:10.122654Z",
     "start_time": "2025-07-15T02:38:10.115081Z"
    }
   },
   "cell_type": "code",
   "source": [
    "print('columnas de las tablas: ')\n",
    "print(Ctrl_trillado.columns)\n",
    "print(Formato_tostion.columns)\n",
    "print(Formato_Despachos.columns)"
   ],
   "id": "263d460cf1edd67d",
   "outputs": [
    {
     "name": "stdout",
     "output_type": "stream",
     "text": [
      "columnas de las tablas: \n",
      "Index(['FECHA', 'LOTE  ', 'DENOMINACIÓN/     MARCA', 'CANTIDAD', '%H',\n",
      "       'Unnamed: 5', 'MALLAS', 'Unnamed: 7',\n",
      "       'VERIFICACIÓN FISICA CAFÉ TOSTADO ', 'NOTAS DE CATACIÓN', 'PUNTAJE',\n",
      "       'Unnamed: 11', 'LIBERACIÓN DE LOTE', 'RESPONSABLE '],\n",
      "      dtype='object')\n",
      "Index(['Fecha ', 'Lote ', 'Origen', 'Variedad', 'Proceso', 'Beneficio ',\n",
      "       'Peso en Verde', 'Merma ', 'Peso en Tostado ', 'Perfil ',\n",
      "       'Temp. De inicio y final', 'Tiempo de tueste', 'Observaciones ',\n",
      "       'Tostador'],\n",
      "      dtype='object')\n",
      "Index(['# PEDIDO ', 'FECHA DE TUESTE ', 'FECHA DE EMPAQUE ', 'TIPO DE CAFÉ   ',\n",
      "       'PRESENTACIÓN ', 'Unnamed: 5', 'CANTIDAD ', 'Unnamed: 7', 'Unnamed: 8',\n",
      "       'CLIENTE ', 'RESPONSABLE DESPACHO ', 'VERIFICA '],\n",
      "      dtype='object')\n"
     ]
    }
   ],
   "execution_count": 76
  },
  {
   "metadata": {},
   "cell_type": "markdown",
   "source": "Identificacion y limpieza de columnas importantes",
   "id": "c619227551887851"
  },
  {
   "metadata": {
    "ExecuteTime": {
     "end_time": "2025-07-15T02:38:13.610285Z",
     "start_time": "2025-07-15T02:38:13.599094Z"
    }
   },
   "cell_type": "code",
   "source": [
    "'''emparejo los titulos de las columnas para poder hacer su tratamiento mas comodo'''\n",
    "\n",
    "Ctrl_trillado.columns = Ctrl_trillado.columns.str.strip().str.lower().str.replace(' ','')\n",
    "Formato_tostion.columns = Formato_tostion.columns.str.strip().str.lower().str.replace(' ','')\n",
    "Formato_Despachos.columns = Formato_Despachos.columns.str.strip().str.lower().str.replace(' ','')\n",
    "print(Ctrl_trillado.columns)\n",
    "print(Formato_tostion.columns)\n",
    "print(Formato_Despachos.columns)"
   ],
   "id": "cb2aef3541c961ba",
   "outputs": [
    {
     "name": "stdout",
     "output_type": "stream",
     "text": [
      "Index(['fecha', 'lote', 'denominación/marca', 'cantidad', '%h', 'unnamed:5',\n",
      "       'mallas', 'unnamed:7', 'verificaciónfisicacafétostado',\n",
      "       'notasdecatación', 'puntaje', 'unnamed:11', 'liberacióndelote',\n",
      "       'responsable'],\n",
      "      dtype='object')\n",
      "Index(['fecha', 'lote', 'origen', 'variedad', 'proceso', 'beneficio',\n",
      "       'pesoenverde', 'merma', 'pesoentostado', 'perfil',\n",
      "       'temp.deinicioyfinal', 'tiempodetueste', 'observaciones', 'tostador'],\n",
      "      dtype='object')\n",
      "Index(['#pedido', 'fechadetueste', 'fechadeempaque', 'tipodecafé',\n",
      "       'presentación', 'unnamed:5', 'cantidad', 'unnamed:7', 'unnamed:8',\n",
      "       'cliente', 'responsabledespacho', 'verifica'],\n",
      "      dtype='object')\n"
     ]
    }
   ],
   "execution_count": 77
  },
  {
   "metadata": {
    "ExecuteTime": {
     "end_time": "2025-07-15T02:38:16.570090Z",
     "start_time": "2025-07-15T02:38:16.544225Z"
    }
   },
   "cell_type": "code",
   "source": [
    "print(Ctrl_trillado.info())\n",
    "print(Formato_tostion.info())\n",
    "print(Formato_Despachos.info())"
   ],
   "id": "91f95cd9a68fb37b",
   "outputs": [
    {
     "name": "stdout",
     "output_type": "stream",
     "text": [
      "<class 'pandas.core.frame.DataFrame'>\n",
      "RangeIndex: 95 entries, 0 to 94\n",
      "Data columns (total 14 columns):\n",
      " #   Column                         Non-Null Count  Dtype  \n",
      "---  ------                         --------------  -----  \n",
      " 0   fecha                          80 non-null     object \n",
      " 1   lote                           76 non-null     object \n",
      " 2   denominación/marca             76 non-null     object \n",
      " 3   cantidad                       76 non-null     float64\n",
      " 4   %h                             77 non-null     object \n",
      " 5   unnamed:5                      78 non-null     object \n",
      " 6   mallas                         77 non-null     object \n",
      " 7   unnamed:7                      77 non-null     object \n",
      " 8   verificaciónfisicacafétostado  77 non-null     object \n",
      " 9   notasdecatación                76 non-null     object \n",
      " 10  puntaje                        76 non-null     object \n",
      " 11  unnamed:11                     77 non-null     object \n",
      " 12  liberacióndelote               77 non-null     object \n",
      " 13  responsable                    76 non-null     object \n",
      "dtypes: float64(1), object(13)\n",
      "memory usage: 10.5+ KB\n",
      "None\n",
      "<class 'pandas.core.frame.DataFrame'>\n",
      "RangeIndex: 499 entries, 0 to 498\n",
      "Data columns (total 14 columns):\n",
      " #   Column               Non-Null Count  Dtype  \n",
      "---  ------               --------------  -----  \n",
      " 0   fecha                499 non-null    object \n",
      " 1   lote                 499 non-null    object \n",
      " 2   origen               499 non-null    object \n",
      " 3   variedad             499 non-null    object \n",
      " 4   proceso              499 non-null    object \n",
      " 5   beneficio            499 non-null    object \n",
      " 6   pesoenverde          499 non-null    float64\n",
      " 7   merma                499 non-null    float64\n",
      " 8   pesoentostado        499 non-null    float64\n",
      " 9   perfil               499 non-null    object \n",
      " 10  temp.deinicioyfinal  499 non-null    object \n",
      " 11  tiempodetueste       499 non-null    object \n",
      " 12  observaciones        0 non-null      float64\n",
      " 13  tostador             499 non-null    object \n",
      "dtypes: float64(4), object(10)\n",
      "memory usage: 54.7+ KB\n",
      "None\n",
      "<class 'pandas.core.frame.DataFrame'>\n",
      "RangeIndex: 1584 entries, 0 to 1583\n",
      "Data columns (total 12 columns):\n",
      " #   Column               Non-Null Count  Dtype  \n",
      "---  ------               --------------  -----  \n",
      " 0   #pedido              1491 non-null   object \n",
      " 1   fechadetueste        1583 non-null   object \n",
      " 2   fechadeempaque       1583 non-null   object \n",
      " 3   tipodecafé           1583 non-null   object \n",
      " 4   presentación         1583 non-null   object \n",
      " 5   unnamed:5            0 non-null      float64\n",
      " 6   cantidad             1583 non-null   float64\n",
      " 7   unnamed:7            0 non-null      float64\n",
      " 8   unnamed:8            0 non-null      float64\n",
      " 9   cliente              1583 non-null   object \n",
      " 10  responsabledespacho  1583 non-null   object \n",
      " 11  verifica             1583 non-null   object \n",
      "dtypes: float64(4), object(8)\n",
      "memory usage: 148.6+ KB\n",
      "None\n"
     ]
    }
   ],
   "execution_count": 78
  },
  {
   "metadata": {
    "ExecuteTime": {
     "end_time": "2025-07-15T02:38:19.589897Z",
     "start_time": "2025-07-15T02:38:19.567006Z"
    }
   },
   "cell_type": "code",
   "source": [
    "print(Ctrl_trillado.head())\n",
    "print(Formato_tostion.head())\n",
    "print(Formato_Despachos.head())"
   ],
   "id": "c69df32ebcb09242",
   "outputs": [
    {
     "name": "stdout",
     "output_type": "stream",
     "text": [
      "      fecha       lote denominación/marca  cantidad    %h unnamed:5 mallas  \\\n",
      "0       NaN        NaN                NaN       NaN   NaN       NaN    NaN   \n",
      "1       NaN        NaN                NaN       NaN     %      C/NC      #   \n",
      "2  19-07-22  01-190722       Madre Laura      765.0  10.9        C      14   \n",
      "3   19-7-22  09-190722      Tabi Natural      204.0  10.2         C     14   \n",
      "4  19-07-22  10-190722         Don Mario      165.0  10.7         C     14   \n",
      "\n",
      "  unnamed:7 verificaciónfisicacafétostado  \\\n",
      "0       NaN                           NaN   \n",
      "1      C/NC                          C/NC   \n",
      "2        C                              C   \n",
      "3         C                             C   \n",
      "4         C                             C   \n",
      "\n",
      "                                     notasdecatación puntaje unnamed:11  \\\n",
      "0                                                NaN     NaN        NaN   \n",
      "1                                                NaN      N°       C/NC   \n",
      "2  Chocolate negro, toque frutal, cuerpo medio, a...      84         C    \n",
      "3  Frutas maduras, nibs de cacao, acidez brillant...      85          C   \n",
      "4  Panela, durazno, miel, acidez brillante citric...    84.5          C   \n",
      "\n",
      "  liberacióndelote responsable  \n",
      "0              NaN         NaN  \n",
      "1            SI/NO         NaN  \n",
      "2              Si          LFQ  \n",
      "3              Si         LFQ   \n",
      "4              Si         LFQ   \n",
      "      fecha       lote           origen  variedad      proceso beneficio  \\\n",
      "0  22-07-22  01-190722           Jerico  Dos mil   Tradicional   Lavado    \n",
      "1  25-07-22  01-190722           Jerico  Dos mil   Tradicional   Lavado    \n",
      "2  25-07-22  01-190722           Jerico  Dos mil   Tradicional   Lavado    \n",
      "3  28-07-22  01-190722           Jerico  Dos mil   Tradicional   Lavado    \n",
      "4  28-07-22  09-190722  Ciudad Bolivar      Tabi      Natural   Natural    \n",
      "\n",
      "   pesoenverde      merma  pesoentostado     perfil temp.deinicioyfinal  \\\n",
      "0         9.00  15.000000           7.65  Filtrado            175°/191°   \n",
      "1         3.00  16.666667           2.50  Espressso           175°/195°   \n",
      "2         9.00  16.444444           7.52  Filtrado            175°/190°   \n",
      "3        11.70  16.324786           9.79  Filtrado            175°/191°   \n",
      "4         0.45  24.444444           0.34  Filtrado            150°/186°   \n",
      "\n",
      "  tiempodetueste  observaciones tostador  \n",
      "0       08:01:00            NaN      LFQ  \n",
      "1       08:42:00            NaN      LFQ  \n",
      "2       07:58:00            NaN      LFQ  \n",
      "3       08:02:00            NaN      LFQ  \n",
      "4       08:10:00            NaN      LFQ  \n",
      "  #pedido fechadetueste fechadeempaque    tipodecafé presentación  unnamed:5  \\\n",
      "0     NaN           NaN            NaN           NaN          NaN        NaN   \n",
      "1     564       22-7-22        25-7-22  Madre Laura        500 Gr        NaN   \n",
      "2     564       22-7-22        25-7-22  Madre Laura      1000 Gr         NaN   \n",
      "3     566       22-7-22        25-7-22  Madre Laura      2500 Gr         NaN   \n",
      "4     567       22-7-22        26-7-22  Madre Laura       2500 Gr        NaN   \n",
      "\n",
      "   cantidad  unnamed:7  unnamed:8           cliente responsabledespacho  \\\n",
      "0       NaN        NaN        NaN               NaN                 NaN   \n",
      "1       3.0        NaN        NaN  Natalia Londoño                 LFQ    \n",
      "2       1.0        NaN        NaN  Natalia Londoño                 LFQ    \n",
      "3       2.0        NaN        NaN      Mateo Duque                 LFQ    \n",
      "4       1.0        NaN        NaN              Akio                LFQ    \n",
      "\n",
      "  verifica  \n",
      "0      NaN  \n",
      "1      MS   \n",
      "2      MS   \n",
      "3      MS   \n",
      "4      MS   \n"
     ]
    }
   ],
   "execution_count": 79
  },
  {
   "metadata": {
    "ExecuteTime": {
     "end_time": "2025-07-15T02:38:23.500452Z",
     "start_time": "2025-07-15T02:38:23.482748Z"
    }
   },
   "cell_type": "code",
   "source": [
    "'''uso de merge para trabajar con una sola tabla'''\n",
    "\n",
    "df_final = pd.merge(Ctrl_trillado, Formato_tostion, how='outer', on='lote')\n",
    "print(df_final.info())"
   ],
   "id": "e3c5afed5331b51f",
   "outputs": [
    {
     "name": "stdout",
     "output_type": "stream",
     "text": [
      "<class 'pandas.core.frame.DataFrame'>\n",
      "RangeIndex: 579 entries, 0 to 578\n",
      "Data columns (total 27 columns):\n",
      " #   Column                         Non-Null Count  Dtype  \n",
      "---  ------                         --------------  -----  \n",
      " 0   fecha_x                        446 non-null    object \n",
      " 1   lote                           560 non-null    object \n",
      " 2   denominación/marca             442 non-null    object \n",
      " 3   cantidad                       442 non-null    float64\n",
      " 4   %h                             443 non-null    object \n",
      " 5   unnamed:5                      444 non-null    object \n",
      " 6   mallas                         443 non-null    object \n",
      " 7   unnamed:7                      443 non-null    object \n",
      " 8   verificaciónfisicacafétostado  443 non-null    object \n",
      " 9   notasdecatación                442 non-null    object \n",
      " 10  puntaje                        436 non-null    object \n",
      " 11  unnamed:11                     443 non-null    object \n",
      " 12  liberacióndelote               443 non-null    object \n",
      " 13  responsable                    442 non-null    object \n",
      " 14  fecha_y                        524 non-null    object \n",
      " 15  origen                         524 non-null    object \n",
      " 16  variedad                       524 non-null    object \n",
      " 17  proceso                        524 non-null    object \n",
      " 18  beneficio                      524 non-null    object \n",
      " 19  pesoenverde                    524 non-null    float64\n",
      " 20  merma                          524 non-null    float64\n",
      " 21  pesoentostado                  524 non-null    float64\n",
      " 22  perfil                         524 non-null    object \n",
      " 23  temp.deinicioyfinal            524 non-null    object \n",
      " 24  tiempodetueste                 524 non-null    object \n",
      " 25  observaciones                  0 non-null      float64\n",
      " 26  tostador                       524 non-null    object \n",
      "dtypes: float64(5), object(22)\n",
      "memory usage: 122.3+ KB\n",
      "None\n"
     ]
    }
   ],
   "execution_count": 80
  },
  {
   "metadata": {
    "ExecuteTime": {
     "end_time": "2025-07-15T02:38:25.953403Z",
     "start_time": "2025-07-15T02:38:25.934711Z"
    }
   },
   "cell_type": "code",
   "source": [
    "df_final = df_final[['%h','mallas','variedad','proceso','beneficio','pesoenverde','pesoentostado','merma','perfil','temp.deinicioyfinal','tiempodetueste']]\n",
    "print(df_final.info())\n",
    "print(df_final.head())"
   ],
   "id": "cea27354aaf087f6",
   "outputs": [
    {
     "name": "stdout",
     "output_type": "stream",
     "text": [
      "<class 'pandas.core.frame.DataFrame'>\n",
      "RangeIndex: 579 entries, 0 to 578\n",
      "Data columns (total 11 columns):\n",
      " #   Column               Non-Null Count  Dtype  \n",
      "---  ------               --------------  -----  \n",
      " 0   %h                   443 non-null    object \n",
      " 1   mallas               443 non-null    object \n",
      " 2   variedad             524 non-null    object \n",
      " 3   proceso              524 non-null    object \n",
      " 4   beneficio            524 non-null    object \n",
      " 5   pesoenverde          524 non-null    float64\n",
      " 6   pesoentostado        524 non-null    float64\n",
      " 7   merma                524 non-null    float64\n",
      " 8   perfil               524 non-null    object \n",
      " 9   temp.deinicioyfinal  524 non-null    object \n",
      " 10  tiempodetueste       524 non-null    object \n",
      "dtypes: float64(3), object(8)\n",
      "memory usage: 49.9+ KB\n",
      "None\n",
      "     %h mallas  variedad      proceso beneficio  pesoenverde  pesoentostado  \\\n",
      "0  11.2     14  Dos mil   Tradicional   Lavado         200.0          167.5   \n",
      "1  11.2     14  Dos mil   Tradicional   Lavado          57.0           47.5   \n",
      "2  11.2     14  Dos mil   Tradicional   Lavado           2.0            1.7   \n",
      "3  11.2     14  Dos mil   Tradicional   Lavado           2.5            2.0   \n",
      "4  11.2     14  Dos mil   Tradicional   Lavado          24.0           20.0   \n",
      "\n",
      "       merma    perfil temp.deinicioyfinal tiempodetueste  \n",
      "0  16.250000  Espresso           175°/195°       08:47:00  \n",
      "1  16.666667  Filtrado           175°/195°       06:54:00  \n",
      "2  15.000000  Filtrado           175°/195°       06:54:00  \n",
      "3  20.000000  Espresso           175°/195°       08:47:00  \n",
      "4  16.666667  Filtrado           175°/195°       06:54:00  \n"
     ]
    }
   ],
   "execution_count": 81
  },
  {
   "metadata": {
    "ExecuteTime": {
     "end_time": "2025-07-15T02:38:28.169050Z",
     "start_time": "2025-07-15T02:38:28.149856Z"
    }
   },
   "cell_type": "code",
   "source": [
    "for i in df_final:\n",
    "    print(df_final[i].value_counts())"
   ],
   "id": "77d204a9621ae247",
   "outputs": [
    {
     "name": "stdout",
     "output_type": "stream",
     "text": [
      "%h\n",
      "10.5    69\n",
      "10.6    69\n",
      "10.7    66\n",
      "10.8    63\n",
      "10.2    46\n",
      "11.2    44\n",
      "10.9    38\n",
      "10.3    34\n",
      "10.4    13\n",
      "%        1\n",
      "Name: count, dtype: int64\n",
      "mallas\n",
      "14    439\n",
      "16      2\n",
      "15      1\n",
      "#       1\n",
      "Name: count, dtype: int64\n",
      "variedad\n",
      "Dos mil           309\n",
      "Gesha              57\n",
      "Pink Bourbon       30\n",
      "Wush Wush          27\n",
      "Tabi               21\n",
      "Maragogipe         17\n",
      "Red Bourbon        15\n",
      "Caturra            12\n",
      "Bourbon Sidra      12\n",
      "Castillo            9\n",
      "Caturron            6\n",
      "Bourbon Rojo        6\n",
      "Colombia            2\n",
      "Caturra             1\n",
      "Name: count, dtype: int64\n",
      "proceso\n",
      "Tradicional     257\n",
      "Natural         125\n",
      "Lavado           71\n",
      "Honey            69\n",
      "Tradicional       2\n",
      "Name: count, dtype: int64\n",
      "beneficio\n",
      "Lavado          324\n",
      "Natural         125\n",
      "Honey            69\n",
      "Descafeinado      6\n",
      "Name: count, dtype: int64\n",
      "pesoenverde\n",
      "3.0     103\n",
      "6.0     100\n",
      "1.2      35\n",
      "9.0      25\n",
      "12.0     23\n",
      "       ... \n",
      "7.0       1\n",
      "10.0      1\n",
      "3.6       1\n",
      "3.8       1\n",
      "5.1       1\n",
      "Name: count, Length: 98, dtype: int64\n",
      "pesoentostado\n",
      "5.00     95\n",
      "2.50     75\n",
      "1.00     37\n",
      "10.00    22\n",
      "1.70     21\n",
      "         ..\n",
      "7.51      1\n",
      "0.80      1\n",
      "1.68      1\n",
      "5.80      1\n",
      "8.20      1\n",
      "Name: count, Length: 100, dtype: int64\n",
      "merma\n",
      "16.666667    334\n",
      "20.000000     26\n",
      "15.000000     21\n",
      "19.354839     14\n",
      "19.047619     11\n",
      "            ... \n",
      "17.333333      1\n",
      "27.777778      1\n",
      "17.142857      1\n",
      "18.000000      1\n",
      "17.647059      1\n",
      "Name: count, Length: 70, dtype: int64\n",
      "perfil\n",
      "Filtrado      250\n",
      "Filtrados     166\n",
      "Espressso      35\n",
      "Filtrado       33\n",
      "Espresso       26\n",
      "Espresso       14\n",
      "Name: count, dtype: int64\n",
      "temp.deinicioyfinal\n",
      "175°/191°     108\n",
      "170°/191°      76\n",
      "175°/192°      69\n",
      "170°/190°      65\n",
      "180°/193°      48\n",
      "170°/189°      41\n",
      "175°/195°      40\n",
      "175°/190°      23\n",
      "175°/196°       6\n",
      "175°/189°       6\n",
      "175°/192°       5\n",
      "175°/195        5\n",
      "180°/193°       4\n",
      "170°/195°       4\n",
      "175°/193°       4\n",
      "175°/ 192°      4\n",
      "180°/192°       3\n",
      "175°/194°       3\n",
      "175°/192        2\n",
      "175°192°        1\n",
      "175°/196        1\n",
      "175°/196°       1\n",
      "170°/192°       1\n",
      "150°/184°       1\n",
      "180°/191°       1\n",
      "150°/186°       1\n",
      "175°/191°       1\n",
      "Name: count, dtype: int64\n",
      "tiempodetueste\n",
      "08:58:00    37\n",
      "08:12:00    36\n",
      "08:14:00    36\n",
      "08:01:00    29\n",
      "08:10:00    27\n",
      "            ..\n",
      "09:10:00     1\n",
      "06:50:00     1\n",
      "07:01:00     1\n",
      "07:10:00     1\n",
      "07:12:00     1\n",
      "Name: count, Length: 64, dtype: int64\n"
     ]
    }
   ],
   "execution_count": 82
  },
  {
   "metadata": {},
   "cell_type": "markdown",
   "source": "Homogenizacion de los datos",
   "id": "11d1fe84bfbef446"
  },
  {
   "metadata": {
    "ExecuteTime": {
     "end_time": "2025-07-15T02:38:30.267929Z",
     "start_time": "2025-07-15T02:38:30.250171Z"
    }
   },
   "cell_type": "code",
   "source": [
    "'''asignamos valores numericos a las variables categoricas'''\n",
    "le = LabelEncoder()\n",
    "for i in df_final:\n",
    "    if (i!='%h' and i!='mallas') and (df_final[i].dtypes != 'float64'): #se excluyen %h y mallas porque son numericas y mas adelante se resolvera\n",
    "        df_final[i] = le.fit_transform(df_final[i])\n",
    "print(df_final.info())"
   ],
   "id": "db5b7fa68ca30850",
   "outputs": [
    {
     "name": "stdout",
     "output_type": "stream",
     "text": [
      "<class 'pandas.core.frame.DataFrame'>\n",
      "RangeIndex: 579 entries, 0 to 578\n",
      "Data columns (total 11 columns):\n",
      " #   Column               Non-Null Count  Dtype  \n",
      "---  ------               --------------  -----  \n",
      " 0   %h                   443 non-null    object \n",
      " 1   mallas               443 non-null    object \n",
      " 2   variedad             579 non-null    int64  \n",
      " 3   proceso              579 non-null    int64  \n",
      " 4   beneficio            579 non-null    int64  \n",
      " 5   pesoenverde          524 non-null    float64\n",
      " 6   pesoentostado        524 non-null    float64\n",
      " 7   merma                524 non-null    float64\n",
      " 8   perfil               579 non-null    int64  \n",
      " 9   temp.deinicioyfinal  579 non-null    int64  \n",
      " 10  tiempodetueste       579 non-null    int64  \n",
      "dtypes: float64(3), int64(6), object(2)\n",
      "memory usage: 49.9+ KB\n",
      "None\n"
     ]
    }
   ],
   "execution_count": 83
  },
  {
   "metadata": {
    "ExecuteTime": {
     "end_time": "2025-07-15T02:38:32.159530Z",
     "start_time": "2025-07-15T02:38:32.152467Z"
    }
   },
   "cell_type": "code",
   "source": "df_final = df_final.apply(lambda  col: pd.to_numeric(col, errors='coerce') if col.dtypes == 'object' else col)",
   "id": "d1c2f4078817876d",
   "outputs": [],
   "execution_count": 84
  },
  {
   "metadata": {
    "ExecuteTime": {
     "end_time": "2025-07-15T02:38:35.655231Z",
     "start_time": "2025-07-15T02:38:35.644300Z"
    }
   },
   "cell_type": "code",
   "source": "print(df_final.info())",
   "id": "1ad8b618d54c5b39",
   "outputs": [
    {
     "name": "stdout",
     "output_type": "stream",
     "text": [
      "<class 'pandas.core.frame.DataFrame'>\n",
      "RangeIndex: 579 entries, 0 to 578\n",
      "Data columns (total 11 columns):\n",
      " #   Column               Non-Null Count  Dtype  \n",
      "---  ------               --------------  -----  \n",
      " 0   %h                   442 non-null    float64\n",
      " 1   mallas               442 non-null    float64\n",
      " 2   variedad             579 non-null    int64  \n",
      " 3   proceso              579 non-null    int64  \n",
      " 4   beneficio            579 non-null    int64  \n",
      " 5   pesoenverde          524 non-null    float64\n",
      " 6   pesoentostado        524 non-null    float64\n",
      " 7   merma                524 non-null    float64\n",
      " 8   perfil               579 non-null    int64  \n",
      " 9   temp.deinicioyfinal  579 non-null    int64  \n",
      " 10  tiempodetueste       579 non-null    int64  \n",
      "dtypes: float64(5), int64(6)\n",
      "memory usage: 49.9 KB\n",
      "None\n"
     ]
    }
   ],
   "execution_count": 85
  },
  {
   "metadata": {},
   "cell_type": "markdown",
   "source": "# **Definición de variables y preprocesamiento**",
   "id": "f62813196171f384"
  },
  {
   "metadata": {},
   "cell_type": "markdown",
   "source": "se escoje la variable objetivo y las variables de enrtada",
   "id": "6ddbad31f09a5b72"
  },
  {
   "metadata": {
    "ExecuteTime": {
     "end_time": "2025-07-15T02:40:45.684125Z",
     "start_time": "2025-07-15T02:40:45.678256Z"
    }
   },
   "cell_type": "code",
   "source": [
    "VariableObjetivoY = Ctrl_trillado[['puntaje']]\n",
    "VariableEntradaX = df_final[0:95]"
   ],
   "id": "d711ef35633f4786",
   "outputs": [],
   "execution_count": 89
  },
  {
   "metadata": {
    "ExecuteTime": {
     "end_time": "2025-07-15T02:45:56.310709Z",
     "start_time": "2025-07-15T02:45:56.294362Z"
    }
   },
   "cell_type": "code",
   "source": [
    "print(VariableObjetivoY.info())\n",
    "print(VariableEntradaX.info())\n",
    "print(VariableEntradaX.columns)"
   ],
   "id": "d1394fa0a9605a98",
   "outputs": [
    {
     "name": "stdout",
     "output_type": "stream",
     "text": [
      "<class 'pandas.core.frame.DataFrame'>\n",
      "RangeIndex: 95 entries, 0 to 94\n",
      "Data columns (total 1 columns):\n",
      " #   Column   Non-Null Count  Dtype \n",
      "---  ------   --------------  ----- \n",
      " 0   puntaje  76 non-null     object\n",
      "dtypes: object(1)\n",
      "memory usage: 892.0+ bytes\n",
      "None\n",
      "<class 'pandas.core.frame.DataFrame'>\n",
      "RangeIndex: 95 entries, 0 to 94\n",
      "Data columns (total 11 columns):\n",
      " #   Column               Non-Null Count  Dtype  \n",
      "---  ------               --------------  -----  \n",
      " 0   %h                   95 non-null     float64\n",
      " 1   mallas               95 non-null     float64\n",
      " 2   variedad             95 non-null     int64  \n",
      " 3   proceso              95 non-null     int64  \n",
      " 4   beneficio            95 non-null     int64  \n",
      " 5   pesoenverde          95 non-null     float64\n",
      " 6   pesoentostado        95 non-null     float64\n",
      " 7   merma                95 non-null     float64\n",
      " 8   perfil               95 non-null     int64  \n",
      " 9   temp.deinicioyfinal  95 non-null     int64  \n",
      " 10  tiempodetueste       95 non-null     int64  \n",
      "dtypes: float64(5), int64(6)\n",
      "memory usage: 8.3 KB\n",
      "None\n",
      "Index(['%h', 'mallas', 'variedad', 'proceso', 'beneficio', 'pesoenverde',\n",
      "       'pesoentostado', 'merma', 'perfil', 'temp.deinicioyfinal',\n",
      "       'tiempodetueste'],\n",
      "      dtype='object')\n"
     ]
    }
   ],
   "execution_count": 92
  },
  {
   "metadata": {},
   "cell_type": "markdown",
   "source": "vemos que hay una incongruencia con la cantidad de valores, asi que para reemplazar los NaN usaremos la Media",
   "id": "4081566db0171a99"
  },
  {
   "metadata": {
    "ExecuteTime": {
     "end_time": "2025-07-15T02:49:40.589055Z",
     "start_time": "2025-07-15T02:49:40.580810Z"
    }
   },
   "cell_type": "code",
   "source": [
    "for i in VariableEntradaX.columns:\n",
    "    VariableEntradaX.loc[:,i] = VariableEntradaX[i].fillna(df_final[i].mean())#loc para acceder a las comulnas"
   ],
   "id": "ac8018b93aa8587d",
   "outputs": [],
   "execution_count": 96
  },
  {
   "metadata": {
    "ExecuteTime": {
     "end_time": "2025-07-15T02:49:45.014421Z",
     "start_time": "2025-07-15T02:49:44.997592Z"
    }
   },
   "cell_type": "code",
   "source": [
    "print(VariableObjetivoY.info())\n",
    "print(VariableEntradaX.info())"
   ],
   "id": "41e485308ce64408",
   "outputs": [
    {
     "name": "stdout",
     "output_type": "stream",
     "text": [
      "<class 'pandas.core.frame.DataFrame'>\n",
      "RangeIndex: 95 entries, 0 to 94\n",
      "Data columns (total 1 columns):\n",
      " #   Column   Non-Null Count  Dtype \n",
      "---  ------   --------------  ----- \n",
      " 0   puntaje  76 non-null     object\n",
      "dtypes: object(1)\n",
      "memory usage: 892.0+ bytes\n",
      "None\n",
      "<class 'pandas.core.frame.DataFrame'>\n",
      "RangeIndex: 95 entries, 0 to 94\n",
      "Data columns (total 11 columns):\n",
      " #   Column               Non-Null Count  Dtype  \n",
      "---  ------               --------------  -----  \n",
      " 0   %h                   95 non-null     float64\n",
      " 1   mallas               95 non-null     float64\n",
      " 2   variedad             95 non-null     int64  \n",
      " 3   proceso              95 non-null     int64  \n",
      " 4   beneficio            95 non-null     int64  \n",
      " 5   pesoenverde          95 non-null     float64\n",
      " 6   pesoentostado        95 non-null     float64\n",
      " 7   merma                95 non-null     float64\n",
      " 8   perfil               95 non-null     int64  \n",
      " 9   temp.deinicioyfinal  95 non-null     int64  \n",
      " 10  tiempodetueste       95 non-null     int64  \n",
      "dtypes: float64(5), int64(6)\n",
      "memory usage: 8.3 KB\n",
      "None\n"
     ]
    }
   ],
   "execution_count": 97
  },
  {
   "metadata": {},
   "cell_type": "markdown",
   "source": "Prosigo con el escalado\n",
   "id": "3676187874d44e48"
  },
  {
   "metadata": {
    "ExecuteTime": {
     "end_time": "2025-07-15T02:52:17.366672Z",
     "start_time": "2025-07-15T02:52:17.355187Z"
    }
   },
   "cell_type": "code",
   "source": [
    "scaler = StandardScaler()\n",
    "X_scaled = scaler.fit_transform(VariableEntradaX)\n",
    "X_scaled = pd.DataFrame(X_scaled, columns=VariableEntradaX.columns)"
   ],
   "id": "5a078be967b001c8",
   "outputs": [],
   "execution_count": 98
  },
  {
   "metadata": {
    "ExecuteTime": {
     "end_time": "2025-07-15T02:52:48.205971Z",
     "start_time": "2025-07-15T02:52:48.185898Z"
    }
   },
   "cell_type": "code",
   "source": [
    "print(X_scaled.head(20))\n",
    "print(X_scaled.info())"
   ],
   "id": "8e8deedaac98c51d",
   "outputs": [
    {
     "name": "stdout",
     "output_type": "stream",
     "text": [
      "          %h  mallas  variedad   proceso  beneficio  pesoenverde  \\\n",
      "0   1.053662    -0.5 -0.259645 -0.259645  -0.259645     3.046566   \n",
      "1   1.053662    -0.5 -0.259645 -0.259645  -0.259645     0.098937   \n",
      "2   1.053662    -0.5 -0.259645 -0.259645  -0.259645    -1.034767   \n",
      "3   1.053662    -0.5 -0.259645 -0.259645  -0.259645    -1.024460   \n",
      "4   1.053662    -0.5 -0.259645 -0.259645  -0.259645    -0.581285   \n",
      "5   1.053662    -0.5 -0.259645 -0.259645  -0.259645    -1.024460   \n",
      "6   1.053662    -0.5 -0.259645 -0.259645  -0.259645    -0.766800   \n",
      "7   1.053662    -0.5 -0.259645 -0.259645  -0.259645     0.655482   \n",
      "8   1.053662    -0.5 -0.259645 -0.259645  -0.259645     0.655482   \n",
      "9   1.053662    -0.5 -0.259645 -0.259645  -0.259645    -0.457609   \n",
      "10  1.053662    -0.5 -0.259645 -0.259645  -0.259645    -0.643124   \n",
      "11  1.053662    -0.5 -0.259645 -0.259645  -0.259645    -0.985296   \n",
      "12  1.053662    -0.5 -0.259645 -0.259645  -0.259645     2.180829   \n",
      "13  1.053662    -0.5 -0.259645 -0.259645  -0.259645    -0.952315   \n",
      "14  1.053662    -0.5 -0.259645 -0.259645  -0.259645     0.222614   \n",
      "15  1.053662    -0.5 -0.259645 -0.259645  -0.259645     2.139603   \n",
      "16  1.053662    -0.5 -0.259645 -0.259645  -0.259645    -0.890477   \n",
      "17  1.053662    -0.5 -0.259645 -0.259645  -0.259645    -0.828639   \n",
      "18  1.053662    -0.5 -0.259645 -0.259645  -0.259645    -0.210255   \n",
      "19  1.053662    -0.5 -0.259645 -0.259645  -0.259645     1.191415   \n",
      "\n",
      "    pesoentostado     merma    perfil  temp.deinicioyfinal  tiempodetueste  \n",
      "0        3.117451 -0.663054 -2.003580             0.047356        0.591960  \n",
      "1        0.108155 -0.280975 -0.348449             0.047356       -2.419661  \n",
      "2       -1.040393 -1.809291 -0.348449             0.047356       -2.419661  \n",
      "3       -1.032869  2.775656 -2.003580             0.047356        0.591960  \n",
      "4       -0.581475 -0.280975 -0.348449             0.047356       -2.419661  \n",
      "5       -1.030362 -0.892302 -2.003580             0.047356        0.591960  \n",
      "6       -0.769556 -0.280975 -2.003580             0.047356        0.591960  \n",
      "7        0.672398 -0.280975  0.203262            -1.861240       -0.971766  \n",
      "8        0.672398 -0.280975 -2.003580             0.047356        0.707792  \n",
      "9       -0.456088 -0.280975 -0.348449             0.047356       -0.103029  \n",
      "10      -0.644169 -0.280975  0.203262            -1.861240       -0.971766  \n",
      "11      -0.992745  1.108403 -2.003580             0.047356       -0.392608  \n",
      "12       2.177046  0.686313 -1.451870             0.047356       -0.103029  \n",
      "13      -0.957637 -0.280975  0.203262            -1.043270       -0.855935  \n",
      "14       0.233543 -0.280975  0.203262            -1.043270       -1.435093  \n",
      "15       2.177046 -0.280975 -1.451870            -1.588584        0.881540  \n",
      "16      -0.894943 -0.280975  0.203262            -1.043270       -1.435093  \n",
      "17      -0.832250 -0.280975 -1.451870            -1.588584        0.881540  \n",
      "18      -0.205313 -0.280975  0.203262            -1.043270       -1.261345  \n",
      "19       1.173947  1.108403 -1.451870            -1.588584        0.881540  \n",
      "<class 'pandas.core.frame.DataFrame'>\n",
      "RangeIndex: 95 entries, 0 to 94\n",
      "Data columns (total 11 columns):\n",
      " #   Column               Non-Null Count  Dtype  \n",
      "---  ------               --------------  -----  \n",
      " 0   %h                   95 non-null     float64\n",
      " 1   mallas               95 non-null     float64\n",
      " 2   variedad             95 non-null     float64\n",
      " 3   proceso              95 non-null     float64\n",
      " 4   beneficio            95 non-null     float64\n",
      " 5   pesoenverde          95 non-null     float64\n",
      " 6   pesoentostado        95 non-null     float64\n",
      " 7   merma                95 non-null     float64\n",
      " 8   perfil               95 non-null     float64\n",
      " 9   temp.deinicioyfinal  95 non-null     float64\n",
      " 10  tiempodetueste       95 non-null     float64\n",
      "dtypes: float64(11)\n",
      "memory usage: 8.3 KB\n",
      "None\n"
     ]
    }
   ],
   "execution_count": 100
  },
  {
   "metadata": {},
   "cell_type": "markdown",
   "source": "division de los datos en conjuntos de prueba y entrenamiento\n",
   "id": "8d2787342b7b59bf"
  },
  {
   "metadata": {
    "ExecuteTime": {
     "end_time": "2025-07-15T02:57:29.266437Z",
     "start_time": "2025-07-15T02:57:29.255027Z"
    }
   },
   "cell_type": "code",
   "source": [
    "VariableObjetivoY = pd.to_numeric(VariableObjetivoY, errors='coerce')\n",
    "VariableObjetivoY = VariableObjetivoY.fillna(VariableObjetivoY.mean())\n",
    "print(VariableObjetivoY.info())"
   ],
   "id": "2de3740e6cb3705d",
   "outputs": [
    {
     "name": "stdout",
     "output_type": "stream",
     "text": [
      "<class 'pandas.core.series.Series'>\n",
      "RangeIndex: 95 entries, 0 to 94\n",
      "Series name: puntaje\n",
      "Non-Null Count  Dtype  \n",
      "--------------  -----  \n",
      "95 non-null     float64\n",
      "dtypes: float64(1)\n",
      "memory usage: 892.0 bytes\n",
      "None\n"
     ]
    }
   ],
   "execution_count": 104
  },
  {
   "metadata": {
    "ExecuteTime": {
     "end_time": "2025-07-15T03:01:56.933717Z",
     "start_time": "2025-07-15T03:01:56.926496Z"
    }
   },
   "cell_type": "code",
   "source": "x_train, x_test, y_train, y_test = train_test_split(X_scaled, VariableObjetivoY, test_size=0.3, random_state=42)",
   "id": "7fe41e6dc91e4d3c",
   "outputs": [],
   "execution_count": 120
  },
  {
   "metadata": {},
   "cell_type": "markdown",
   "source": "# **ENTRENAMIENTO DE MODELOS DE REGRESION**",
   "id": "75dde8dbf4bc923b"
  },
  {
   "metadata": {
    "ExecuteTime": {
     "end_time": "2025-07-15T03:01:59.430015Z",
     "start_time": "2025-07-15T03:01:59.416967Z"
    }
   },
   "cell_type": "code",
   "source": [
    "pd.DataFrame(x_train).to_csv('X_train.csv', index=False)\n",
    "pd.DataFrame(x_test).to_csv('X_test.csv', index=False)\n",
    "pd.DataFrame(y_train).to_csv('Y_train.csv', index=False)\n",
    "pd.DataFrame(y_test).to_csv('Y_test.csv', index=False)"
   ],
   "id": "ecbc47289cfb5a65",
   "outputs": [],
   "execution_count": 121
  },
  {
   "metadata": {},
   "cell_type": "markdown",
   "source": "Modelo # y Modelo #2\n",
   "id": "6ea1611060f6d1bf"
  },
  {
   "metadata": {
    "ExecuteTime": {
     "end_time": "2025-07-15T03:02:01.101482Z",
     "start_time": "2025-07-15T03:02:01.087856Z"
    }
   },
   "cell_type": "code",
   "source": [
    "xTrain = pd.read_csv('X_train.csv').values\n",
    "xTest = pd.read_csv('X_test.csv').values\n",
    "yTrain = pd.read_csv('Y_train.csv').values\n",
    "yTest = pd.read_csv('Y_test.csv').values"
   ],
   "id": "779602ef4ba25d4f",
   "outputs": [],
   "execution_count": 122
  },
  {
   "metadata": {
    "ExecuteTime": {
     "end_time": "2025-07-15T03:02:02.336327Z",
     "start_time": "2025-07-15T03:02:02.332583Z"
    }
   },
   "cell_type": "code",
   "source": [
    "Modelo_lr = LinearRegression()\n",
    "#modelo_rf = RandomForestRegressor(random_state=42)"
   ],
   "id": "334ecad9aeb905b3",
   "outputs": [],
   "execution_count": 123
  },
  {
   "metadata": {
    "ExecuteTime": {
     "end_time": "2025-07-15T03:02:04.731393Z",
     "start_time": "2025-07-15T03:02:04.722248Z"
    }
   },
   "cell_type": "code",
   "source": [
    "Modelo_lr.fit(xTrain, yTrain)\n",
    "#modelo_rf.fit(x_train, y_train)"
   ],
   "id": "763ac8a575b720d7",
   "outputs": [
    {
     "data": {
      "text/plain": [
       "LinearRegression()"
      ],
      "text/html": [
       "<style>#sk-container-id-3 {\n",
       "  /* Definition of color scheme common for light and dark mode */\n",
       "  --sklearn-color-text: #000;\n",
       "  --sklearn-color-text-muted: #666;\n",
       "  --sklearn-color-line: gray;\n",
       "  /* Definition of color scheme for unfitted estimators */\n",
       "  --sklearn-color-unfitted-level-0: #fff5e6;\n",
       "  --sklearn-color-unfitted-level-1: #f6e4d2;\n",
       "  --sklearn-color-unfitted-level-2: #ffe0b3;\n",
       "  --sklearn-color-unfitted-level-3: chocolate;\n",
       "  /* Definition of color scheme for fitted estimators */\n",
       "  --sklearn-color-fitted-level-0: #f0f8ff;\n",
       "  --sklearn-color-fitted-level-1: #d4ebff;\n",
       "  --sklearn-color-fitted-level-2: #b3dbfd;\n",
       "  --sklearn-color-fitted-level-3: cornflowerblue;\n",
       "\n",
       "  /* Specific color for light theme */\n",
       "  --sklearn-color-text-on-default-background: var(--sg-text-color, var(--theme-code-foreground, var(--jp-content-font-color1, black)));\n",
       "  --sklearn-color-background: var(--sg-background-color, var(--theme-background, var(--jp-layout-color0, white)));\n",
       "  --sklearn-color-border-box: var(--sg-text-color, var(--theme-code-foreground, var(--jp-content-font-color1, black)));\n",
       "  --sklearn-color-icon: #696969;\n",
       "\n",
       "  @media (prefers-color-scheme: dark) {\n",
       "    /* Redefinition of color scheme for dark theme */\n",
       "    --sklearn-color-text-on-default-background: var(--sg-text-color, var(--theme-code-foreground, var(--jp-content-font-color1, white)));\n",
       "    --sklearn-color-background: var(--sg-background-color, var(--theme-background, var(--jp-layout-color0, #111)));\n",
       "    --sklearn-color-border-box: var(--sg-text-color, var(--theme-code-foreground, var(--jp-content-font-color1, white)));\n",
       "    --sklearn-color-icon: #878787;\n",
       "  }\n",
       "}\n",
       "\n",
       "#sk-container-id-3 {\n",
       "  color: var(--sklearn-color-text);\n",
       "}\n",
       "\n",
       "#sk-container-id-3 pre {\n",
       "  padding: 0;\n",
       "}\n",
       "\n",
       "#sk-container-id-3 input.sk-hidden--visually {\n",
       "  border: 0;\n",
       "  clip: rect(1px 1px 1px 1px);\n",
       "  clip: rect(1px, 1px, 1px, 1px);\n",
       "  height: 1px;\n",
       "  margin: -1px;\n",
       "  overflow: hidden;\n",
       "  padding: 0;\n",
       "  position: absolute;\n",
       "  width: 1px;\n",
       "}\n",
       "\n",
       "#sk-container-id-3 div.sk-dashed-wrapped {\n",
       "  border: 1px dashed var(--sklearn-color-line);\n",
       "  margin: 0 0.4em 0.5em 0.4em;\n",
       "  box-sizing: border-box;\n",
       "  padding-bottom: 0.4em;\n",
       "  background-color: var(--sklearn-color-background);\n",
       "}\n",
       "\n",
       "#sk-container-id-3 div.sk-container {\n",
       "  /* jupyter's `normalize.less` sets `[hidden] { display: none; }`\n",
       "     but bootstrap.min.css set `[hidden] { display: none !important; }`\n",
       "     so we also need the `!important` here to be able to override the\n",
       "     default hidden behavior on the sphinx rendered scikit-learn.org.\n",
       "     See: https://github.com/scikit-learn/scikit-learn/issues/21755 */\n",
       "  display: inline-block !important;\n",
       "  position: relative;\n",
       "}\n",
       "\n",
       "#sk-container-id-3 div.sk-text-repr-fallback {\n",
       "  display: none;\n",
       "}\n",
       "\n",
       "div.sk-parallel-item,\n",
       "div.sk-serial,\n",
       "div.sk-item {\n",
       "  /* draw centered vertical line to link estimators */\n",
       "  background-image: linear-gradient(var(--sklearn-color-text-on-default-background), var(--sklearn-color-text-on-default-background));\n",
       "  background-size: 2px 100%;\n",
       "  background-repeat: no-repeat;\n",
       "  background-position: center center;\n",
       "}\n",
       "\n",
       "/* Parallel-specific style estimator block */\n",
       "\n",
       "#sk-container-id-3 div.sk-parallel-item::after {\n",
       "  content: \"\";\n",
       "  width: 100%;\n",
       "  border-bottom: 2px solid var(--sklearn-color-text-on-default-background);\n",
       "  flex-grow: 1;\n",
       "}\n",
       "\n",
       "#sk-container-id-3 div.sk-parallel {\n",
       "  display: flex;\n",
       "  align-items: stretch;\n",
       "  justify-content: center;\n",
       "  background-color: var(--sklearn-color-background);\n",
       "  position: relative;\n",
       "}\n",
       "\n",
       "#sk-container-id-3 div.sk-parallel-item {\n",
       "  display: flex;\n",
       "  flex-direction: column;\n",
       "}\n",
       "\n",
       "#sk-container-id-3 div.sk-parallel-item:first-child::after {\n",
       "  align-self: flex-end;\n",
       "  width: 50%;\n",
       "}\n",
       "\n",
       "#sk-container-id-3 div.sk-parallel-item:last-child::after {\n",
       "  align-self: flex-start;\n",
       "  width: 50%;\n",
       "}\n",
       "\n",
       "#sk-container-id-3 div.sk-parallel-item:only-child::after {\n",
       "  width: 0;\n",
       "}\n",
       "\n",
       "/* Serial-specific style estimator block */\n",
       "\n",
       "#sk-container-id-3 div.sk-serial {\n",
       "  display: flex;\n",
       "  flex-direction: column;\n",
       "  align-items: center;\n",
       "  background-color: var(--sklearn-color-background);\n",
       "  padding-right: 1em;\n",
       "  padding-left: 1em;\n",
       "}\n",
       "\n",
       "\n",
       "/* Toggleable style: style used for estimator/Pipeline/ColumnTransformer box that is\n",
       "clickable and can be expanded/collapsed.\n",
       "- Pipeline and ColumnTransformer use this feature and define the default style\n",
       "- Estimators will overwrite some part of the style using the `sk-estimator` class\n",
       "*/\n",
       "\n",
       "/* Pipeline and ColumnTransformer style (default) */\n",
       "\n",
       "#sk-container-id-3 div.sk-toggleable {\n",
       "  /* Default theme specific background. It is overwritten whether we have a\n",
       "  specific estimator or a Pipeline/ColumnTransformer */\n",
       "  background-color: var(--sklearn-color-background);\n",
       "}\n",
       "\n",
       "/* Toggleable label */\n",
       "#sk-container-id-3 label.sk-toggleable__label {\n",
       "  cursor: pointer;\n",
       "  display: flex;\n",
       "  width: 100%;\n",
       "  margin-bottom: 0;\n",
       "  padding: 0.5em;\n",
       "  box-sizing: border-box;\n",
       "  text-align: center;\n",
       "  align-items: start;\n",
       "  justify-content: space-between;\n",
       "  gap: 0.5em;\n",
       "}\n",
       "\n",
       "#sk-container-id-3 label.sk-toggleable__label .caption {\n",
       "  font-size: 0.6rem;\n",
       "  font-weight: lighter;\n",
       "  color: var(--sklearn-color-text-muted);\n",
       "}\n",
       "\n",
       "#sk-container-id-3 label.sk-toggleable__label-arrow:before {\n",
       "  /* Arrow on the left of the label */\n",
       "  content: \"▸\";\n",
       "  float: left;\n",
       "  margin-right: 0.25em;\n",
       "  color: var(--sklearn-color-icon);\n",
       "}\n",
       "\n",
       "#sk-container-id-3 label.sk-toggleable__label-arrow:hover:before {\n",
       "  color: var(--sklearn-color-text);\n",
       "}\n",
       "\n",
       "/* Toggleable content - dropdown */\n",
       "\n",
       "#sk-container-id-3 div.sk-toggleable__content {\n",
       "  max-height: 0;\n",
       "  max-width: 0;\n",
       "  overflow: hidden;\n",
       "  text-align: left;\n",
       "  /* unfitted */\n",
       "  background-color: var(--sklearn-color-unfitted-level-0);\n",
       "}\n",
       "\n",
       "#sk-container-id-3 div.sk-toggleable__content.fitted {\n",
       "  /* fitted */\n",
       "  background-color: var(--sklearn-color-fitted-level-0);\n",
       "}\n",
       "\n",
       "#sk-container-id-3 div.sk-toggleable__content pre {\n",
       "  margin: 0.2em;\n",
       "  border-radius: 0.25em;\n",
       "  color: var(--sklearn-color-text);\n",
       "  /* unfitted */\n",
       "  background-color: var(--sklearn-color-unfitted-level-0);\n",
       "}\n",
       "\n",
       "#sk-container-id-3 div.sk-toggleable__content.fitted pre {\n",
       "  /* unfitted */\n",
       "  background-color: var(--sklearn-color-fitted-level-0);\n",
       "}\n",
       "\n",
       "#sk-container-id-3 input.sk-toggleable__control:checked~div.sk-toggleable__content {\n",
       "  /* Expand drop-down */\n",
       "  max-height: 200px;\n",
       "  max-width: 100%;\n",
       "  overflow: auto;\n",
       "}\n",
       "\n",
       "#sk-container-id-3 input.sk-toggleable__control:checked~label.sk-toggleable__label-arrow:before {\n",
       "  content: \"▾\";\n",
       "}\n",
       "\n",
       "/* Pipeline/ColumnTransformer-specific style */\n",
       "\n",
       "#sk-container-id-3 div.sk-label input.sk-toggleable__control:checked~label.sk-toggleable__label {\n",
       "  color: var(--sklearn-color-text);\n",
       "  background-color: var(--sklearn-color-unfitted-level-2);\n",
       "}\n",
       "\n",
       "#sk-container-id-3 div.sk-label.fitted input.sk-toggleable__control:checked~label.sk-toggleable__label {\n",
       "  background-color: var(--sklearn-color-fitted-level-2);\n",
       "}\n",
       "\n",
       "/* Estimator-specific style */\n",
       "\n",
       "/* Colorize estimator box */\n",
       "#sk-container-id-3 div.sk-estimator input.sk-toggleable__control:checked~label.sk-toggleable__label {\n",
       "  /* unfitted */\n",
       "  background-color: var(--sklearn-color-unfitted-level-2);\n",
       "}\n",
       "\n",
       "#sk-container-id-3 div.sk-estimator.fitted input.sk-toggleable__control:checked~label.sk-toggleable__label {\n",
       "  /* fitted */\n",
       "  background-color: var(--sklearn-color-fitted-level-2);\n",
       "}\n",
       "\n",
       "#sk-container-id-3 div.sk-label label.sk-toggleable__label,\n",
       "#sk-container-id-3 div.sk-label label {\n",
       "  /* The background is the default theme color */\n",
       "  color: var(--sklearn-color-text-on-default-background);\n",
       "}\n",
       "\n",
       "/* On hover, darken the color of the background */\n",
       "#sk-container-id-3 div.sk-label:hover label.sk-toggleable__label {\n",
       "  color: var(--sklearn-color-text);\n",
       "  background-color: var(--sklearn-color-unfitted-level-2);\n",
       "}\n",
       "\n",
       "/* Label box, darken color on hover, fitted */\n",
       "#sk-container-id-3 div.sk-label.fitted:hover label.sk-toggleable__label.fitted {\n",
       "  color: var(--sklearn-color-text);\n",
       "  background-color: var(--sklearn-color-fitted-level-2);\n",
       "}\n",
       "\n",
       "/* Estimator label */\n",
       "\n",
       "#sk-container-id-3 div.sk-label label {\n",
       "  font-family: monospace;\n",
       "  font-weight: bold;\n",
       "  display: inline-block;\n",
       "  line-height: 1.2em;\n",
       "}\n",
       "\n",
       "#sk-container-id-3 div.sk-label-container {\n",
       "  text-align: center;\n",
       "}\n",
       "\n",
       "/* Estimator-specific */\n",
       "#sk-container-id-3 div.sk-estimator {\n",
       "  font-family: monospace;\n",
       "  border: 1px dotted var(--sklearn-color-border-box);\n",
       "  border-radius: 0.25em;\n",
       "  box-sizing: border-box;\n",
       "  margin-bottom: 0.5em;\n",
       "  /* unfitted */\n",
       "  background-color: var(--sklearn-color-unfitted-level-0);\n",
       "}\n",
       "\n",
       "#sk-container-id-3 div.sk-estimator.fitted {\n",
       "  /* fitted */\n",
       "  background-color: var(--sklearn-color-fitted-level-0);\n",
       "}\n",
       "\n",
       "/* on hover */\n",
       "#sk-container-id-3 div.sk-estimator:hover {\n",
       "  /* unfitted */\n",
       "  background-color: var(--sklearn-color-unfitted-level-2);\n",
       "}\n",
       "\n",
       "#sk-container-id-3 div.sk-estimator.fitted:hover {\n",
       "  /* fitted */\n",
       "  background-color: var(--sklearn-color-fitted-level-2);\n",
       "}\n",
       "\n",
       "/* Specification for estimator info (e.g. \"i\" and \"?\") */\n",
       "\n",
       "/* Common style for \"i\" and \"?\" */\n",
       "\n",
       ".sk-estimator-doc-link,\n",
       "a:link.sk-estimator-doc-link,\n",
       "a:visited.sk-estimator-doc-link {\n",
       "  float: right;\n",
       "  font-size: smaller;\n",
       "  line-height: 1em;\n",
       "  font-family: monospace;\n",
       "  background-color: var(--sklearn-color-background);\n",
       "  border-radius: 1em;\n",
       "  height: 1em;\n",
       "  width: 1em;\n",
       "  text-decoration: none !important;\n",
       "  margin-left: 0.5em;\n",
       "  text-align: center;\n",
       "  /* unfitted */\n",
       "  border: var(--sklearn-color-unfitted-level-1) 1pt solid;\n",
       "  color: var(--sklearn-color-unfitted-level-1);\n",
       "}\n",
       "\n",
       ".sk-estimator-doc-link.fitted,\n",
       "a:link.sk-estimator-doc-link.fitted,\n",
       "a:visited.sk-estimator-doc-link.fitted {\n",
       "  /* fitted */\n",
       "  border: var(--sklearn-color-fitted-level-1) 1pt solid;\n",
       "  color: var(--sklearn-color-fitted-level-1);\n",
       "}\n",
       "\n",
       "/* On hover */\n",
       "div.sk-estimator:hover .sk-estimator-doc-link:hover,\n",
       ".sk-estimator-doc-link:hover,\n",
       "div.sk-label-container:hover .sk-estimator-doc-link:hover,\n",
       ".sk-estimator-doc-link:hover {\n",
       "  /* unfitted */\n",
       "  background-color: var(--sklearn-color-unfitted-level-3);\n",
       "  color: var(--sklearn-color-background);\n",
       "  text-decoration: none;\n",
       "}\n",
       "\n",
       "div.sk-estimator.fitted:hover .sk-estimator-doc-link.fitted:hover,\n",
       ".sk-estimator-doc-link.fitted:hover,\n",
       "div.sk-label-container:hover .sk-estimator-doc-link.fitted:hover,\n",
       ".sk-estimator-doc-link.fitted:hover {\n",
       "  /* fitted */\n",
       "  background-color: var(--sklearn-color-fitted-level-3);\n",
       "  color: var(--sklearn-color-background);\n",
       "  text-decoration: none;\n",
       "}\n",
       "\n",
       "/* Span, style for the box shown on hovering the info icon */\n",
       ".sk-estimator-doc-link span {\n",
       "  display: none;\n",
       "  z-index: 9999;\n",
       "  position: relative;\n",
       "  font-weight: normal;\n",
       "  right: .2ex;\n",
       "  padding: .5ex;\n",
       "  margin: .5ex;\n",
       "  width: min-content;\n",
       "  min-width: 20ex;\n",
       "  max-width: 50ex;\n",
       "  color: var(--sklearn-color-text);\n",
       "  box-shadow: 2pt 2pt 4pt #999;\n",
       "  /* unfitted */\n",
       "  background: var(--sklearn-color-unfitted-level-0);\n",
       "  border: .5pt solid var(--sklearn-color-unfitted-level-3);\n",
       "}\n",
       "\n",
       ".sk-estimator-doc-link.fitted span {\n",
       "  /* fitted */\n",
       "  background: var(--sklearn-color-fitted-level-0);\n",
       "  border: var(--sklearn-color-fitted-level-3);\n",
       "}\n",
       "\n",
       ".sk-estimator-doc-link:hover span {\n",
       "  display: block;\n",
       "}\n",
       "\n",
       "/* \"?\"-specific style due to the `<a>` HTML tag */\n",
       "\n",
       "#sk-container-id-3 a.estimator_doc_link {\n",
       "  float: right;\n",
       "  font-size: 1rem;\n",
       "  line-height: 1em;\n",
       "  font-family: monospace;\n",
       "  background-color: var(--sklearn-color-background);\n",
       "  border-radius: 1rem;\n",
       "  height: 1rem;\n",
       "  width: 1rem;\n",
       "  text-decoration: none;\n",
       "  /* unfitted */\n",
       "  color: var(--sklearn-color-unfitted-level-1);\n",
       "  border: var(--sklearn-color-unfitted-level-1) 1pt solid;\n",
       "}\n",
       "\n",
       "#sk-container-id-3 a.estimator_doc_link.fitted {\n",
       "  /* fitted */\n",
       "  border: var(--sklearn-color-fitted-level-1) 1pt solid;\n",
       "  color: var(--sklearn-color-fitted-level-1);\n",
       "}\n",
       "\n",
       "/* On hover */\n",
       "#sk-container-id-3 a.estimator_doc_link:hover {\n",
       "  /* unfitted */\n",
       "  background-color: var(--sklearn-color-unfitted-level-3);\n",
       "  color: var(--sklearn-color-background);\n",
       "  text-decoration: none;\n",
       "}\n",
       "\n",
       "#sk-container-id-3 a.estimator_doc_link.fitted:hover {\n",
       "  /* fitted */\n",
       "  background-color: var(--sklearn-color-fitted-level-3);\n",
       "}\n",
       "</style><div id=\"sk-container-id-3\" class=\"sk-top-container\"><div class=\"sk-text-repr-fallback\"><pre>LinearRegression()</pre><b>In a Jupyter environment, please rerun this cell to show the HTML representation or trust the notebook. <br />On GitHub, the HTML representation is unable to render, please try loading this page with nbviewer.org.</b></div><div class=\"sk-container\" hidden><div class=\"sk-item\"><div class=\"sk-estimator fitted sk-toggleable\"><input class=\"sk-toggleable__control sk-hidden--visually\" id=\"sk-estimator-id-3\" type=\"checkbox\" checked><label for=\"sk-estimator-id-3\" class=\"sk-toggleable__label fitted sk-toggleable__label-arrow\"><div><div>LinearRegression</div></div><div><a class=\"sk-estimator-doc-link fitted\" rel=\"noreferrer\" target=\"_blank\" href=\"https://scikit-learn.org/1.6/modules/generated/sklearn.linear_model.LinearRegression.html\">?<span>Documentation for LinearRegression</span></a><span class=\"sk-estimator-doc-link fitted\">i<span>Fitted</span></span></div></label><div class=\"sk-toggleable__content fitted\"><pre>LinearRegression()</pre></div> </div></div></div></div>"
      ]
     },
     "execution_count": 124,
     "metadata": {},
     "output_type": "execute_result"
    }
   ],
   "execution_count": 124
  },
  {
   "metadata": {},
   "cell_type": "markdown",
   "source": "Evaluacion de los modelos",
   "id": "ca53c5a7904d246b"
  },
  {
   "metadata": {
    "ExecuteTime": {
     "end_time": "2025-07-15T03:02:07.226433Z",
     "start_time": "2025-07-15T03:02:07.217112Z"
    }
   },
   "cell_type": "code",
   "source": [
    "from sklearn.metrics import mean_absolute_error\n",
    "y_prediccion = Modelo_lr.predict(xTest)\n",
    "r2 = r2_score(yTest, y_prediccion)\n",
    "rmse = mean_squared_error(yTest, y_prediccion)\n",
    "error_abs = mean_absolute_error(yTest, y_prediccion)\n",
    "print(f'R2 Score: {r2} | RMSE: {rmse} | Absolute Error: {error_abs}')\n"
   ],
   "id": "23ce36920dad98f0",
   "outputs": [
    {
     "name": "stdout",
     "output_type": "stream",
     "text": [
      "R2 Score: -0.2925631501449095 | RMSE: 1.877349323718455 | Absolute Error: 1.0683440785132872\n"
     ]
    }
   ],
   "execution_count": 125
  },
  {
   "metadata": {
    "ExecuteTime": {
     "end_time": "2025-07-15T03:00:01.011441Z",
     "start_time": "2025-07-15T03:00:00.697680Z"
    }
   },
   "cell_type": "code",
   "source": [
    "plt.figure(figsize=(6, 6))\n",
    "plt.scatter(yTest, y_prediccion, alpha=0.7)\n",
    "plt.plot([yTest.min(), yTest.max()], [yTest.min(), yTest.max()], 'r--')  # línea ideal\n",
    "plt.title('yTest vs y_prediccion')\n",
    "plt.xlabel('Valor real (yTest)')\n",
    "plt.ylabel('Valor predicho')\n",
    "plt.grid(True)\n",
    "plt.tight_layout()\n",
    "plt.show()\n"
   ],
   "id": "7cd35e9c285693dc",
   "outputs": [
    {
     "data": {
      "text/plain": [
       "<Figure size 600x600 with 1 Axes>"
      ],
      "image/png": "[encoded data removed]"
     },
     "metadata": {},
     "output_type": "display_data"
    }
   ],
   "execution_count": 112
  },
  {
   "metadata": {},
   "cell_type": "code",
   "source": [
    "#modelos = [('Regresion lineal',Modelo_lr),('Random Forest',modelo_rf)]\n",
    "'''\n",
    "for name, model in modelos:\n",
    "    y_pred = model.predict(x_test)\n",
    "    rmse = mean_squared_error(y_test, y_pred)\n",
    "    r2 = r2_score(y_test, y_pred)\n",
    "    print(f'{name} -> RMSE: {rmse:.2f} | R2: {r2:.2f}')'''\n",
    "\n"
   ],
   "id": "fa9890fb629dbd79",
   "outputs": [],
   "execution_count": null
  },
  {
   "metadata": {},
   "cell_type": "code",
   "source": [
    "\n",
    "importances = modelo_rf.feature_importances_\n",
    "plt.barh(x_train.columns, importances)\n",
    "plt.title(\"Importancia de Variables (Random Forest)\")\n",
    "plt.xlabel(\"Importancia\")\n",
    "plt.gca().invert_yaxis()\n",
    "plt.tight_layout()\n",
    "plt.show()"
   ],
   "id": "d4acc351211d187",
   "outputs": [],
   "execution_count": null
  }
 ],
 "metadata": {
  "kernelspec": {
   "display_name": "Python 3",
   "language": "python",
   "name": "python3"
  },
  "language_info": {
   "codemirror_mode": {
    "name": "ipython",
    "version": 2
   },
   "file_extension": ".py",
   "mimetype": "text/x-python",
   "name": "python",
   "nbconvert_exporter": "python",
   "pygments_lexer": "ipython2",
   "version": "2.7.6"
  }
 },
 "nbformat": 4,
 "nbformat_minor": 5
}
